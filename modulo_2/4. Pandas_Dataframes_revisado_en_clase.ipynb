{
  "nbformat": 4,
  "nbformat_minor": 0,
  "metadata": {
    "colab": {
      "provenance": [],
      "include_colab_link": true
    },
    "kernelspec": {
      "name": "python3",
      "display_name": "Python 3"
    },
    "language_info": {
      "name": "python"
    }
  },
  "cells": [
    {
      "cell_type": "markdown",
      "metadata": {
        "id": "view-in-github",
        "colab_type": "text"
      },
      "source": [
        "<a href=\"https://colab.research.google.com/github/ubillusg/Utec_programacion_2023/blob/main/modulo_2/4.%20Pandas_Dataframes_revisado_en_clase.ipynb\" target=\"_parent\"><img src=\"https://colab.research.google.com/assets/colab-badge.svg\" alt=\"Open In Colab\"/></a>"
      ]
    },
    {
      "cell_type": "markdown",
      "source": [
        "<img src=\"https://www.ctic.uni.edu.pe/wp-content/uploads/2022/04/588px-x-348px-web-1.png\" alt=\"HTML5 Icon\" width=\"900\" height=\"350\" >"
      ],
      "metadata": {
        "id": "inV2ccfgWebA"
      }
    },
    {
      "cell_type": "markdown",
      "source": [
        "<h1 align=center><font size = 5> ESTRUCTURAS DE DATOS - PANDAS DATAFRAMES\n",
        "</font></h1>\n",
        "\n",
        "---"
      ],
      "metadata": {
        "id": "C8hWGHjoWhA8"
      }
    },
    {
      "cell_type": "markdown",
      "source": [
        "## Tabla de Contenidos\n",
        "\n",
        "<div class=\"alert alert-block alert-info\" style=\"margin-top: 20px\">\n",
        "\n",
        "<font size = 3>\n",
        "    \n",
        "1. <a href=\"#item31\">Series en Pandas</a>  \n",
        "2. <a href=\"#item32\">DataFrames en Pandas</a>  \n",
        "3. <a href=\"#item33\">Indexación y selección de datos en DataFrames</a>  \n",
        "4. <a href=\"#item34\">Limpieza y manipulación de datos</a>  \n",
        "\n",
        "</font>\n",
        "</div>\n",
        "\n",
        "---"
      ],
      "metadata": {
        "id": "YdCZFf-kkwQV"
      }
    },
    {
      "cell_type": "markdown",
      "source": [
        "## 1. Series en Pandas\n",
        "\n"
      ],
      "metadata": {
        "id": "2QIsQr0NW5pr"
      }
    },
    {
      "cell_type": "markdown",
      "source": [
        "* Es una estructura de datos unidimensional que puede contener datos de cualquier tipo (enteros, flotantes, cadenas, etc.). Es similar a una columna en una tabla o una matriz unidimensional, y se utiliza para representar y manipular conjuntos de datos unidimensionales.\n",
        "\n",
        "* Una Serie consta de dos componentes principales: los datos y el índice. Los datos representan los valores almacenados en la Serie, mientras que el índice es una etiqueta asociada a cada elemento de los datos que permite identificar y acceder a ellos de manera eficiente."
      ],
      "metadata": {
        "id": "vBGjiaw5bXu7"
      }
    },
    {
      "cell_type": "markdown",
      "source": [
        "### Creación de Series"
      ],
      "metadata": {
        "id": "lZLenRbMdg1J"
      }
    },
    {
      "cell_type": "markdown",
      "source": [
        "Crear una Serie a partir de una lista:"
      ],
      "metadata": {
        "id": "YK6uS4L6Yndc"
      }
    },
    {
      "cell_type": "code",
      "source": [
        "import pandas as pd\n"
      ],
      "metadata": {
        "id": "VVee8jzaIEcG"
      },
      "execution_count": null,
      "outputs": []
    },
    {
      "cell_type": "code",
      "source": [
        "# pd.Series()\n",
        "\n",
        "datos = [10, 20, 30, 40, 50]\n",
        "serie = pd.Series([10, 20, 30, 40, 50])\n",
        "print(serie)"
      ],
      "metadata": {
        "colab": {
          "base_uri": "https://localhost:8080/"
        },
        "id": "4RjSrSjbYmNu",
        "outputId": "7f0a8f95-8152-434b-8565-aace53af3aab"
      },
      "execution_count": null,
      "outputs": [
        {
          "output_type": "stream",
          "name": "stdout",
          "text": [
            "0    10\n",
            "1    20\n",
            "2    30\n",
            "3    40\n",
            "4    50\n",
            "dtype: int64\n"
          ]
        }
      ]
    },
    {
      "cell_type": "code",
      "source": [
        "type(serie)"
      ],
      "metadata": {
        "colab": {
          "base_uri": "https://localhost:8080/"
        },
        "id": "riRq1uRNIUxJ",
        "outputId": "7c866a31-b93b-44b3-ba90-ebc43830dab0"
      },
      "execution_count": null,
      "outputs": [
        {
          "output_type": "execute_result",
          "data": {
            "text/plain": [
              "pandas.core.series.Series"
            ]
          },
          "metadata": {},
          "execution_count": 4
        }
      ]
    },
    {
      "cell_type": "markdown",
      "source": [
        "Crear una Serie a partir de un diccionario:"
      ],
      "metadata": {
        "id": "g-P3dX-5Ytnd"
      }
    },
    {
      "cell_type": "code",
      "source": [
        "datos = {'a': 10,\n",
        "         'b': 20,\n",
        "         'c': 30,\n",
        "         'd': 40,\n",
        "         'e': 50}\n",
        "\n",
        "serie = pd.Series(datos)\n",
        "print(serie)\n"
      ],
      "metadata": {
        "colab": {
          "base_uri": "https://localhost:8080/"
        },
        "id": "LFfVRnRKYqjd",
        "outputId": "40b4e4e0-7fe4-46ee-df19-94fa2291363e"
      },
      "execution_count": null,
      "outputs": [
        {
          "output_type": "stream",
          "name": "stdout",
          "text": [
            "a    10\n",
            "b    20\n",
            "c    30\n",
            "d    40\n",
            "e    50\n",
            "dtype: int64\n"
          ]
        }
      ]
    },
    {
      "cell_type": "code",
      "source": [
        "my_dict = {'john' : 100,\n",
        "           'luis' : 200,\n",
        "           'heidy': 300}\n",
        "\n",
        "my_serie = pd.Series(my_dict)\n",
        "print(my_serie)\n"
      ],
      "metadata": {
        "colab": {
          "base_uri": "https://localhost:8080/"
        },
        "id": "hvs08UKTJrH7",
        "outputId": "3ca37b42-ab2d-4c04-ed8c-261931ea6f61"
      },
      "execution_count": null,
      "outputs": [
        {
          "output_type": "stream",
          "name": "stdout",
          "text": [
            "john     100\n",
            "luis     200\n",
            "heidy    300\n",
            "dtype: int64\n"
          ]
        }
      ]
    },
    {
      "cell_type": "markdown",
      "source": [
        "Crear una Serie con etiquetas personalizadas:"
      ],
      "metadata": {
        "id": "EXbEbXK5Y9st"
      }
    },
    {
      "cell_type": "code",
      "source": [
        "nombres = ['john', 'luis',  'heidy']\n",
        "valores = [100, 200, 300]\n",
        "\n",
        "pd.Series(valores, index = nombres)\n"
      ],
      "metadata": {
        "colab": {
          "base_uri": "https://localhost:8080/"
        },
        "id": "iABkidZrJ-yw",
        "outputId": "217ff4c2-cf88-4d62-cac3-447ed9eba49a"
      },
      "execution_count": null,
      "outputs": [
        {
          "output_type": "execute_result",
          "data": {
            "text/plain": [
              "john     100\n",
              "luis     200\n",
              "heidy    300\n",
              "dtype: int64"
            ]
          },
          "metadata": {},
          "execution_count": 12
        }
      ]
    },
    {
      "cell_type": "code",
      "source": [
        "#tanto valores como indices deben coincidir en tamaño\n",
        "\n",
        "datos = [10, 20, 30, 40, 50]\n",
        "etiquetas = ['A', 'B', 'C', 'D', 'E']\n",
        "\n",
        "serie = pd.Series(datos, index=etiquetas)\n",
        "print(serie)"
      ],
      "metadata": {
        "colab": {
          "base_uri": "https://localhost:8080/"
        },
        "id": "xK_fpO1iY9Ub",
        "outputId": "d3202129-9548-404b-91eb-b4b72d363b02"
      },
      "execution_count": null,
      "outputs": [
        {
          "output_type": "stream",
          "name": "stdout",
          "text": [
            "A    10\n",
            "B    20\n",
            "C    30\n",
            "D    40\n",
            "E    50\n",
            "dtype: int64\n"
          ]
        }
      ]
    },
    {
      "cell_type": "markdown",
      "source": [
        "Crear una Serie a partir de un arreglo de NumPy:"
      ],
      "metadata": {
        "id": "d_wa0HYSaBdu"
      }
    },
    {
      "cell_type": "code",
      "source": [
        "import numpy as np\n",
        "\n",
        "arreglo = np.array([10, 20, 30, 40, 50])\n",
        "arreglo"
      ],
      "metadata": {
        "colab": {
          "base_uri": "https://localhost:8080/"
        },
        "id": "pM-WtXb3aClQ",
        "outputId": "ed7e770f-9d03-4ab3-a53a-cba142fb5720"
      },
      "execution_count": null,
      "outputs": [
        {
          "output_type": "execute_result",
          "data": {
            "text/plain": [
              "array([10, 20, 30, 40, 50])"
            ]
          },
          "metadata": {},
          "execution_count": 18
        }
      ]
    },
    {
      "cell_type": "code",
      "source": [
        "serie = pd.Series(arreglo)\n",
        "print(serie)\n"
      ],
      "metadata": {
        "colab": {
          "base_uri": "https://localhost:8080/"
        },
        "id": "6HT350MbK-Qb",
        "outputId": "af4dd5b8-7788-4492-f905-59e709d7bea3"
      },
      "execution_count": null,
      "outputs": [
        {
          "output_type": "stream",
          "name": "stdout",
          "text": [
            "0    10\n",
            "1    20\n",
            "2    30\n",
            "3    40\n",
            "4    50\n",
            "dtype: int64\n"
          ]
        }
      ]
    },
    {
      "cell_type": "markdown",
      "source": [
        "**Ejercicio 0**\n",
        "\n",
        "Pruebe crear una serie de pandas utilizando una tupla como input"
      ],
      "metadata": {
        "id": "RcsYxZX6LHLc"
      }
    },
    {
      "cell_type": "code",
      "source": [
        "#pd.Series(data, index)\n",
        "\n",
        "pd.Series(index = ('a', 'w', 'c'), data = (10, 7777, 30))\n"
      ],
      "metadata": {
        "colab": {
          "base_uri": "https://localhost:8080/"
        },
        "id": "rVsmSI-eMWuB",
        "outputId": "94d8e5f9-71ec-4bab-a3b0-1ff7d3a93e77"
      },
      "execution_count": null,
      "outputs": [
        {
          "output_type": "execute_result",
          "data": {
            "text/plain": [
              "a      10\n",
              "w    7777\n",
              "c      30\n",
              "dtype: int64"
            ]
          },
          "metadata": {},
          "execution_count": 29
        }
      ]
    },
    {
      "cell_type": "code",
      "source": [
        "pd.Series((10, 20, 30), index = ('a', 'b', 'c'))"
      ],
      "metadata": {
        "colab": {
          "base_uri": "https://localhost:8080/"
        },
        "id": "VOqp1VW0MC9b",
        "outputId": "ea9f4595-80e9-4db2-df1c-b09358526cd2"
      },
      "execution_count": null,
      "outputs": [
        {
          "output_type": "execute_result",
          "data": {
            "text/plain": [
              "0    10\n",
              "1    20\n",
              "2    30\n",
              "dtype: int64"
            ]
          },
          "metadata": {},
          "execution_count": 22
        }
      ]
    },
    {
      "cell_type": "markdown",
      "source": [
        "<b> Ejercicio 1 </b>\n",
        "\n",
        "Crear una Serie con los siguientes datos y mostrarla por pantalla:\n",
        "\n",
        "* Datos: [25, 10, 15, 30, 20]\n",
        "* Índices: ['A', 'B', 'C', 'D', 'E']"
      ],
      "metadata": {
        "id": "qLMaVn56bmUW"
      }
    },
    {
      "cell_type": "markdown",
      "source": [
        "\n",
        "<b> Ejercicio 2 </b>\n",
        "\n",
        "Crear una Serie con nombres de ciudades como índices y sus respectivas poblaciones como datos."
      ],
      "metadata": {
        "id": "hL-Ji6M4b8n-"
      }
    },
    {
      "cell_type": "code",
      "source": [
        "my_dict = {'Lima'    :  9_674_755,\n",
        "           'Trujillo':    919_899,\n",
        "           'Arequipa':  1_000_008}\n",
        "\n",
        "pd.Series(my_dict)\n",
        "\n"
      ],
      "metadata": {
        "colab": {
          "base_uri": "https://localhost:8080/"
        },
        "id": "k3GVVz4zNGj2",
        "outputId": "0ca5ec18-4a61-44d6-84eb-a49461943907"
      },
      "execution_count": null,
      "outputs": [
        {
          "output_type": "execute_result",
          "data": {
            "text/plain": [
              "Lima        9674755\n",
              "Trujillo    1000008\n",
              "dtype: int64"
            ]
          },
          "metadata": {},
          "execution_count": 35
        }
      ]
    },
    {
      "cell_type": "code",
      "source": [
        "# Es posible tener indices duplicados en pandas, sin embargo no es recomendable debido a que genera conflictos\n",
        "\n",
        "poblacion = [500, 300, 200]\n",
        "ciudad = ['A', 'B', 'B']\n",
        "serie = pd.Series(poblacion,ciudad)\n",
        "print(serie)\n"
      ],
      "metadata": {
        "colab": {
          "base_uri": "https://localhost:8080/"
        },
        "id": "qxNl1YDOOToe",
        "outputId": "0f2ef974-3d3c-4909-f409-f7cd59b464b7"
      },
      "execution_count": null,
      "outputs": [
        {
          "output_type": "stream",
          "name": "stdout",
          "text": [
            "A    500\n",
            "B    300\n",
            "B    200\n",
            "dtype: int64\n"
          ]
        }
      ]
    },
    {
      "cell_type": "markdown",
      "source": [
        "### Indexación y selección de datos"
      ],
      "metadata": {
        "id": "QygSkvocdSPn"
      }
    },
    {
      "cell_type": "code",
      "source": [
        "import pandas as pd\n",
        "\n",
        "datos = [10, 20, 30, 40, 50]\n",
        "etiquetas = ['A', 'B', 'C', 'D', 'E']\n",
        "\n",
        "serie = pd.Series(datos, index = etiquetas)\n",
        "print(serie)"
      ],
      "metadata": {
        "colab": {
          "base_uri": "https://localhost:8080/"
        },
        "id": "YhXbSYPidSc9",
        "outputId": "f474b577-b923-46d4-f075-ed9a4ee99707"
      },
      "execution_count": null,
      "outputs": [
        {
          "output_type": "stream",
          "name": "stdout",
          "text": [
            "A    10\n",
            "B    20\n",
            "C    30\n",
            "D    40\n",
            "E    50\n",
            "dtype: int64\n"
          ]
        }
      ]
    },
    {
      "cell_type": "markdown",
      "source": [
        "Acceder a un elemento específico utilizando una etiqueta:"
      ],
      "metadata": {
        "id": "_ky-DMKGfP9S"
      }
    },
    {
      "cell_type": "code",
      "source": [
        "serie['E']"
      ],
      "metadata": {
        "colab": {
          "base_uri": "https://localhost:8080/"
        },
        "id": "zItVP3Z_PLTc",
        "outputId": "12a7fe77-4cd2-4eac-a1b9-7a259572de9e"
      },
      "execution_count": null,
      "outputs": [
        {
          "output_type": "execute_result",
          "data": {
            "text/plain": [
              "50"
            ]
          },
          "metadata": {},
          "execution_count": 39
        }
      ]
    },
    {
      "cell_type": "code",
      "source": [
        "print(serie['B'])"
      ],
      "metadata": {
        "id": "XgLUsuyle9k2"
      },
      "execution_count": null,
      "outputs": []
    },
    {
      "cell_type": "markdown",
      "source": [
        "Acceder a varios elementos utilizando una lista de etiquetas:"
      ],
      "metadata": {
        "id": "G6eGDtsxfN8A"
      }
    },
    {
      "cell_type": "code",
      "source": [
        "serie[['A', 'B']]\n"
      ],
      "metadata": {
        "colab": {
          "base_uri": "https://localhost:8080/"
        },
        "id": "jrNwGLGzPRb7",
        "outputId": "b405a894-2a6a-471b-dd61-767bb29fb509"
      },
      "execution_count": null,
      "outputs": [
        {
          "output_type": "execute_result",
          "data": {
            "text/plain": [
              "A    10\n",
              "B    20\n",
              "dtype: int64"
            ]
          },
          "metadata": {},
          "execution_count": 40
        }
      ]
    },
    {
      "cell_type": "code",
      "source": [
        "print(serie[['A', 'C', 'E']])"
      ],
      "metadata": {
        "id": "ozPguP_bfDfR"
      },
      "execution_count": null,
      "outputs": []
    },
    {
      "cell_type": "markdown",
      "source": [
        "Acceder a elementos utilizando indexación basada en posición:"
      ],
      "metadata": {
        "id": "IG2p8I8DfZAe"
      }
    },
    {
      "cell_type": "code",
      "source": [
        "serie[2]"
      ],
      "metadata": {
        "colab": {
          "base_uri": "https://localhost:8080/"
        },
        "id": "h7fV39orPdrW",
        "outputId": "2488a4fc-2327-4bdb-b3aa-d6b13144372a"
      },
      "execution_count": null,
      "outputs": [
        {
          "output_type": "execute_result",
          "data": {
            "text/plain": [
              "30"
            ]
          },
          "metadata": {},
          "execution_count": 42
        }
      ]
    },
    {
      "cell_type": "code",
      "source": [
        "serie[2:3+1]"
      ],
      "metadata": {
        "colab": {
          "base_uri": "https://localhost:8080/"
        },
        "id": "j9OlC_WOPgfw",
        "outputId": "35fab88e-7cbd-4b6b-beca-9c6e5376834e"
      },
      "execution_count": null,
      "outputs": [
        {
          "output_type": "execute_result",
          "data": {
            "text/plain": [
              "C    30\n",
              "D    40\n",
              "dtype: int64"
            ]
          },
          "metadata": {},
          "execution_count": 43
        }
      ]
    },
    {
      "cell_type": "code",
      "source": [
        "print(serie[1])  # Acceder al segundo elemento\n",
        "print(serie[1:4])  # Acceder a un rango de elementos (exclusivo)"
      ],
      "metadata": {
        "colab": {
          "base_uri": "https://localhost:8080/"
        },
        "id": "EhU2_s2Ffbwh",
        "outputId": "d1c2d645-c264-44ef-b649-715df2ece6de"
      },
      "execution_count": null,
      "outputs": [
        {
          "output_type": "stream",
          "name": "stdout",
          "text": [
            "20\n",
            "B    20\n",
            "C    30\n",
            "D    40\n",
            "dtype: int64\n"
          ]
        }
      ]
    },
    {
      "cell_type": "markdown",
      "source": [
        "Acceder a elementos utilizando una condición:"
      ],
      "metadata": {
        "id": "priuGnZBfgl2"
      }
    },
    {
      "cell_type": "code",
      "source": [
        "serie[serie > 20]"
      ],
      "metadata": {
        "colab": {
          "base_uri": "https://localhost:8080/"
        },
        "id": "WuIA3GiSP4S4",
        "outputId": "81717bdf-5354-4c8c-c67e-fcac291f5c31"
      },
      "execution_count": null,
      "outputs": [
        {
          "output_type": "execute_result",
          "data": {
            "text/plain": [
              "C    30\n",
              "D    40\n",
              "E    50\n",
              "dtype: int64"
            ]
          },
          "metadata": {},
          "execution_count": 48
        }
      ]
    },
    {
      "cell_type": "code",
      "source": [
        "print(serie[serie > 30])\n"
      ],
      "metadata": {
        "id": "cS166o-2fiQz"
      },
      "execution_count": null,
      "outputs": []
    },
    {
      "cell_type": "code",
      "source": [
        "\n",
        "serie = pd.Series(range(1,11))\n",
        "\n",
        "serie[serie%3 == 0]"
      ],
      "metadata": {
        "colab": {
          "base_uri": "https://localhost:8080/"
        },
        "id": "2N9D-ARPQQyS",
        "outputId": "6020486e-06eb-4e4c-bc36-57992ed18304"
      },
      "execution_count": null,
      "outputs": [
        {
          "output_type": "execute_result",
          "data": {
            "text/plain": [
              "2    3\n",
              "5    6\n",
              "8    9\n",
              "dtype: int64"
            ]
          },
          "metadata": {},
          "execution_count": 53
        }
      ]
    },
    {
      "cell_type": "code",
      "source": [
        "serie[(serie%3 == 0) | (serie > 3)]"
      ],
      "metadata": {
        "colab": {
          "base_uri": "https://localhost:8080/"
        },
        "id": "BF6ps1WDQvTo",
        "outputId": "cfa7dffe-6cef-4fd7-a956-40b95ebac27a"
      },
      "execution_count": null,
      "outputs": [
        {
          "output_type": "execute_result",
          "data": {
            "text/plain": [
              "2     3\n",
              "3     4\n",
              "4     5\n",
              "5     6\n",
              "6     7\n",
              "7     8\n",
              "8     9\n",
              "9    10\n",
              "dtype: int64"
            ]
          },
          "metadata": {},
          "execution_count": 57
        }
      ]
    },
    {
      "cell_type": "code",
      "source": [
        "serie[(serie%3 == 0) & (serie > 3)]"
      ],
      "metadata": {
        "colab": {
          "base_uri": "https://localhost:8080/"
        },
        "id": "vRG1FPpCQ-2F",
        "outputId": "824bb050-e78e-4bb4-e887-c1798d0e9be7"
      },
      "execution_count": null,
      "outputs": [
        {
          "output_type": "execute_result",
          "data": {
            "text/plain": [
              "5    6\n",
              "8    9\n",
              "dtype: int64"
            ]
          },
          "metadata": {},
          "execution_count": 58
        }
      ]
    },
    {
      "cell_type": "code",
      "source": [
        "\n",
        "serie_2 = pd.Series([True, False, True, False, True, False, True, False, True, False])\n",
        "serie = pd.Series(range(1,11))\n",
        "\n",
        "serie[serie_2]\n"
      ],
      "metadata": {
        "colab": {
          "base_uri": "https://localhost:8080/"
        },
        "id": "tqcWXG-LRDeO",
        "outputId": "f352eaf2-2b2f-4d88-8670-104501c875c4"
      },
      "execution_count": null,
      "outputs": [
        {
          "output_type": "execute_result",
          "data": {
            "text/plain": [
              "0    1\n",
              "2    3\n",
              "4    5\n",
              "6    7\n",
              "8    9\n",
              "dtype: int64"
            ]
          },
          "metadata": {},
          "execution_count": 63
        }
      ]
    },
    {
      "cell_type": "code",
      "source": [
        "serie = pd.Series(range(1,11))\n",
        "serie"
      ],
      "metadata": {
        "colab": {
          "base_uri": "https://localhost:8080/"
        },
        "id": "VCzz7FBHR2vb",
        "outputId": "13c48ac7-fed7-459f-93b1-03e05e9cc6b3"
      },
      "execution_count": null,
      "outputs": [
        {
          "output_type": "execute_result",
          "data": {
            "text/plain": [
              "0     1\n",
              "1     2\n",
              "2     3\n",
              "3     4\n",
              "4     5\n",
              "5     6\n",
              "6     7\n",
              "7     8\n",
              "8     9\n",
              "9    10\n",
              "dtype: int64"
            ]
          },
          "metadata": {},
          "execution_count": 61
        }
      ]
    },
    {
      "cell_type": "code",
      "source": [],
      "metadata": {
        "id": "pIKYOO1WRDXD"
      },
      "execution_count": null,
      "outputs": []
    },
    {
      "cell_type": "markdown",
      "source": [
        "<b> Ejercicio 1 </b>\n",
        "\n",
        "Crear una Serie con nombres de ciudades como índices y sus respectivas poblaciones como datos. Luego, seleccionar las ciudades con población superior a 1 millón."
      ],
      "metadata": {
        "id": "IGYji8fbfm2D"
      }
    },
    {
      "cell_type": "code",
      "source": [
        "ciudades = {'Lima': 11_000_000,\n",
        "            'Trujillo': 2_000_000,\n",
        "            'Arequipa': 2_500_000,\n",
        "            'Pucallpa': 500000}\n",
        "\n",
        "serie = pd.Series(ciudades)\n",
        "print(serie[serie > 1000000])"
      ],
      "metadata": {
        "colab": {
          "base_uri": "https://localhost:8080/"
        },
        "id": "rxrHVTA8T6Tn",
        "outputId": "d989b647-88a8-4229-e6d8-4c5cbeb6d7e7"
      },
      "execution_count": null,
      "outputs": [
        {
          "output_type": "stream",
          "name": "stdout",
          "text": [
            "Lima        11000000\n",
            "Trujillo     2000000\n",
            "Arequipa     2500000\n",
            "dtype: int64\n"
          ]
        }
      ]
    },
    {
      "cell_type": "markdown",
      "source": [
        "<b> Ejercicio 2 </b>\n",
        "\n",
        "Sobre el mismo ejercicio extraiga el registro de dos ciudades específicas (usted decida cuáles)."
      ],
      "metadata": {
        "id": "4pRKldJGgJL1"
      }
    },
    {
      "cell_type": "code",
      "source": [
        "serie[['Lima', 'Trujillo']]"
      ],
      "metadata": {
        "colab": {
          "base_uri": "https://localhost:8080/"
        },
        "id": "b6PtOXULUKpc",
        "outputId": "3896d850-ee65-4647-a1ab-ba205c06f266"
      },
      "execution_count": null,
      "outputs": [
        {
          "output_type": "execute_result",
          "data": {
            "text/plain": [
              "Lima        11000000\n",
              "Trujillo     2000000\n",
              "dtype: int64"
            ]
          },
          "metadata": {},
          "execution_count": 69
        }
      ]
    },
    {
      "cell_type": "code",
      "source": [
        "serie[1:3]"
      ],
      "metadata": {
        "colab": {
          "base_uri": "https://localhost:8080/"
        },
        "id": "KF2mMgBFUf45",
        "outputId": "a5c15fea-0478-4b40-fe81-a67419b4d812"
      },
      "execution_count": null,
      "outputs": [
        {
          "output_type": "execute_result",
          "data": {
            "text/plain": [
              "Trujillo    2000000\n",
              "Arequipa    2500000\n",
              "dtype: int64"
            ]
          },
          "metadata": {},
          "execution_count": 70
        }
      ]
    },
    {
      "cell_type": "code",
      "source": [
        "serie"
      ],
      "metadata": {
        "colab": {
          "base_uri": "https://localhost:8080/"
        },
        "id": "jgjdIp4yUy4F",
        "outputId": "6e8ff72c-60c5-4676-8953-2f51a4914f0d"
      },
      "execution_count": null,
      "outputs": [
        {
          "output_type": "execute_result",
          "data": {
            "text/plain": [
              "Lima        11000000\n",
              "Trujillo     2000000\n",
              "Arequipa     2500000\n",
              "Pucallpa      500000\n",
              "dtype: int64"
            ]
          },
          "metadata": {},
          "execution_count": 71
        }
      ]
    },
    {
      "cell_type": "code",
      "source": [
        "serie[[0,2,3]]"
      ],
      "metadata": {
        "colab": {
          "base_uri": "https://localhost:8080/"
        },
        "id": "ZapboiMwUv9x",
        "outputId": "88c8af84-6ef1-4c99-f193-23cd578e193d"
      },
      "execution_count": null,
      "outputs": [
        {
          "output_type": "execute_result",
          "data": {
            "text/plain": [
              "Lima        11000000\n",
              "Arequipa     2500000\n",
              "Pucallpa      500000\n",
              "dtype: int64"
            ]
          },
          "metadata": {},
          "execution_count": 78
        }
      ]
    },
    {
      "cell_type": "code",
      "source": [
        "\n",
        "serie.iloc[[1, 2, 3]]"
      ],
      "metadata": {
        "colab": {
          "base_uri": "https://localhost:8080/"
        },
        "id": "4xelux25VMNL",
        "outputId": "981ae390-94d1-4a58-ce08-698ef3dcf3dc"
      },
      "execution_count": null,
      "outputs": [
        {
          "output_type": "execute_result",
          "data": {
            "text/plain": [
              "Trujillo    2000000\n",
              "Arequipa    2500000\n",
              "Pucallpa     500000\n",
              "dtype: int64"
            ]
          },
          "metadata": {},
          "execution_count": 80
        }
      ]
    },
    {
      "cell_type": "code",
      "source": [
        "\n",
        "serie.loc[[True, False, True, True]]"
      ],
      "metadata": {
        "colab": {
          "base_uri": "https://localhost:8080/"
        },
        "id": "9lfT6YwFVgI7",
        "outputId": "f6ef8bc7-d7c3-4f3b-9de6-02fc9ae146cc"
      },
      "execution_count": null,
      "outputs": [
        {
          "output_type": "execute_result",
          "data": {
            "text/plain": [
              "Lima        11000000\n",
              "Arequipa     2500000\n",
              "Pucallpa      500000\n",
              "dtype: int64"
            ]
          },
          "metadata": {},
          "execution_count": 81
        }
      ]
    },
    {
      "cell_type": "code",
      "source": [
        "\n",
        "serie = pd.Series(range(1, 21))\n",
        "\n",
        "a = serie >= 10\n",
        "b = serie%3 == 0\n",
        "\n",
        "serie[a & b]\n",
        "serie.loc[a & b]\n",
        "\n"
      ],
      "metadata": {
        "colab": {
          "base_uri": "https://localhost:8080/"
        },
        "id": "Jqo-wJMqV5XG",
        "outputId": "d61378f7-c965-47c4-9d87-a46bd5d7cb42"
      },
      "execution_count": null,
      "outputs": [
        {
          "output_type": "execute_result",
          "data": {
            "text/plain": [
              "11    12\n",
              "14    15\n",
              "17    18\n",
              "dtype: int64"
            ]
          },
          "metadata": {},
          "execution_count": 90
        }
      ]
    },
    {
      "cell_type": "code",
      "source": [
        "serie[0]"
      ],
      "metadata": {
        "colab": {
          "base_uri": "https://localhost:8080/"
        },
        "id": "1lfICz5NUOaK",
        "outputId": "2970e920-e086-44ba-dffa-030c1ff9055f"
      },
      "execution_count": null,
      "outputs": [
        {
          "output_type": "execute_result",
          "data": {
            "text/plain": [
              "11000000"
            ]
          },
          "metadata": {},
          "execution_count": 68
        }
      ]
    },
    {
      "cell_type": "markdown",
      "source": [
        "### Operaciones básicas con Series"
      ],
      "metadata": {
        "id": "Zb-sr2VcdkNA"
      }
    },
    {
      "cell_type": "code",
      "source": [
        "import pandas as pd\n",
        "\n",
        "serie1 = pd.Series([10, 20, 30, 40, 50])\n",
        "serie2 = pd.Series([5, 15, 25, 35, 45])\n"
      ],
      "metadata": {
        "id": "i-9F7xWIdns5"
      },
      "execution_count": null,
      "outputs": []
    },
    {
      "cell_type": "markdown",
      "source": [
        "Sumar dos Series:\n"
      ],
      "metadata": {
        "id": "pcrmAFAVguAu"
      }
    },
    {
      "cell_type": "code",
      "source": [
        "suma = serie1 + serie2\n",
        "print(suma)"
      ],
      "metadata": {
        "colab": {
          "base_uri": "https://localhost:8080/"
        },
        "id": "bm8xwMtXgqOr",
        "outputId": "b12d83cb-6a1a-40de-bef1-48937be11eab"
      },
      "execution_count": null,
      "outputs": [
        {
          "output_type": "stream",
          "name": "stdout",
          "text": [
            "0    15\n",
            "1    35\n",
            "2    55\n",
            "3    75\n",
            "4    95\n",
            "dtype: int64\n"
          ]
        }
      ]
    },
    {
      "cell_type": "markdown",
      "source": [
        "Restar dos Series:\n"
      ],
      "metadata": {
        "id": "fi7DdhIHgyU4"
      }
    },
    {
      "cell_type": "code",
      "source": [
        "resta = serie1 - serie2\n",
        "print(resta)"
      ],
      "metadata": {
        "colab": {
          "base_uri": "https://localhost:8080/"
        },
        "id": "-zh6bEyygxBd",
        "outputId": "98e91f5e-c22d-4832-9b7d-5ec7c5f20332"
      },
      "execution_count": null,
      "outputs": [
        {
          "output_type": "stream",
          "name": "stdout",
          "text": [
            "0    5\n",
            "1    5\n",
            "2    5\n",
            "3    5\n",
            "4    5\n",
            "dtype: int64\n"
          ]
        }
      ]
    },
    {
      "cell_type": "markdown",
      "source": [
        "Multiplicar una Serie por un escalar:\n"
      ],
      "metadata": {
        "id": "86xHbj_Eg4qd"
      }
    },
    {
      "cell_type": "code",
      "source": [
        "multiplicacion = serie1 * 2\n",
        "print(multiplicacion)"
      ],
      "metadata": {
        "colab": {
          "base_uri": "https://localhost:8080/"
        },
        "id": "DyW6K_f_g2vY",
        "outputId": "186b400c-f602-4f18-bfd5-9731d8feafe9"
      },
      "execution_count": null,
      "outputs": [
        {
          "output_type": "stream",
          "name": "stdout",
          "text": [
            "0     20\n",
            "1     40\n",
            "2     60\n",
            "3     80\n",
            "4    100\n",
            "dtype: int64\n"
          ]
        }
      ]
    },
    {
      "cell_type": "markdown",
      "source": [
        "Dividir una Serie por otra:\n"
      ],
      "metadata": {
        "id": "cWTbM-7tkkRx"
      }
    },
    {
      "cell_type": "code",
      "source": [
        "division = serie1 / serie2\n",
        "print(division)"
      ],
      "metadata": {
        "colab": {
          "base_uri": "https://localhost:8080/"
        },
        "id": "WKS9P_QRkksk",
        "outputId": "9f78b3c2-3e79-4421-dde3-d3a0a15393cc"
      },
      "execution_count": null,
      "outputs": [
        {
          "output_type": "stream",
          "name": "stdout",
          "text": [
            "0    2.000000\n",
            "1    1.333333\n",
            "2    1.200000\n",
            "3    1.142857\n",
            "4    1.111111\n",
            "dtype: float64\n"
          ]
        }
      ]
    },
    {
      "cell_type": "markdown",
      "source": [
        "Calcular el cuadrado de una Serie:\n"
      ],
      "metadata": {
        "id": "ljymSHbqg2BN"
      }
    },
    {
      "cell_type": "code",
      "source": [
        "cuadrado = serie1 ** 2\n",
        "print(cuadrado)"
      ],
      "metadata": {
        "colab": {
          "base_uri": "https://localhost:8080/"
        },
        "id": "3kiSebXWg-Cz",
        "outputId": "52683f33-a9ae-4a00-83ca-2999fb9dc0d6"
      },
      "execution_count": null,
      "outputs": [
        {
          "output_type": "stream",
          "name": "stdout",
          "text": [
            "0     100\n",
            "1     400\n",
            "2     900\n",
            "3    1600\n",
            "4    2500\n",
            "dtype: int64\n"
          ]
        }
      ]
    },
    {
      "cell_type": "markdown",
      "source": [
        "Calcular la raíz cuadrada de una Serie:\n"
      ],
      "metadata": {
        "id": "qFbz_9GnhEvy"
      }
    },
    {
      "cell_type": "code",
      "source": [
        "import numpy as np\n",
        "\n",
        "raiz_cuadrada = np.sqrt(serie1)\n",
        "print(raiz_cuadrada)"
      ],
      "metadata": {
        "colab": {
          "base_uri": "https://localhost:8080/"
        },
        "id": "ql3nPxVjhGfP",
        "outputId": "836c046a-e634-4781-8cb6-221abb5aa5ee"
      },
      "execution_count": null,
      "outputs": [
        {
          "output_type": "stream",
          "name": "stdout",
          "text": [
            "0    3.162278\n",
            "1    4.472136\n",
            "2    5.477226\n",
            "3    6.324555\n",
            "4    7.071068\n",
            "dtype: float64\n"
          ]
        }
      ]
    },
    {
      "cell_type": "code",
      "source": [
        "# Aplicamos la funcion logaritmo a nuestra serie\n",
        "\n",
        "np.log(serie1)"
      ],
      "metadata": {
        "colab": {
          "base_uri": "https://localhost:8080/"
        },
        "id": "1DRzE2bMXhgW",
        "outputId": "ac9faaf4-3b31-4b34-8042-bc16e4e62e8b"
      },
      "execution_count": null,
      "outputs": [
        {
          "output_type": "execute_result",
          "data": {
            "text/plain": [
              "0    2.302585\n",
              "1    2.995732\n",
              "2    3.401197\n",
              "3    3.688879\n",
              "4    3.912023\n",
              "dtype: float64"
            ]
          },
          "metadata": {},
          "execution_count": 99
        }
      ]
    },
    {
      "cell_type": "code",
      "source": [
        "# (x + x**2)*log(x)\n",
        "\n",
        "(serie1 + serie1**2)*np.log(serie1)\n"
      ],
      "metadata": {
        "colab": {
          "base_uri": "https://localhost:8080/"
        },
        "id": "cnSKFq2EYLiN",
        "outputId": "904bdfd3-b4b0-4e11-d86d-d53bcc52b71c"
      },
      "execution_count": null,
      "outputs": [
        {
          "output_type": "execute_result",
          "data": {
            "text/plain": [
              "0     253.284360\n",
              "1    1258.207555\n",
              "2    3163.113565\n",
              "3    6049.762305\n",
              "4    9975.658664\n",
              "dtype: float64"
            ]
          },
          "metadata": {},
          "execution_count": 100
        }
      ]
    },
    {
      "cell_type": "markdown",
      "source": [
        "### Apply lambda\n"
      ],
      "metadata": {
        "id": "q9-cOTKQYvOl"
      }
    },
    {
      "cell_type": "code",
      "source": [
        "serie1.apply(lambda x: x**2)"
      ],
      "metadata": {
        "colab": {
          "base_uri": "https://localhost:8080/"
        },
        "id": "U-TCziVdYz1A",
        "outputId": "092cc3dd-f43a-46d2-9523-e244f5ef574a"
      },
      "execution_count": null,
      "outputs": [
        {
          "output_type": "execute_result",
          "data": {
            "text/plain": [
              "0     100\n",
              "1     400\n",
              "2     900\n",
              "3    1600\n",
              "4    2500\n",
              "dtype: int64"
            ]
          },
          "metadata": {},
          "execution_count": 101
        }
      ]
    },
    {
      "cell_type": "code",
      "source": [
        "from math import exp\n",
        "serie1.apply(lambda x: 1/(1 + exp(x)))\n"
      ],
      "metadata": {
        "colab": {
          "base_uri": "https://localhost:8080/"
        },
        "id": "38WkIdN8ZWOO",
        "outputId": "b3ef8e54-f243-40b4-9ef9-8f1e889ebf3f"
      },
      "execution_count": null,
      "outputs": [
        {
          "output_type": "execute_result",
          "data": {
            "text/plain": [
              "0    4.539787e-05\n",
              "1    2.061154e-09\n",
              "2    9.357623e-14\n",
              "3    4.248354e-18\n",
              "4    1.928750e-22\n",
              "dtype: float64"
            ]
          },
          "metadata": {},
          "execution_count": 102
        }
      ]
    },
    {
      "cell_type": "code",
      "source": [
        "serie1.apply(lambda x: 1/(1 + exp(x)) if x > 10 else 0)"
      ],
      "metadata": {
        "colab": {
          "base_uri": "https://localhost:8080/"
        },
        "id": "fEUQ-GptZ7pj",
        "outputId": "f230617f-c416-4344-8767-de235d41f6e5"
      },
      "execution_count": null,
      "outputs": [
        {
          "output_type": "execute_result",
          "data": {
            "text/plain": [
              "0    0.000000e+00\n",
              "1    2.061154e-09\n",
              "2    9.357623e-14\n",
              "3    4.248354e-18\n",
              "4    1.928750e-22\n",
              "dtype: float64"
            ]
          },
          "metadata": {},
          "execution_count": 103
        }
      ]
    },
    {
      "cell_type": "code",
      "source": [
        "\n",
        "serie1.apply(lambda x: my_func(x))\n"
      ],
      "metadata": {
        "id": "ZAOj_fK5aBnA"
      },
      "execution_count": null,
      "outputs": []
    },
    {
      "cell_type": "code",
      "source": [
        "# aplica una transformacion a la serie de tal manera que se reemplace 'mas de 18' si tiene mayor o igual de 18 años\n",
        "# o 'menos de 18' si tiene menos de 18 años\n",
        "\n",
        "serie = pd.Series([17, 25, 23, 12, 45, 34, 22, 19, 76])\n",
        "\n",
        "def evaluador_age(y):\n",
        "  if y >= 18:\n",
        "    return 'Más de 18'\n",
        "  else:\n",
        "    return 'Menos de 18'\n",
        "\n",
        "serie2 = serie.apply(lambda x: evaluador_age(x))\n",
        "serie2\n"
      ],
      "metadata": {
        "colab": {
          "base_uri": "https://localhost:8080/"
        },
        "id": "JuNBMgF3aK44",
        "outputId": "e852f2fd-a209-4356-db31-e3e7517a40a1"
      },
      "execution_count": null,
      "outputs": [
        {
          "output_type": "execute_result",
          "data": {
            "text/plain": [
              "0    Menos de 18\n",
              "1      Más de 18\n",
              "2      Más de 18\n",
              "3    Menos de 18\n",
              "4      Más de 18\n",
              "5      Más de 18\n",
              "6      Más de 18\n",
              "7      Más de 18\n",
              "8      Más de 18\n",
              "dtype: object"
            ]
          },
          "metadata": {},
          "execution_count": 107
        }
      ]
    },
    {
      "cell_type": "code",
      "source": [
        "evaluador_age(serie)"
      ],
      "metadata": {
        "colab": {
          "base_uri": "https://localhost:8080/",
          "height": 312
        },
        "id": "W2MUphjwbvzo",
        "outputId": "1f7f6864-da55-440c-b9c1-9a2bd071dafb"
      },
      "execution_count": null,
      "outputs": [
        {
          "output_type": "error",
          "ename": "ValueError",
          "evalue": "ignored",
          "traceback": [
            "\u001b[0;31m---------------------------------------------------------------------------\u001b[0m",
            "\u001b[0;31mValueError\u001b[0m                                Traceback (most recent call last)",
            "\u001b[0;32m<ipython-input-109-615f02af11f7>\u001b[0m in \u001b[0;36m<cell line: 1>\u001b[0;34m()\u001b[0m\n\u001b[0;32m----> 1\u001b[0;31m \u001b[0mevaluador_age\u001b[0m\u001b[0;34m(\u001b[0m\u001b[0mserie\u001b[0m\u001b[0;34m)\u001b[0m\u001b[0;34m\u001b[0m\u001b[0;34m\u001b[0m\u001b[0m\n\u001b[0m",
            "\u001b[0;32m<ipython-input-107-a3b6fba582c3>\u001b[0m in \u001b[0;36mevaluador_age\u001b[0;34m(y)\u001b[0m\n\u001b[1;32m      5\u001b[0m \u001b[0;34m\u001b[0m\u001b[0m\n\u001b[1;32m      6\u001b[0m \u001b[0;32mdef\u001b[0m \u001b[0mevaluador_age\u001b[0m\u001b[0;34m(\u001b[0m\u001b[0my\u001b[0m\u001b[0;34m)\u001b[0m\u001b[0;34m:\u001b[0m\u001b[0;34m\u001b[0m\u001b[0;34m\u001b[0m\u001b[0m\n\u001b[0;32m----> 7\u001b[0;31m   \u001b[0;32mif\u001b[0m \u001b[0my\u001b[0m \u001b[0;34m>=\u001b[0m \u001b[0;36m18\u001b[0m\u001b[0;34m:\u001b[0m\u001b[0;34m\u001b[0m\u001b[0;34m\u001b[0m\u001b[0m\n\u001b[0m\u001b[1;32m      8\u001b[0m     \u001b[0;32mreturn\u001b[0m \u001b[0;34m'Más de 18'\u001b[0m\u001b[0;34m\u001b[0m\u001b[0;34m\u001b[0m\u001b[0m\n\u001b[1;32m      9\u001b[0m   \u001b[0;32melse\u001b[0m\u001b[0;34m:\u001b[0m\u001b[0;34m\u001b[0m\u001b[0;34m\u001b[0m\u001b[0m\n",
            "\u001b[0;32m/usr/local/lib/python3.10/dist-packages/pandas/core/generic.py\u001b[0m in \u001b[0;36m__nonzero__\u001b[0;34m(self)\u001b[0m\n\u001b[1;32m   1525\u001b[0m     \u001b[0;34m@\u001b[0m\u001b[0mfinal\u001b[0m\u001b[0;34m\u001b[0m\u001b[0;34m\u001b[0m\u001b[0m\n\u001b[1;32m   1526\u001b[0m     \u001b[0;32mdef\u001b[0m \u001b[0m__nonzero__\u001b[0m\u001b[0;34m(\u001b[0m\u001b[0mself\u001b[0m\u001b[0;34m)\u001b[0m \u001b[0;34m->\u001b[0m \u001b[0mNoReturn\u001b[0m\u001b[0;34m:\u001b[0m\u001b[0;34m\u001b[0m\u001b[0;34m\u001b[0m\u001b[0m\n\u001b[0;32m-> 1527\u001b[0;31m         raise ValueError(\n\u001b[0m\u001b[1;32m   1528\u001b[0m             \u001b[0;34mf\"The truth value of a {type(self).__name__} is ambiguous. \"\u001b[0m\u001b[0;34m\u001b[0m\u001b[0;34m\u001b[0m\u001b[0m\n\u001b[1;32m   1529\u001b[0m             \u001b[0;34m\"Use a.empty, a.bool(), a.item(), a.any() or a.all().\"\u001b[0m\u001b[0;34m\u001b[0m\u001b[0;34m\u001b[0m\u001b[0m\n",
            "\u001b[0;31mValueError\u001b[0m: The truth value of a Series is ambiguous. Use a.empty, a.bool(), a.item(), a.any() or a.all()."
          ]
        }
      ]
    },
    {
      "cell_type": "code",
      "source": [],
      "metadata": {
        "id": "mtHCEKGQbvUi"
      },
      "execution_count": null,
      "outputs": []
    },
    {
      "cell_type": "markdown",
      "source": [
        "Operaciones de tipo str"
      ],
      "metadata": {
        "id": "9lQ6qDSsmY6Q"
      }
    },
    {
      "cell_type": "code",
      "source": [
        "datos = ['John', 'Luis', 'Pablo', 'Cesar']\n",
        "serie = pd.Series(datos)\n",
        "serie.str.lower()\n"
      ],
      "metadata": {
        "colab": {
          "base_uri": "https://localhost:8080/"
        },
        "id": "4dIupV7ocfSU",
        "outputId": "61fd5ad0-b30b-48fe-ff1c-ad37f47b9c5b"
      },
      "execution_count": null,
      "outputs": [
        {
          "output_type": "execute_result",
          "data": {
            "text/plain": [
              "0     john\n",
              "1     luis\n",
              "2    pablo\n",
              "3    cesar\n",
              "dtype: object"
            ]
          },
          "metadata": {},
          "execution_count": 112
        }
      ]
    },
    {
      "cell_type": "code",
      "source": [
        "serie.apply(lambda x: x.lower())"
      ],
      "metadata": {
        "colab": {
          "base_uri": "https://localhost:8080/"
        },
        "id": "Wn0_Q5NnctB_",
        "outputId": "5fe8b272-6f7d-43cf-8c7a-90e1305e6557"
      },
      "execution_count": null,
      "outputs": [
        {
          "output_type": "execute_result",
          "data": {
            "text/plain": [
              "0     john\n",
              "1     luis\n",
              "2    pablo\n",
              "3    cesar\n",
              "dtype: object"
            ]
          },
          "metadata": {},
          "execution_count": 113
        }
      ]
    },
    {
      "cell_type": "code",
      "source": [
        "datos = ['John', 'Luis', 'Pablo', 'Cesar']\n",
        "serie = pd.Series(datos)\n",
        "serie = serie.str.lower()\n",
        "\n",
        "print(serie)"
      ],
      "metadata": {
        "id": "sAXh8NjCmZLA"
      },
      "execution_count": null,
      "outputs": []
    },
    {
      "cell_type": "code",
      "source": [
        "datos = ['john', 'luis', 'pablo', 'cesar']\n",
        "serie = pd.Series(datos)\n",
        "serie = serie.str.upper()\n",
        "\n",
        "print(serie)"
      ],
      "metadata": {
        "colab": {
          "base_uri": "https://localhost:8080/"
        },
        "id": "yRkIEmHImoQb",
        "outputId": "c04c4570-3cb1-4e02-95b4-732d5a793f65"
      },
      "execution_count": null,
      "outputs": [
        {
          "output_type": "stream",
          "name": "stdout",
          "text": [
            "0     JOHN\n",
            "1     LUIS\n",
            "2    PABLO\n",
            "3    CESAR\n",
            "dtype: object\n"
          ]
        }
      ]
    },
    {
      "cell_type": "code",
      "source": [
        "datos = ['john', 'luis', 'pablo', 'cesar']\n",
        "serie = pd.Series(datos)\n",
        "serie = serie.str.capitalize()\n",
        "\n",
        "print(serie)"
      ],
      "metadata": {
        "colab": {
          "base_uri": "https://localhost:8080/"
        },
        "id": "E7gMCHcNms4C",
        "outputId": "399814e5-42f2-49ab-df9f-b7912d978e61"
      },
      "execution_count": null,
      "outputs": [
        {
          "output_type": "stream",
          "name": "stdout",
          "text": [
            "0     John\n",
            "1     Luis\n",
            "2    Pablo\n",
            "3    Cesar\n",
            "dtype: object\n"
          ]
        }
      ]
    },
    {
      "cell_type": "markdown",
      "source": [
        "Algunas operaciones estadísticas"
      ],
      "metadata": {
        "id": "sTYZ2k23nQEO"
      }
    },
    {
      "cell_type": "code",
      "source": [
        "datos = [2, 4, 2, 5, 1, 3]\n",
        "serie = pd.Series(datos)\n",
        "\n",
        "serie\n"
      ],
      "metadata": {
        "colab": {
          "base_uri": "https://localhost:8080/"
        },
        "id": "iXmC5YuFc-b1",
        "outputId": "ee997adf-d04d-4f7f-fb02-9b4594cd19fd"
      },
      "execution_count": null,
      "outputs": [
        {
          "output_type": "execute_result",
          "data": {
            "text/plain": [
              "0    2\n",
              "1    4\n",
              "2    2\n",
              "3    5\n",
              "4    1\n",
              "5    3\n",
              "dtype: int64"
            ]
          },
          "metadata": {},
          "execution_count": 116
        }
      ]
    },
    {
      "cell_type": "code",
      "source": [
        "serie.mean()"
      ],
      "metadata": {
        "colab": {
          "base_uri": "https://localhost:8080/"
        },
        "id": "OnoDqbXVdCej",
        "outputId": "985089d1-0c4b-4361-af8f-9db2c768d027"
      },
      "execution_count": null,
      "outputs": [
        {
          "output_type": "execute_result",
          "data": {
            "text/plain": [
              "2.8333333333333335"
            ]
          },
          "metadata": {},
          "execution_count": 118
        }
      ]
    },
    {
      "cell_type": "code",
      "source": [
        "serie.std()"
      ],
      "metadata": {
        "colab": {
          "base_uri": "https://localhost:8080/"
        },
        "id": "TT4V-pGgdnpE",
        "outputId": "70611b16-955b-4278-9b69-fcf1bb416f02"
      },
      "execution_count": null,
      "outputs": [
        {
          "output_type": "execute_result",
          "data": {
            "text/plain": [
              "1.4719601443879746"
            ]
          },
          "metadata": {},
          "execution_count": 119
        }
      ]
    },
    {
      "cell_type": "code",
      "source": [
        "\n",
        "datos = [2, 4, 2, 5, 1, 3]\n",
        "serie = pd.Series(datos)\n",
        "\n",
        "media = serie.mean()\n",
        "desviacion_estandar = serie.std()\n",
        "\n",
        "print(\"Media:\", media)\n",
        "print(\"Desviación estándar:\", desviacion_estandar)"
      ],
      "metadata": {
        "id": "RwcODv3xnIbV"
      },
      "execution_count": null,
      "outputs": []
    },
    {
      "cell_type": "code",
      "source": [
        "serie.describe()"
      ],
      "metadata": {
        "colab": {
          "base_uri": "https://localhost:8080/"
        },
        "id": "jcV2hnzYdvWZ",
        "outputId": "6fe23823-f1c0-4757-e90c-c5f510b2c9d9"
      },
      "execution_count": null,
      "outputs": [
        {
          "output_type": "execute_result",
          "data": {
            "text/plain": [
              "count    6.000000\n",
              "mean     2.833333\n",
              "std      1.471960\n",
              "min      1.000000\n",
              "25%      2.000000\n",
              "50%      2.500000\n",
              "75%      3.750000\n",
              "max      5.000000\n",
              "dtype: float64"
            ]
          },
          "metadata": {},
          "execution_count": 120
        }
      ]
    },
    {
      "cell_type": "code",
      "source": [
        "serie.hist()\n"
      ],
      "metadata": {
        "colab": {
          "base_uri": "https://localhost:8080/",
          "height": 447
        },
        "id": "_lxNhPlmeXdQ",
        "outputId": "18e713e5-2409-403c-e3d8-f352455320a0"
      },
      "execution_count": null,
      "outputs": [
        {
          "output_type": "execute_result",
          "data": {
            "text/plain": [
              "<Axes: >"
            ]
          },
          "metadata": {},
          "execution_count": 121
        },
        {
          "output_type": "display_data",
          "data": {
            "text/plain": [
              "<Figure size 640x480 with 1 Axes>"
            ],
            "image/png": "[encoded data removed]"
          },
          "metadata": {}
        }
      ]
    },
    {
      "cell_type": "code",
      "source": [
        "serie.tolist()"
      ],
      "metadata": {
        "colab": {
          "base_uri": "https://localhost:8080/"
        },
        "id": "sRw4F-xlfeLk",
        "outputId": "bbc61b81-eb5d-4940-8b99-c4c8c6184faf"
      },
      "execution_count": null,
      "outputs": [
        {
          "output_type": "execute_result",
          "data": {
            "text/plain": [
              "[2, 4, 2, 5, 1, 3]"
            ]
          },
          "metadata": {},
          "execution_count": 123
        }
      ]
    },
    {
      "cell_type": "markdown",
      "source": [
        "**Ejercicio 1**\n",
        "\n",
        "Crear una Serie con números enteros del 1 al 10 como índices y sus respectivos cuadrados como datos."
      ],
      "metadata": {
        "id": "2aKoNn1tj0mF"
      }
    },
    {
      "cell_type": "markdown",
      "source": [
        "**Ejercicio 2**\n",
        "\n",
        "Crear dos Series con los siguientes datos y luego sumarlas.\n",
        "\n",
        "> Serie 1: [10, 20, 30, 40, 50]\n",
        ">\n",
        "> Serie 2: [5, 15, 25, 35, 45]"
      ],
      "metadata": {
        "id": "tcuJ80MZkAaN"
      }
    },
    {
      "cell_type": "markdown",
      "source": [
        "**Ejercicio 3**\n",
        "\n",
        "Crear una Serie a partir de una lista de cadenas y convertir todas las letras a minúsculas.\n",
        "\n",
        "Datos: ['Manzana', 'Banana', 'Naranja', 'Pera']"
      ],
      "metadata": {
        "id": "ZDkN7x-FlaNu"
      }
    },
    {
      "cell_type": "markdown",
      "source": [
        "**Ejercicio 4**\n",
        "\n",
        "Crear una Serie con los siguientes datos y calcular la media y la desviación estándar.\n",
        "\n",
        "Datos: [15, 22, 18, 25, 20]"
      ],
      "metadata": {
        "id": "1avhdEZOlzp4"
      }
    },
    {
      "cell_type": "markdown",
      "source": [
        "**Ejercicio 5**\n",
        "\n",
        "Crear una Serie a partir de una lista y reemplazar un valor específico por otro.\n",
        "\n",
        "Datos: [5, 10, 15, 20, 25]\n",
        "Reemplazar el valor 15 por 30."
      ],
      "metadata": {
        "id": "7_v-1dgkmAI7"
      }
    },
    {
      "cell_type": "markdown",
      "source": [
        "**Ejercicio 6**\n",
        "\n",
        "Crear una Serie con los siguientes datos y mostrar los valores únicos.\n",
        "\n",
        "Datos: ['manzana', 'pera', 'manzana', 'plátano', 'manzana', 'pera']"
      ],
      "metadata": {
        "id": "4NmjRIkUmJgf"
      }
    },
    {
      "cell_type": "markdown",
      "source": [
        "**Ejercicio obligatorio**\n",
        "\n",
        "Cree una serie de pandas con 1,000 valores aleatorios con distribución normal, luego grafique este resultado utilizando pandas hist\n"
      ],
      "metadata": {
        "id": "2q9_rjhMepV7"
      }
    },
    {
      "cell_type": "markdown",
      "source": [
        "random.norm"
      ],
      "metadata": {
        "id": "1zyGJRokfAfK"
      }
    },
    {
      "cell_type": "code",
      "source": [],
      "metadata": {
        "id": "oEFTFLJWe9tI"
      },
      "execution_count": null,
      "outputs": []
    },
    {
      "cell_type": "markdown",
      "source": [
        "## 2. DataFrames en Pandas"
      ],
      "metadata": {
        "id": "ho99ogOXXERi"
      }
    },
    {
      "cell_type": "markdown",
      "source": [
        "* Es una estructura de datos bidimensional que se utiliza para almacenar y manipular datos.\n",
        "* Se puede pensar en un DataFrame como una tabla en una base de datos o una hoja de cálculo en Excel.\n",
        "* Está compuesto por filas y columnas, donde cada columna puede contener datos de un tipo diferente (enteros, flotantes, cadenas, etc.).\n",
        "\n",
        "Un DataFrame en Pandas se puede crear de varias formas, pero comúnmente se utiliza para almacenar datos provenientes de archivos CSV, bases de datos o mediante la combinación de otras estructuras de datos, como Series."
      ],
      "metadata": {
        "id": "atDJsK1vnnTk"
      }
    },
    {
      "cell_type": "markdown",
      "source": [
        "### Creación de DataFrames"
      ],
      "metadata": {
        "id": "dtH7DVj_dsYj"
      }
    },
    {
      "cell_type": "markdown",
      "source": [
        "### Carga de datos desde diferentes fuentes (CSV, Excel, SQL, etc.)"
      ],
      "metadata": {
        "id": "8lEMRLv-duqQ"
      }
    },
    {
      "cell_type": "markdown",
      "source": [
        "### Exploración y manipulación de DataFrames"
      ],
      "metadata": {
        "id": "smRAmlIWd4HY"
      }
    },
    {
      "cell_type": "code",
      "source": [],
      "metadata": {
        "id": "QtcfHZ6Gd2K8"
      },
      "execution_count": null,
      "outputs": []
    },
    {
      "cell_type": "markdown",
      "source": [
        "## 3. Indexación y selección de datos en DataFrames"
      ],
      "metadata": {
        "id": "pvd9q3w1XP8R"
      }
    },
    {
      "cell_type": "markdown",
      "source": [
        "## 4. Limpieza y manipulación de datos"
      ],
      "metadata": {
        "id": "vWDGyChMXgGk"
      }
    },
    {
      "cell_type": "markdown",
      "source": [
        "## 5. Operaciones y transformaciones en DataFrames"
      ],
      "metadata": {
        "id": "skqbT7c7XjM-"
      }
    },
    {
      "cell_type": "markdown",
      "source": [
        "## 6. Visualización de datos con Pandas"
      ],
      "metadata": {
        "id": "b0lm-YkdXmyd"
      }
    },
    {
      "cell_type": "code",
      "execution_count": null,
      "metadata": {
        "id": "W7oAbzKbVhwa"
      },
      "outputs": [],
      "source": []
    },
    {
      "cell_type": "markdown",
      "source": [
        "---\n",
        "\n",
        "# Gracias por completar este laboratorio!\n",
        "\n",
        "---\n",
        "\n"
      ],
      "metadata": {
        "id": "oTLHpID8er3c"
      }
    }
  ]
}