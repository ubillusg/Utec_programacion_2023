{
  "nbformat": 4,
  "nbformat_minor": 0,
  "metadata": {
    "colab": {
      "provenance": [],
      "include_colab_link": true
    },
    "kernelspec": {
      "name": "python3",
      "display_name": "Python 3"
    },
    "language_info": {
      "name": "python"
    }
  },
  "cells": [
    {
      "cell_type": "markdown",
      "metadata": {
        "id": "view-in-github",
        "colab_type": "text"
      },
      "source": [
        "<a href=\"https://colab.research.google.com/github/ubillusg/Utec_programacion_2023/blob/main/modulo_2/3.%20Numpy%20I_revisado_en_clase.ipynb\" target=\"_parent\"><img src=\"https://colab.research.google.com/assets/colab-badge.svg\" alt=\"Open In Colab\"/></a>"
      ]
    },
    {
      "cell_type": "markdown",
      "source": [
        "<img src=\"https://www.ctic.uni.edu.pe/wp-content/uploads/2022/04/588px-x-348px-web-1.png\" alt=\"HTML5 Icon\" width=\"900\" height=\"350\" >"
      ],
      "metadata": {
        "id": "E_ZHW3fmVS4E"
      }
    },
    {
      "cell_type": "markdown",
      "source": [
        "<h1 align=center><font size = 5> Numpy - Parte I\n",
        "</font></h1>\n",
        "\n",
        "---"
      ],
      "metadata": {
        "id": "11DUCa4NVXVE"
      }
    },
    {
      "cell_type": "markdown",
      "source": [
        "## Tabla de Contenidos\n",
        "\n",
        "<div class=\"alert alert-block alert-info\" style=\"margin-top: 20px\">\n",
        "\n",
        "<font size = 3>\n",
        "    \n",
        "1. <a href=\"#item31\">Trabajando con arrays </a>\n",
        "2. <a href=\"#item31\">Algebra Matricial con arrays</a>  \n",
        "\n",
        "</font>\n",
        "</div>\n",
        "\n",
        "---"
      ],
      "metadata": {
        "id": "y0BfNj-RyguL"
      }
    },
    {
      "cell_type": "markdown",
      "source": [
        "# 1. Trabajando con Arrays"
      ],
      "metadata": {
        "id": "fY5fHyw61UB5"
      }
    },
    {
      "cell_type": "code",
      "source": [
        "import numpy as np"
      ],
      "metadata": {
        "id": "lxq5w0k_Zodd"
      },
      "execution_count": null,
      "outputs": []
    },
    {
      "cell_type": "code",
      "source": [
        "#importando numpy\n",
        "import numpy as np"
      ],
      "metadata": {
        "id": "f1NmzUpsUrcj"
      },
      "execution_count": null,
      "outputs": []
    },
    {
      "cell_type": "code",
      "source": [
        "type(np.array([30, 25, 33, 24, 28, 32]))\n",
        "\n",
        "\n"
      ],
      "metadata": {
        "id": "NgUkhSOWZxm6",
        "outputId": "1174dc86-9069-4caf-8675-0c3052c21d40",
        "colab": {
          "base_uri": "https://localhost:8080/"
        }
      },
      "execution_count": null,
      "outputs": [
        {
          "output_type": "execute_result",
          "data": {
            "text/plain": [
              "numpy.ndarray"
            ]
          },
          "metadata": {},
          "execution_count": 15
        }
      ]
    },
    {
      "cell_type": "code",
      "source": [
        "np.array(['john', 'marco', 'diego'])"
      ],
      "metadata": {
        "id": "hVGB7B5KakJd",
        "outputId": "e4c7793b-2b6c-47a5-8c9e-d13b566953cb",
        "colab": {
          "base_uri": "https://localhost:8080/"
        }
      },
      "execution_count": null,
      "outputs": [
        {
          "output_type": "execute_result",
          "data": {
            "text/plain": [
              "array(['john', 'marco', 'diego'], dtype='<U5')"
            ]
          },
          "metadata": {},
          "execution_count": 18
        }
      ]
    },
    {
      "cell_type": "code",
      "source": [
        "np.array([30, 25, 33, 24, 28, 32])"
      ],
      "metadata": {
        "id": "I5_dLemGawx0",
        "outputId": "066a19f1-d814-42b5-c896-c41e0c437ec1",
        "colab": {
          "base_uri": "https://localhost:8080/"
        }
      },
      "execution_count": null,
      "outputs": [
        {
          "output_type": "execute_result",
          "data": {
            "text/plain": [
              "array([30, 25, 33, 24, 28, 32])"
            ]
          },
          "metadata": {},
          "execution_count": 20
        }
      ]
    },
    {
      "cell_type": "code",
      "source": [
        "np.array([30, 25, 33, 24, 28, 32],\n",
        "         [ 8,  3, 10,  1,  5,  9])"
      ],
      "metadata": {
        "id": "oknnQMTFabAG",
        "outputId": "97e175b6-4906-4939-e405-7c9b41de39f7",
        "colab": {
          "base_uri": "https://localhost:8080/",
          "height": 184
        }
      },
      "execution_count": null,
      "outputs": [
        {
          "output_type": "error",
          "ename": "TypeError",
          "evalue": "ignored",
          "traceback": [
            "\u001b[0;31m---------------------------------------------------------------------------\u001b[0m",
            "\u001b[0;31mTypeError\u001b[0m                                 Traceback (most recent call last)",
            "\u001b[0;32m<ipython-input-21-6444bf482625>\u001b[0m in \u001b[0;36m<cell line: 1>\u001b[0;34m()\u001b[0m\n\u001b[0;32m----> 1\u001b[0;31m np.array([30, 25, 33, 24, 28, 32],\n\u001b[0m\u001b[1;32m      2\u001b[0m          [8, 3, 10, 1, 5, 9])\n",
            "\u001b[0;31mTypeError\u001b[0m: Field elements must be 2- or 3-tuples, got '8'"
          ]
        }
      ]
    },
    {
      "cell_type": "code",
      "source": [
        "a = np.array([[30, 25, 33, 24, 28, 38],\n",
        "\n",
        "              [ 8,  3, 10,  1,  5,  9]])\n"
      ],
      "metadata": {
        "id": "DXXKYBvdbdS-"
      },
      "execution_count": null,
      "outputs": []
    },
    {
      "cell_type": "code",
      "source": [
        "a"
      ],
      "metadata": {
        "id": "ssoiQjGMb-c1",
        "outputId": "93e79756-6ade-4eaf-fecd-8d787da18d36",
        "colab": {
          "base_uri": "https://localhost:8080/"
        }
      },
      "execution_count": null,
      "outputs": [
        {
          "output_type": "execute_result",
          "data": {
            "text/plain": [
              "array([list([30, 25, 33, 24, 28]), list([8, 3, 10, 1, 5, 9])],\n",
              "      dtype=object)"
            ]
          },
          "metadata": {},
          "execution_count": 26
        }
      ]
    },
    {
      "cell_type": "code",
      "source": [
        "a = np.array([[[30, 25, 33, 24, 28, 38],\n",
        "               [ 8,  3, 10,  1,  5,  9],\n",
        "               [ 5,  6,  5,  7,  5,  4]],\n",
        "              [[30, 25, 33, 24, 28, 38],\n",
        "               [ 8,  3, 10,  1,  5,  9],\n",
        "               [ 5,  6,  5,  7,  5,  4]]])\n"
      ],
      "metadata": {
        "id": "ycw96biNbkj0"
      },
      "execution_count": null,
      "outputs": []
    },
    {
      "cell_type": "code",
      "source": [
        "a = np.array([[[[1, 2, 3, 4,  5],\n",
        "                [3, 4, 6, 8, 10],\n",
        "                [1, 2, 3, 4,  5],\n",
        "                [3, 4, 6, 8, 10],\n",
        "                [6, 7, 8, 10, 2]],\n",
        "\n",
        "               [[1, 2, 3, 4,  5],\n",
        "                [3, 4, 6, 8, 10],\n",
        "                [1, 2, 3, 4,  5],\n",
        "                [3, 4, 6, 8, 10],\n",
        "                [6, 7, 8, 10, 2]],\n",
        "\n",
        "               [[1, 2, 3, 4,  5],\n",
        "                [3, 4, 6, 8, 10],\n",
        "                [1, 2, 3, 4,  5],\n",
        "                [3, 4, 6, 8, 10],\n",
        "                [6, 7, 8, 10, 2]],\n",
        "\n",
        "               [[1, 2, 3, 4,  5],\n",
        "                [3, 4, 6, 8, 10],\n",
        "                [1, 2, 3, 4,  5],\n",
        "                [3, 4, 6, 8, 10],\n",
        "                [6, 7, 8, 10, 2]],\n",
        "\n",
        "               [[1, 2, 3, 4,  5],\n",
        "                [3, 4, 6, 8, 10],\n",
        "                [1, 2, 3, 4,  5],\n",
        "                [3, 4, 6, 8, 10],\n",
        "                [6, 7, 8, 10, 2]]]])\n",
        "\n",
        "\n",
        "\n",
        "print(a)"
      ],
      "metadata": {
        "id": "gRiUJJzfc_-4",
        "outputId": "5a1624b4-9ea1-47a4-9455-b8541e6982de",
        "colab": {
          "base_uri": "https://localhost:8080/"
        }
      },
      "execution_count": null,
      "outputs": [
        {
          "output_type": "stream",
          "name": "stdout",
          "text": [
            "[[[[ 1  2  3  4  5]\n",
            "   [ 3  4  6  8 10]\n",
            "   [ 1  2  3  4  5]\n",
            "   [ 3  4  6  8 10]\n",
            "   [ 6  7  8 10  2]]\n",
            "\n",
            "  [[ 1  2  3  4  5]\n",
            "   [ 3  4  6  8 10]\n",
            "   [ 1  2  3  4  5]\n",
            "   [ 3  4  6  8 10]\n",
            "   [ 6  7  8 10  2]]\n",
            "\n",
            "  [[ 1  2  3  4  5]\n",
            "   [ 3  4  6  8 10]\n",
            "   [ 1  2  3  4  5]\n",
            "   [ 3  4  6  8 10]\n",
            "   [ 6  7  8 10  2]]\n",
            "\n",
            "  [[ 1  2  3  4  5]\n",
            "   [ 3  4  6  8 10]\n",
            "   [ 1  2  3  4  5]\n",
            "   [ 3  4  6  8 10]\n",
            "   [ 6  7  8 10  2]]\n",
            "\n",
            "  [[ 1  2  3  4  5]\n",
            "   [ 3  4  6  8 10]\n",
            "   [ 1  2  3  4  5]\n",
            "   [ 3  4  6  8 10]\n",
            "   [ 6  7  8 10  2]]]]\n"
          ]
        }
      ]
    },
    {
      "cell_type": "code",
      "source": [
        "# Array de una dimensión\n",
        "a1 = np.array([1, 2, 3])\n",
        "print(a1)"
      ],
      "metadata": {
        "id": "SiPNzB73APBU"
      },
      "execution_count": null,
      "outputs": []
    },
    {
      "cell_type": "code",
      "execution_count": null,
      "metadata": {
        "id": "A2OxEnshtGJD"
      },
      "outputs": [],
      "source": [
        "# Array de dos dimensiones\n",
        "a2 = np.array([[1, 2, 3], [4, 5, 6]])\n",
        "print(a2)"
      ]
    },
    {
      "cell_type": "code",
      "source": [
        "# Array de tres dimensiones\n",
        "a3 = np.array([[[1, 2, 3], [4, 5, 6]], [[7, 8, 9], [10, 11, 12]]])\n",
        "print(a3)"
      ],
      "metadata": {
        "id": "BusmC4LB1gI8"
      },
      "execution_count": null,
      "outputs": []
    },
    {
      "cell_type": "markdown",
      "source": [
        "### Otras formas de crear arrays"
      ],
      "metadata": {
        "id": "VcV6mD36V0Ip"
      }
    },
    {
      "cell_type": "code",
      "source": [
        "np.zeros((2, 2))"
      ],
      "metadata": {
        "id": "v4lFhW1sbg_2"
      },
      "execution_count": null,
      "outputs": []
    },
    {
      "cell_type": "code",
      "source": [
        "np.zeros((2, 2))"
      ],
      "metadata": {
        "colab": {
          "base_uri": "https://localhost:8080/"
        },
        "id": "GdaHfsjpPtTB",
        "outputId": "68d50706-2ca8-4305-81d2-08679eb8d21f"
      },
      "execution_count": null,
      "outputs": [
        {
          "output_type": "execute_result",
          "data": {
            "text/plain": [
              "array([[0., 0.],\n",
              "       [0., 0.]])"
            ]
          },
          "metadata": {},
          "execution_count": 19
        }
      ]
    },
    {
      "cell_type": "code",
      "source": [
        "np.ones((3, 3))"
      ],
      "metadata": {
        "id": "pz_NpJO6brs0",
        "colab": {
          "base_uri": "https://localhost:8080/"
        },
        "outputId": "b0057b44-71bc-42c4-d350-b2bf37bebd95"
      },
      "execution_count": null,
      "outputs": [
        {
          "output_type": "execute_result",
          "data": {
            "text/plain": [
              "array([[1., 1., 1.],\n",
              "       [1., 1., 1.],\n",
              "       [1., 1., 1.]])"
            ]
          },
          "metadata": {},
          "execution_count": 21
        }
      ]
    },
    {
      "cell_type": "code",
      "source": [
        "np.full((3, 3), 99)"
      ],
      "metadata": {
        "id": "7jt7YHcmAahG",
        "outputId": "f7d471b5-3634-4b6e-ee67-51e434043d19",
        "colab": {
          "base_uri": "https://localhost:8080/"
        }
      },
      "execution_count": null,
      "outputs": [
        {
          "output_type": "execute_result",
          "data": {
            "text/plain": [
              "array([[99, 99, 99],\n",
              "       [99, 99, 99],\n",
              "       [99, 99, 99]])"
            ]
          },
          "metadata": {},
          "execution_count": 22
        }
      ]
    },
    {
      "cell_type": "code",
      "source": [
        "\n",
        "np.identity(5)\n"
      ],
      "metadata": {
        "id": "0ufNgmA_b0M4",
        "colab": {
          "base_uri": "https://localhost:8080/"
        },
        "outputId": "826fef77-d918-41a4-82dc-018cb39db3ee"
      },
      "execution_count": null,
      "outputs": [
        {
          "output_type": "execute_result",
          "data": {
            "text/plain": [
              "array([[1., 0., 0., 0., 0.],\n",
              "       [0., 1., 0., 0., 0.],\n",
              "       [0., 0., 1., 0., 0.],\n",
              "       [0., 0., 0., 1., 0.],\n",
              "       [0., 0., 0., 0., 1.]])"
            ]
          },
          "metadata": {},
          "execution_count": 24
        }
      ]
    },
    {
      "cell_type": "code",
      "source": [
        "np.arange(1, 15 + 1, 3)"
      ],
      "metadata": {
        "id": "0ZhBiYJuAfJB",
        "colab": {
          "base_uri": "https://localhost:8080/"
        },
        "outputId": "d7e5d4e1-29fc-499f-cb8d-34a331b5ae6b"
      },
      "execution_count": null,
      "outputs": [
        {
          "output_type": "execute_result",
          "data": {
            "text/plain": [
              "array([ 1,  2,  3,  4,  5,  6,  7,  8,  9, 10, 11, 12, 13, 14, 15])"
            ]
          },
          "metadata": {},
          "execution_count": 28
        }
      ]
    },
    {
      "cell_type": "code",
      "source": [
        "np.arange(1, 15 + 1)"
      ],
      "metadata": {
        "colab": {
          "base_uri": "https://localhost:8080/"
        },
        "id": "vfOEiLL8SIbE",
        "outputId": "66539eb8-ce29-4160-c8bd-e81f8c3d3168"
      },
      "execution_count": null,
      "outputs": [
        {
          "output_type": "execute_result",
          "data": {
            "text/plain": [
              "array([ 1,  2,  3,  4,  5,  6,  7,  8,  9, 10, 11, 12, 13, 14, 15])"
            ]
          },
          "metadata": {},
          "execution_count": 29
        }
      ]
    },
    {
      "cell_type": "code",
      "source": [
        "# linspace(start, end, n) genera n valores entre el valor start y el valor end\n",
        "np.linspace(1, 10, 5)\n"
      ],
      "metadata": {
        "id": "Gd335gxCAjGa",
        "colab": {
          "base_uri": "https://localhost:8080/"
        },
        "outputId": "f7b469a2-a47c-4f3c-8e23-8515b460d416"
      },
      "execution_count": null,
      "outputs": [
        {
          "output_type": "execute_result",
          "data": {
            "text/plain": [
              "array([ 1.  ,  3.25,  5.5 ,  7.75, 10.  ])"
            ]
          },
          "metadata": {},
          "execution_count": 39
        }
      ]
    },
    {
      "cell_type": "code",
      "source": [
        "np.random.random?"
      ],
      "metadata": {
        "id": "RGTNCsl_TN5R"
      },
      "execution_count": null,
      "outputs": []
    },
    {
      "cell_type": "code",
      "source": [
        "np.random.random((3, 3))"
      ],
      "metadata": {
        "id": "H5yuZdfkXMym",
        "colab": {
          "base_uri": "https://localhost:8080/"
        },
        "outputId": "be8bf81e-ff90-4d57-ce80-35b85dc74069"
      },
      "execution_count": null,
      "outputs": [
        {
          "output_type": "execute_result",
          "data": {
            "text/plain": [
              "array([[0.06722171, 0.41097194, 0.71345247],\n",
              "       [0.55150496, 0.13919446, 0.06107904],\n",
              "       [0.92904352, 0.12965094, 0.51380023]])"
            ]
          },
          "metadata": {},
          "execution_count": 49
        }
      ]
    },
    {
      "cell_type": "code",
      "source": [
        "np.random.randint(99)"
      ],
      "metadata": {
        "colab": {
          "base_uri": "https://localhost:8080/"
        },
        "id": "5HidwS2hT1zY",
        "outputId": "82d75eee-bdac-4ad7-eaeb-7d925037975e"
      },
      "execution_count": null,
      "outputs": [
        {
          "output_type": "execute_result",
          "data": {
            "text/plain": [
              "47"
            ]
          },
          "metadata": {},
          "execution_count": 53
        }
      ]
    },
    {
      "cell_type": "code",
      "source": [
        "np.array([np.random.randint(100) for x in range(0,5)])"
      ],
      "metadata": {
        "colab": {
          "base_uri": "https://localhost:8080/"
        },
        "id": "OVzhHVpPUR5N",
        "outputId": "08d9c5c5-9f49-41e8-885e-0e05c04b1a34"
      },
      "execution_count": null,
      "outputs": [
        {
          "output_type": "execute_result",
          "data": {
            "text/plain": [
              "array([35, 13,  8, 89, 99])"
            ]
          },
          "metadata": {},
          "execution_count": 55
        }
      ]
    },
    {
      "cell_type": "markdown",
      "source": [
        "### Atributos de un array"
      ],
      "metadata": {
        "id": "0GbfBGic15oY"
      }
    },
    {
      "cell_type": "code",
      "source": [
        "my_array = np.identity(5)"
      ],
      "metadata": {
        "id": "GVFzNjxVVcWK"
      },
      "execution_count": null,
      "outputs": []
    },
    {
      "cell_type": "code",
      "source": [
        "my_array"
      ],
      "metadata": {
        "id": "SbQ2m5jBXPxJ",
        "outputId": "4e80df1d-b3a1-436d-ccf3-cac6e811ecc4",
        "colab": {
          "base_uri": "https://localhost:8080/"
        }
      },
      "execution_count": null,
      "outputs": [
        {
          "output_type": "execute_result",
          "data": {
            "text/plain": [
              "array([[1., 0., 0., 0., 0.],\n",
              "       [0., 1., 0., 0., 0.],\n",
              "       [0., 0., 1., 0., 0.],\n",
              "       [0., 0., 0., 1., 0.],\n",
              "       [0., 0., 0., 0., 1.]])"
            ]
          },
          "metadata": {},
          "execution_count": 64
        }
      ]
    },
    {
      "cell_type": "code",
      "source": [
        "#Devuelve el número de dimensiones del array\n",
        "my_array.ndim"
      ],
      "metadata": {
        "id": "p4DArzqhCKco",
        "colab": {
          "base_uri": "https://localhost:8080/"
        },
        "outputId": "23c878aa-4e6c-47d3-e7e5-d86bd1327350"
      },
      "execution_count": null,
      "outputs": [
        {
          "output_type": "execute_result",
          "data": {
            "text/plain": [
              "2"
            ]
          },
          "metadata": {},
          "execution_count": 61
        }
      ]
    },
    {
      "cell_type": "code",
      "source": [
        "a.ndim"
      ],
      "metadata": {
        "id": "cfH-sLLcWIAM",
        "outputId": "7d60ee76-22bd-4896-ad7f-ab1236f94f6e",
        "colab": {
          "base_uri": "https://localhost:8080/"
        }
      },
      "execution_count": null,
      "outputs": [
        {
          "output_type": "execute_result",
          "data": {
            "text/plain": [
              "4"
            ]
          },
          "metadata": {},
          "execution_count": 63
        }
      ]
    },
    {
      "cell_type": "code",
      "source": [
        "5"
      ],
      "metadata": {
        "id": "b8SMQrDUWNXB"
      },
      "execution_count": null,
      "outputs": []
    },
    {
      "cell_type": "code",
      "source": [
        "#Devuelve una tupla con las dimensiones del array\n",
        "my_array.shape\n"
      ],
      "metadata": {
        "id": "ndoPuCOaXhuC",
        "colab": {
          "base_uri": "https://localhost:8080/"
        },
        "outputId": "b35ef0ff-2b2a-480d-ddee-3e004194f2a1"
      },
      "execution_count": null,
      "outputs": [
        {
          "output_type": "execute_result",
          "data": {
            "text/plain": [
              "(5, 5)"
            ]
          },
          "metadata": {},
          "execution_count": 66
        }
      ]
    },
    {
      "cell_type": "code",
      "source": [
        "a.shape"
      ],
      "metadata": {
        "id": "Z1UGtosbXX9A",
        "outputId": "7cada9ca-6720-4132-ee52-851fb2c2b74f",
        "colab": {
          "base_uri": "https://localhost:8080/"
        }
      },
      "execution_count": null,
      "outputs": [
        {
          "output_type": "execute_result",
          "data": {
            "text/plain": [
              "(1, 5, 5, 5)"
            ]
          },
          "metadata": {},
          "execution_count": 67
        }
      ]
    },
    {
      "cell_type": "code",
      "source": [
        "a"
      ],
      "metadata": {
        "id": "MvAxW66LXdut"
      },
      "execution_count": null,
      "outputs": []
    },
    {
      "cell_type": "code",
      "source": [
        "#Devuelve el número de elementos del array\n",
        "my_array.size"
      ],
      "metadata": {
        "id": "76MmfeABXj9I",
        "colab": {
          "base_uri": "https://localhost:8080/"
        },
        "outputId": "e3159c2a-37d3-4d06-ffaf-0bd557be91b2"
      },
      "execution_count": null,
      "outputs": [
        {
          "output_type": "execute_result",
          "data": {
            "text/plain": [
              "25"
            ]
          },
          "metadata": {},
          "execution_count": 70
        }
      ]
    },
    {
      "cell_type": "code",
      "source": [
        "a.size"
      ],
      "metadata": {
        "id": "rpDNS25FXxYH",
        "outputId": "4155d90b-4d42-4042-fe79-679f6a27c0fb",
        "colab": {
          "base_uri": "https://localhost:8080/"
        }
      },
      "execution_count": null,
      "outputs": [
        {
          "output_type": "execute_result",
          "data": {
            "text/plain": [
              "125"
            ]
          },
          "metadata": {},
          "execution_count": 71
        }
      ]
    },
    {
      "cell_type": "code",
      "source": [
        "#Devuelve el tipo de datos de los elementos del array\n",
        "a.dtype"
      ],
      "metadata": {
        "id": "iojpwYpIXqvp",
        "colab": {
          "base_uri": "https://localhost:8080/"
        },
        "outputId": "01fc2962-bc9b-46c0-99e9-b0bc313634e5"
      },
      "execution_count": null,
      "outputs": [
        {
          "output_type": "execute_result",
          "data": {
            "text/plain": [
              "dtype('int64')"
            ]
          },
          "metadata": {},
          "execution_count": 72
        }
      ]
    },
    {
      "cell_type": "code",
      "source": [
        "b = np.array(['john', 'jose', 'pablo', 'jose2', 'diegoooooooooooooooooooooooooo'])\n"
      ],
      "metadata": {
        "id": "fdtz20TSYAbc"
      },
      "execution_count": null,
      "outputs": []
    },
    {
      "cell_type": "code",
      "source": [
        "b = np.array(['John', 'Marco'])"
      ],
      "metadata": {
        "id": "W-Lb0V6jYpR-"
      },
      "execution_count": null,
      "outputs": []
    },
    {
      "cell_type": "code",
      "source": [
        "b.dtype"
      ],
      "metadata": {
        "id": "dIF3grC9YH5u",
        "outputId": "03ae9f6d-5ec4-460d-c997-0c811feed806",
        "colab": {
          "base_uri": "https://localhost:8080/"
        }
      },
      "execution_count": null,
      "outputs": [
        {
          "output_type": "execute_result",
          "data": {
            "text/plain": [
              "dtype('<U30')"
            ]
          },
          "metadata": {},
          "execution_count": 91
        }
      ]
    },
    {
      "cell_type": "code",
      "source": [
        "type(5.0)"
      ],
      "metadata": {
        "id": "x7ycXwMiYNOo",
        "outputId": "d6e62746-a2b2-4f0f-f8c4-79d5ee096e98",
        "colab": {
          "base_uri": "https://localhost:8080/"
        }
      },
      "execution_count": null,
      "outputs": [
        {
          "output_type": "execute_result",
          "data": {
            "text/plain": [
              "float"
            ]
          },
          "metadata": {},
          "execution_count": 77
        }
      ]
    },
    {
      "cell_type": "code",
      "source": [
        "type(a)"
      ],
      "metadata": {
        "id": "z_160fDJX51U",
        "outputId": "6293e74b-f914-4d2e-ab9b-21d33aca7de9",
        "colab": {
          "base_uri": "https://localhost:8080/"
        }
      },
      "execution_count": null,
      "outputs": [
        {
          "output_type": "execute_result",
          "data": {
            "text/plain": [
              "numpy.ndarray"
            ]
          },
          "metadata": {},
          "execution_count": 73
        }
      ]
    },
    {
      "cell_type": "code",
      "source": [
        "\n",
        "b = np.array([1_111_111_111_111_111_111, 'ab'])\n",
        "b.dtype\n"
      ],
      "metadata": {
        "id": "-07cuPSWZ1mW",
        "outputId": "cab346a6-b136-40dd-e464-d8a6de6cd9ab",
        "colab": {
          "base_uri": "https://localhost:8080/"
        }
      },
      "execution_count": null,
      "outputs": [
        {
          "output_type": "execute_result",
          "data": {
            "text/plain": [
              "dtype('<U21')"
            ]
          },
          "metadata": {},
          "execution_count": 114
        }
      ]
    },
    {
      "cell_type": "markdown",
      "source": [
        "### Acceder a elementos del array"
      ],
      "metadata": {
        "id": "b3Y8iK2rYUNk"
      }
    },
    {
      "cell_type": "code",
      "source": [
        "a = np.array([[1, 2, 3], [4, 5, 6]])\n",
        "\n",
        "print(a[1, 0])"
      ],
      "metadata": {
        "id": "VxwH2dxTYT2p",
        "colab": {
          "base_uri": "https://localhost:8080/"
        },
        "outputId": "da86ec9c-08e8-4e45-9211-bc468066dfb2"
      },
      "execution_count": null,
      "outputs": [
        {
          "output_type": "stream",
          "name": "stdout",
          "text": [
            "4\n"
          ]
        }
      ]
    },
    {
      "cell_type": "code",
      "source": [
        "# Cuál será la forma de extraer el valor 3 del array\n",
        "\n",
        "a[0, 2]\n"
      ],
      "metadata": {
        "id": "G1LgKFTKbvgH",
        "outputId": "26422dca-04f7-4d47-f445-3f8965a355a2",
        "colab": {
          "base_uri": "https://localhost:8080/"
        }
      },
      "execution_count": null,
      "outputs": [
        {
          "output_type": "execute_result",
          "data": {
            "text/plain": [
              "3"
            ]
          },
          "metadata": {},
          "execution_count": 116
        }
      ]
    },
    {
      "cell_type": "code",
      "source": [
        "# Cuál será la forma de extraer el valor 6 del array\n",
        "a[1, 2]"
      ],
      "metadata": {
        "id": "8Mcz70Okb6bW",
        "outputId": "c082672e-1ec7-4e07-a1e3-8a471522b852",
        "colab": {
          "base_uri": "https://localhost:8080/"
        }
      },
      "execution_count": null,
      "outputs": [
        {
          "output_type": "execute_result",
          "data": {
            "text/plain": [
              "6"
            ]
          },
          "metadata": {},
          "execution_count": 117
        }
      ]
    },
    {
      "cell_type": "code",
      "source": [
        "a = np.array([[[1, 2, 3], [4, 5, 6], [4, 5, 6]],\n",
        "              [[1, 2, 3], [4, 5, 99], [4, 5, 6]]])\n"
      ],
      "metadata": {
        "id": "-9RobPROcsDO"
      },
      "execution_count": null,
      "outputs": []
    },
    {
      "cell_type": "code",
      "source": [
        "a"
      ],
      "metadata": {
        "id": "5ypHHsBgepLh",
        "outputId": "d082ca46-033d-4246-d4e9-9ba8e50135ca",
        "colab": {
          "base_uri": "https://localhost:8080/"
        }
      },
      "execution_count": null,
      "outputs": [
        {
          "output_type": "execute_result",
          "data": {
            "text/plain": [
              "array([[[ 1,  2,  3],\n",
              "        [ 4,  5,  6],\n",
              "        [ 4,  5,  6]],\n",
              "\n",
              "       [[ 1,  2,  3],\n",
              "        [ 4,  5, 99],\n",
              "        [ 4,  5,  6]]])"
            ]
          },
          "metadata": {},
          "execution_count": 131
        }
      ]
    },
    {
      "cell_type": "code",
      "source": [
        "a.shape"
      ],
      "metadata": {
        "id": "90sdcn2newPf",
        "outputId": "6b2b141b-d18a-4a92-f685-f90bf1b8818c",
        "colab": {
          "base_uri": "https://localhost:8080/"
        }
      },
      "execution_count": null,
      "outputs": [
        {
          "output_type": "execute_result",
          "data": {
            "text/plain": [
              "(2, 3, 3)"
            ]
          },
          "metadata": {},
          "execution_count": 132
        }
      ]
    },
    {
      "cell_type": "code",
      "source": [
        "a.ndim"
      ],
      "metadata": {
        "id": "TNfKaWsQfVTh",
        "outputId": "b3c52bdc-7721-4738-a604-3d233f7e5ddd",
        "colab": {
          "base_uri": "https://localhost:8080/"
        }
      },
      "execution_count": null,
      "outputs": [
        {
          "output_type": "execute_result",
          "data": {
            "text/plain": [
              "3"
            ]
          },
          "metadata": {},
          "execution_count": 134
        }
      ]
    },
    {
      "cell_type": "code",
      "source": [
        "a[1, 1, 2]"
      ],
      "metadata": {
        "id": "5P6yMNmwc30e",
        "outputId": "bd8a85ad-4374-4210-9b8d-c3bd8f01f9e1",
        "colab": {
          "base_uri": "https://localhost:8080/"
        }
      },
      "execution_count": null,
      "outputs": [
        {
          "output_type": "execute_result",
          "data": {
            "text/plain": [
              "99"
            ]
          },
          "metadata": {},
          "execution_count": 120
        }
      ]
    },
    {
      "cell_type": "code",
      "source": [
        "a[1][1][2]"
      ],
      "metadata": {
        "id": "XXjY7ayxeCmZ",
        "outputId": "b04b0163-f3e9-45ed-94a9-332d748d6fbf",
        "colab": {
          "base_uri": "https://localhost:8080/"
        }
      },
      "execution_count": null,
      "outputs": [
        {
          "output_type": "execute_result",
          "data": {
            "text/plain": [
              "99"
            ]
          },
          "metadata": {},
          "execution_count": 130
        }
      ]
    },
    {
      "cell_type": "code",
      "source": [
        "a = np.array([[1, 2, 3], [4, 5, 6]])\n",
        "print(a[1][0])\n"
      ],
      "metadata": {
        "id": "TZoWHwO8YeBa",
        "colab": {
          "base_uri": "https://localhost:8080/"
        },
        "outputId": "e67c0bed-b4b7-419e-a8ce-a619f82cf65b"
      },
      "execution_count": null,
      "outputs": [
        {
          "output_type": "stream",
          "name": "stdout",
          "text": [
            "4\n"
          ]
        }
      ]
    },
    {
      "cell_type": "code",
      "source": [
        "a[0][2]"
      ],
      "metadata": {
        "id": "Lrgb7UsHd1UE",
        "outputId": "d82e7e67-7f68-48e0-c6ac-3f420ec48485",
        "colab": {
          "base_uri": "https://localhost:8080/"
        }
      },
      "execution_count": null,
      "outputs": [
        {
          "output_type": "execute_result",
          "data": {
            "text/plain": [
              "3"
            ]
          },
          "metadata": {},
          "execution_count": 125
        }
      ]
    },
    {
      "cell_type": "code",
      "source": [
        "print(a[:, 0:2])"
      ],
      "metadata": {
        "id": "PnAyfn-zYhIt"
      },
      "execution_count": null,
      "outputs": []
    },
    {
      "cell_type": "code",
      "source": [
        "a = np.array([[1, 2, 3, 4, 5], [1, 2, 3, 7, 8]])\n",
        "\n",
        "a[:, 3:]\n"
      ],
      "metadata": {
        "id": "MmTAkk4ZftQV",
        "outputId": "fcc72161-facb-4f54-e0c7-bffa468418e9",
        "colab": {
          "base_uri": "https://localhost:8080/"
        }
      },
      "execution_count": null,
      "outputs": [
        {
          "output_type": "execute_result",
          "data": {
            "text/plain": [
              "array([[4, 5],\n",
              "       [7, 8]])"
            ]
          },
          "metadata": {},
          "execution_count": 147
        }
      ]
    },
    {
      "cell_type": "code",
      "source": [
        "a"
      ],
      "metadata": {
        "id": "S456r2xUg6Ul",
        "outputId": "319106c9-d3eb-4187-d2da-08318cd4d018",
        "colab": {
          "base_uri": "https://localhost:8080/"
        }
      },
      "execution_count": null,
      "outputs": [
        {
          "output_type": "execute_result",
          "data": {
            "text/plain": [
              "array([[1, 2, 3, 4, 5],\n",
              "       [1, 2, 3, 7, 8]])"
            ]
          },
          "metadata": {},
          "execution_count": 145
        }
      ]
    },
    {
      "cell_type": "code",
      "source": [
        "a.shape"
      ],
      "metadata": {
        "id": "AWY0lSg8gaQm",
        "outputId": "c5f1bc5f-cc12-4421-9684-e41da7492d82",
        "colab": {
          "base_uri": "https://localhost:8080/"
        }
      },
      "execution_count": null,
      "outputs": [
        {
          "output_type": "execute_result",
          "data": {
            "text/plain": [
              "(2, 5)"
            ]
          },
          "metadata": {},
          "execution_count": 140
        }
      ]
    },
    {
      "cell_type": "code",
      "source": [
        "a = np.array([[1, 2, 3, 4, 5], [1, 2, 3, 7, 8], [10, 11, 30, 77, 18]])\n",
        "a"
      ],
      "metadata": {
        "id": "PvbeVssqhYgG",
        "outputId": "6b3b2056-cf43-4e57-a8b1-8970e6868d4a",
        "colab": {
          "base_uri": "https://localhost:8080/"
        }
      },
      "execution_count": null,
      "outputs": [
        {
          "output_type": "execute_result",
          "data": {
            "text/plain": [
              "array([[ 1,  2,  3,  4,  5],\n",
              "       [ 1,  2,  3,  7,  8],\n",
              "       [10, 11, 30, 77, 18]])"
            ]
          },
          "metadata": {},
          "execution_count": 148
        }
      ]
    },
    {
      "cell_type": "code",
      "source": [
        "[[ 3,  7],\n",
        " [30, 77]]"
      ],
      "metadata": {
        "id": "gWX5tuBvhh80"
      },
      "execution_count": null,
      "outputs": []
    },
    {
      "cell_type": "code",
      "source": [
        "a.shape"
      ],
      "metadata": {
        "id": "uHyyajTuiDjR",
        "outputId": "dc61d66a-f3f2-499c-e885-04ecb71342ca",
        "colab": {
          "base_uri": "https://localhost:8080/"
        }
      },
      "execution_count": null,
      "outputs": [
        {
          "output_type": "execute_result",
          "data": {
            "text/plain": [
              "(3, 5)"
            ]
          },
          "metadata": {},
          "execution_count": 149
        }
      ]
    },
    {
      "cell_type": "code",
      "source": [
        "a[1:, 2:4]\n"
      ],
      "metadata": {
        "id": "4e0fUl5RjD2H",
        "outputId": "957cd03b-7b71-4cea-e12e-2329bd5265c7",
        "colab": {
          "base_uri": "https://localhost:8080/"
        }
      },
      "execution_count": null,
      "outputs": [
        {
          "output_type": "execute_result",
          "data": {
            "text/plain": [
              "array([[ 3,  7],\n",
              "       [30, 77]])"
            ]
          },
          "metadata": {},
          "execution_count": 150
        }
      ]
    },
    {
      "cell_type": "markdown",
      "source": [
        "### Filtrado de elementos de un array"
      ],
      "metadata": {
        "id": "lcrw2Z0m78lP"
      }
    },
    {
      "cell_type": "code",
      "source": [
        "import numpy as np\n",
        "\n",
        "a = np.array([[1, 2, 3, 8], [4, 5, 6, 7]])\n",
        "res = a[(a > 3) & (a < 8)]\n",
        "\n",
        "res.reshape(1, 4)\n"
      ],
      "metadata": {
        "id": "WhPnIjVffu9s",
        "outputId": "66b87af4-2793-497b-9108-12850af7910b",
        "colab": {
          "base_uri": "https://localhost:8080/"
        }
      },
      "execution_count": null,
      "outputs": [
        {
          "output_type": "execute_result",
          "data": {
            "text/plain": [
              "array([[4, 5, 6, 7]])"
            ]
          },
          "metadata": {},
          "execution_count": 19
        }
      ]
    },
    {
      "cell_type": "code",
      "source": [
        "a.reshape(4, 2)"
      ],
      "metadata": {
        "id": "9Q6eYYSxhL21",
        "outputId": "9ceaa207-29cb-47c6-b4ba-0dabc75c98b0",
        "colab": {
          "base_uri": "https://localhost:8080/"
        }
      },
      "execution_count": null,
      "outputs": [
        {
          "output_type": "execute_result",
          "data": {
            "text/plain": [
              "array([[1, 2],\n",
              "       [3, 8],\n",
              "       [4, 5],\n",
              "       [6, 7]])"
            ]
          },
          "metadata": {},
          "execution_count": 23
        }
      ]
    },
    {
      "cell_type": "code",
      "source": [
        "a[(a > 3)]"
      ],
      "metadata": {
        "id": "3bd9YH2wgYD_",
        "outputId": "87674258-7e9d-4801-facb-8ad7f607acaa",
        "colab": {
          "base_uri": "https://localhost:8080/"
        }
      },
      "execution_count": null,
      "outputs": [
        {
          "output_type": "execute_result",
          "data": {
            "text/plain": [
              "array([8, 4, 5, 6, 7])"
            ]
          },
          "metadata": {},
          "execution_count": 11
        }
      ]
    },
    {
      "cell_type": "code",
      "source": [
        "a = np.array([[1, 2, 3, 8], [4, 5, 6, 7]])\n",
        "\n",
        "temp = a[(a%2 == 0)]\n",
        "\n",
        "temp.reshape(2,2)\n"
      ],
      "metadata": {
        "id": "gDfJ4GRXjZvN",
        "outputId": "21a29485-2aa9-4c44-c363-bed5f9a505d8",
        "colab": {
          "base_uri": "https://localhost:8080/"
        }
      },
      "execution_count": null,
      "outputs": [
        {
          "output_type": "execute_result",
          "data": {
            "text/plain": [
              "array([[2, 8],\n",
              "       [4, 6]])"
            ]
          },
          "metadata": {},
          "execution_count": 159
        }
      ]
    },
    {
      "cell_type": "code",
      "source": [
        "a = a = np.array([[1, 2, 3], [4, 5, 6]])\n",
        "a.shape\n"
      ],
      "metadata": {
        "id": "UEzXDYW3kIlQ",
        "outputId": "682bae86-5e4e-472e-b864-e7dd7eda4ddf",
        "colab": {
          "base_uri": "https://localhost:8080/"
        }
      },
      "execution_count": null,
      "outputs": [
        {
          "output_type": "execute_result",
          "data": {
            "text/plain": [
              "(2, 3)"
            ]
          },
          "metadata": {},
          "execution_count": 154
        }
      ]
    },
    {
      "cell_type": "code",
      "source": [
        "a = np.array([[1, 2, 3], [4, 5, 6]])\n",
        "print(a[(a % 2 == 0) & (a > 2) & (a < 6)])"
      ],
      "metadata": {
        "id": "8AE3fsNL8EtC",
        "colab": {
          "base_uri": "https://localhost:8080/"
        },
        "outputId": "045c64d9-f25d-43cf-8709-9fa782a09af3"
      },
      "execution_count": null,
      "outputs": [
        {
          "output_type": "stream",
          "name": "stdout",
          "text": [
            "[4]\n"
          ]
        }
      ]
    },
    {
      "cell_type": "code",
      "source": [
        "ciudad_1={'nombre':'Lima',\n",
        "          'Pais':'Perú',\n",
        "          'población':'10 MM',\n",
        "          'Hecho':'Tiene el mejor ceviche y está en el mercado el Eden',\n",
        "          }\n",
        "ciudad_2={'nombre':'La Paz',\n",
        "          'Pais':'Bolivia',\n",
        "          'población':'1 MM',\n",
        "          'Hecho':'Tiene la mejor salteña y es la Ortis',\n",
        "          }\n",
        "ciudad_3={'nombre':'Santa Cruz',\n",
        "          'Pais':'Bolivia',\n",
        "          'población':'3 MM',\n",
        "          'Hecho':'Tiene el mejor arroz con queso y esta en la casa del Camba',\n",
        "          }\n",
        "Ciudades = [ciudad_1,ciudad_2,ciudad_3]\n",
        "\n",
        "for ciudad in Ciudades:\n",
        "  print(ciudad.get('nombre'), 'pertenece a', ciudad.get('Pais'), 'tiene una poblacion de', ciudad.get('población'))\n",
        "\n"
      ],
      "metadata": {
        "id": "ETvrkVh8ltoM",
        "outputId": "f20481b0-9d1b-4aac-fc0d-4056490c7e77",
        "colab": {
          "base_uri": "https://localhost:8080/"
        }
      },
      "execution_count": null,
      "outputs": [
        {
          "output_type": "stream",
          "name": "stdout",
          "text": [
            "Lima pertenece a Perú tiene una poblacion de 10 MM\n",
            "La Paz pertenece a Bolivia tiene una poblacion de 1 MM\n",
            "Santa Cruz pertenece a Bolivia tiene una poblacion de 3 MM\n"
          ]
        }
      ]
    },
    {
      "cell_type": "code",
      "source": [
        "print(a[(a % 2 == 0) &  (a > 2)])"
      ],
      "metadata": {
        "id": "5PbY7G5f8JU_"
      },
      "execution_count": null,
      "outputs": []
    },
    {
      "cell_type": "markdown",
      "source": [
        "### Operaciones matemáticas con arrays"
      ],
      "metadata": {
        "id": "9yx9EFua8MJX"
      }
    },
    {
      "cell_type": "code",
      "source": [
        "a = np.array([[1, 2, 3], [4, 5, 6]])\n",
        "b = np.array([[1, 1, 1], [2, 2, 2]])"
      ],
      "metadata": {
        "id": "-NrePFXc8PHD"
      },
      "execution_count": null,
      "outputs": []
    },
    {
      "cell_type": "code",
      "source": [
        "a"
      ],
      "metadata": {
        "id": "pukenMCYhnWS",
        "outputId": "12a63faf-cf6a-4e24-b93f-68fe6246fdf1",
        "colab": {
          "base_uri": "https://localhost:8080/"
        }
      },
      "execution_count": null,
      "outputs": [
        {
          "output_type": "execute_result",
          "data": {
            "text/plain": [
              "array([[1, 2, 3],\n",
              "       [4, 5, 6]])"
            ]
          },
          "metadata": {},
          "execution_count": 25
        }
      ]
    },
    {
      "cell_type": "code",
      "source": [
        "b"
      ],
      "metadata": {
        "id": "omu62l88hqBO",
        "outputId": "1720a6f9-74a9-4b1f-cd82-ea2f65c31461",
        "colab": {
          "base_uri": "https://localhost:8080/"
        }
      },
      "execution_count": null,
      "outputs": [
        {
          "output_type": "execute_result",
          "data": {
            "text/plain": [
              "array([[1, 1, 1],\n",
              "       [2, 2, 2]])"
            ]
          },
          "metadata": {},
          "execution_count": 26
        }
      ]
    },
    {
      "cell_type": "code",
      "source": [
        "print(a + b)"
      ],
      "metadata": {
        "id": "_kFbK9_K8Qrf",
        "outputId": "34215444-f3bc-4997-f300-79e30f1932c6",
        "colab": {
          "base_uri": "https://localhost:8080/"
        }
      },
      "execution_count": null,
      "outputs": [
        {
          "output_type": "stream",
          "name": "stdout",
          "text": [
            "[[2 3 4]\n",
            " [6 7 8]]\n"
          ]
        }
      ]
    },
    {
      "cell_type": "code",
      "source": [
        "print(a / b)"
      ],
      "metadata": {
        "id": "qNgHme0V8UIw",
        "outputId": "304968b4-1ac7-4ee2-936c-0a2807e3d349",
        "colab": {
          "base_uri": "https://localhost:8080/"
        }
      },
      "execution_count": null,
      "outputs": [
        {
          "output_type": "stream",
          "name": "stdout",
          "text": [
            "[[1.  2.  3. ]\n",
            " [2.  2.5 3. ]]\n"
          ]
        }
      ]
    },
    {
      "cell_type": "code",
      "source": [
        "print(a ** 2)"
      ],
      "metadata": {
        "id": "lG8L6h0r8Vqn",
        "outputId": "ebd7040b-c412-4b7e-c00e-d64e454bbb9c",
        "colab": {
          "base_uri": "https://localhost:8080/"
        }
      },
      "execution_count": null,
      "outputs": [
        {
          "output_type": "stream",
          "name": "stdout",
          "text": [
            "[[ 1  4  9]\n",
            " [16 25 36]]\n"
          ]
        }
      ]
    },
    {
      "cell_type": "markdown",
      "source": [
        "# 2. Álgebra matricial con arrays"
      ],
      "metadata": {
        "id": "s7k34kfm8X69"
      }
    },
    {
      "cell_type": "markdown",
      "source": [
        "### Producto escalar de dos vectores"
      ],
      "metadata": {
        "id": "j6AAGCRr87wU"
      }
    },
    {
      "cell_type": "markdown",
      "source": [
        "u.dot(v): Devuelve el producto escalar de los vectores u y v.\n",
        "\n"
      ],
      "metadata": {
        "id": "gwuBYeb29Qfh"
      }
    },
    {
      "cell_type": "code",
      "source": [
        "import numpy as np\n",
        "\n",
        "a = np.array([1, 2, 3])\n",
        "b = np.array([1, 0, 1])\n",
        "\n"
      ],
      "metadata": {
        "id": "wfdhOaH28ryF"
      },
      "execution_count": null,
      "outputs": []
    },
    {
      "cell_type": "code",
      "source": [
        "a"
      ],
      "metadata": {
        "id": "8SkNVUwSiQAT",
        "outputId": "0d3fbc2b-a68a-4099-e956-fd2e8f60df7c",
        "colab": {
          "base_uri": "https://localhost:8080/"
        }
      },
      "execution_count": null,
      "outputs": [
        {
          "output_type": "execute_result",
          "data": {
            "text/plain": [
              "array([1, 2, 3])"
            ]
          },
          "metadata": {},
          "execution_count": 36
        }
      ]
    },
    {
      "cell_type": "code",
      "source": [
        "b"
      ],
      "metadata": {
        "id": "irmEu51eiRPH",
        "outputId": "0dff1a4d-4e70-4599-e90b-155aa448acd8",
        "colab": {
          "base_uri": "https://localhost:8080/"
        }
      },
      "execution_count": null,
      "outputs": [
        {
          "output_type": "execute_result",
          "data": {
            "text/plain": [
              "array([1, 0, 1])"
            ]
          },
          "metadata": {},
          "execution_count": 37
        }
      ]
    },
    {
      "cell_type": "code",
      "source": [
        "print(a @ b)"
      ],
      "metadata": {
        "id": "CC5hhx35iOrD",
        "outputId": "5bd2ad30-99c7-4724-f88b-1ffab72b0d8d",
        "colab": {
          "base_uri": "https://localhost:8080/"
        }
      },
      "execution_count": null,
      "outputs": [
        {
          "output_type": "stream",
          "name": "stdout",
          "text": [
            "4\n"
          ]
        }
      ]
    },
    {
      "cell_type": "code",
      "source": [
        "print(a.dot(b))"
      ],
      "metadata": {
        "id": "cbsnIrcI8zfo",
        "outputId": "30d3583c-84a6-4514-dd1e-07122c0cc24a",
        "colab": {
          "base_uri": "https://localhost:8080/"
        }
      },
      "execution_count": null,
      "outputs": [
        {
          "output_type": "stream",
          "name": "stdout",
          "text": [
            "4\n"
          ]
        }
      ]
    },
    {
      "cell_type": "code",
      "source": [
        "a*b"
      ],
      "metadata": {
        "id": "rV83-Tis9GMa",
        "outputId": "0602d335-0ebc-443d-b6cf-5dc810059a8c",
        "colab": {
          "base_uri": "https://localhost:8080/"
        }
      },
      "execution_count": null,
      "outputs": [
        {
          "output_type": "execute_result",
          "data": {
            "text/plain": [
              "array([1, 0, 3])"
            ]
          },
          "metadata": {},
          "execution_count": 40
        }
      ]
    },
    {
      "cell_type": "markdown",
      "source": [
        "Ejercicio\n",
        "\n",
        "* a = np.array([[3, 5, 0], [1, 3, 2]])\n",
        "*b = np.array([[55, 42], [92, 16], [0, 77]])\n",
        "\n",
        "Multiplique algebraicamente a y b, para esto adapte la matriz b para que se pueda cumplir la multiplicación.\n",
        "\n",
        "Multiplique de la misma forma pero ahora use un operador aritmético."
      ],
      "metadata": {
        "id": "iWaWFxEUjDgP"
      }
    },
    {
      "cell_type": "code",
      "source": [
        "a = np.array([[3, 5, 0], [1, 3, 2]])\n",
        "b = np.array([[55, 42], [92, 16], [0, 77]])\n",
        "\n",
        "c = b.reshape(3, 2)\n",
        "a@c\n"
      ],
      "metadata": {
        "id": "tXEs2mENlmAb",
        "outputId": "8fc8bf9f-f200-4522-ce2e-546d9cd16489",
        "colab": {
          "base_uri": "https://localhost:8080/"
        }
      },
      "execution_count": null,
      "outputs": [
        {
          "output_type": "execute_result",
          "data": {
            "text/plain": [
              "array([[625, 206],\n",
              "       [331, 244]])"
            ]
          },
          "metadata": {},
          "execution_count": 46
        }
      ]
    },
    {
      "cell_type": "code",
      "source": [
        "c = b.reshape(2, 3)\n",
        "a*c"
      ],
      "metadata": {
        "id": "xMjVpaX5mdOs",
        "outputId": "4c8af872-935b-4d97-9636-5542e9218e3f",
        "colab": {
          "base_uri": "https://localhost:8080/"
        }
      },
      "execution_count": null,
      "outputs": [
        {
          "output_type": "execute_result",
          "data": {
            "text/plain": [
              "array([[165, 210,   0],\n",
              "       [ 16,   0, 154]])"
            ]
          },
          "metadata": {},
          "execution_count": 48
        }
      ]
    },
    {
      "cell_type": "markdown",
      "source": [
        "### Módulo de un vector"
      ],
      "metadata": {
        "id": "iqUXxB_j9ML1"
      }
    },
    {
      "cell_type": "markdown",
      "source": [
        "norm(v): Devuelve el módulo del vector v."
      ],
      "metadata": {
        "id": "Aq7ECjOp9Pnz"
      }
    },
    {
      "cell_type": "code",
      "source": [
        "a = np.array([3, 4])"
      ],
      "metadata": {
        "id": "P_Lq83--9flL"
      },
      "execution_count": null,
      "outputs": []
    },
    {
      "cell_type": "code",
      "source": [
        "print(np.linalg.norm(a))"
      ],
      "metadata": {
        "id": "CdIAQBEt9hHW",
        "outputId": "d2e13cab-47e2-441e-d94b-e0852dc330b6",
        "colab": {
          "base_uri": "https://localhost:8080/"
        }
      },
      "execution_count": null,
      "outputs": [
        {
          "output_type": "stream",
          "name": "stdout",
          "text": [
            "5.0\n"
          ]
        }
      ]
    },
    {
      "cell_type": "code",
      "source": [
        "a = np.array([3, 4, 5])\n",
        "print(np.linalg.norm(a))\n"
      ],
      "metadata": {
        "id": "dVpRsP2VnwC7",
        "outputId": "91efc1d4-b649-41b3-c4a1-ff0bd532d677",
        "colab": {
          "base_uri": "https://localhost:8080/"
        }
      },
      "execution_count": null,
      "outputs": [
        {
          "output_type": "stream",
          "name": "stdout",
          "text": [
            "7.0710678118654755\n"
          ]
        }
      ]
    },
    {
      "cell_type": "markdown",
      "source": [
        "### Producto de dos matrices"
      ],
      "metadata": {
        "id": "dX-NAWL19tyX"
      }
    },
    {
      "cell_type": "markdown",
      "source": [
        "a.dot(b) : Devuelve el producto matricial de las matrices a y b siempre y cuando sus dimensiones sean compatibles."
      ],
      "metadata": {
        "id": "qYkfLl6J-CLK"
      }
    },
    {
      "cell_type": "code",
      "source": [
        "a = np.array([[1, 2, 3], [4, 5, 6]])\n",
        "b = np.array([[1, 1], [2, 2], [3, 3]])\n",
        "print(a @ b)"
      ],
      "metadata": {
        "id": "5D1PWI3G-EWG",
        "outputId": "5bd7f8cd-97ef-4a42-ba34-030d75219486",
        "colab": {
          "base_uri": "https://localhost:8080/"
        }
      },
      "execution_count": null,
      "outputs": [
        {
          "output_type": "stream",
          "name": "stdout",
          "text": [
            "[[14 14]\n",
            " [32 32]]\n"
          ]
        }
      ]
    },
    {
      "cell_type": "code",
      "source": [
        "print(a.dot(b))"
      ],
      "metadata": {
        "id": "Tzn3MeyH_9fv"
      },
      "execution_count": null,
      "outputs": []
    },
    {
      "cell_type": "markdown",
      "source": [
        "### Matriz traspuesta"
      ],
      "metadata": {
        "id": "5OW9IONI__48"
      }
    },
    {
      "cell_type": "code",
      "source": [
        "a = np.array([[1, 2, 3], [4, 5, 6]])\n",
        "a"
      ],
      "metadata": {
        "id": "NyqB9xjIACUa",
        "outputId": "ca90f1e6-8fed-49c2-ca86-fa2f6fa89330",
        "colab": {
          "base_uri": "https://localhost:8080/"
        }
      },
      "execution_count": null,
      "outputs": [
        {
          "output_type": "execute_result",
          "data": {
            "text/plain": [
              "array([[1, 2, 3],\n",
              "       [4, 5, 6]])"
            ]
          },
          "metadata": {},
          "execution_count": 55
        }
      ]
    },
    {
      "cell_type": "code",
      "source": [
        "print(a.T)"
      ],
      "metadata": {
        "id": "nlsVEkpEqZ_Y",
        "outputId": "0c7291cb-b9f7-4360-d887-20cb3900e017",
        "colab": {
          "base_uri": "https://localhost:8080/"
        }
      },
      "execution_count": null,
      "outputs": [
        {
          "output_type": "stream",
          "name": "stdout",
          "text": [
            "[[1 4]\n",
            " [2 5]\n",
            " [3 6]]\n"
          ]
        }
      ]
    },
    {
      "cell_type": "markdown",
      "source": [
        "### Traza de una matriz"
      ],
      "metadata": {
        "id": "8TJzLVf5AHf0"
      }
    },
    {
      "cell_type": "markdown",
      "source": [
        "a.trace() : Devuelve la traza (suma de la diagonal principal) de la matriz cuadrada a."
      ],
      "metadata": {
        "id": "HDbLyKgnALVr"
      }
    },
    {
      "cell_type": "code",
      "source": [
        "a = np.array([[1, 2, 3], [4, 5, 6], [7, 8, 9]])\n",
        "a"
      ],
      "metadata": {
        "id": "vCUPvFPYANPk",
        "outputId": "4abd0213-6c17-47ed-cfa9-00850985efa9",
        "colab": {
          "base_uri": "https://localhost:8080/"
        }
      },
      "execution_count": null,
      "outputs": [
        {
          "output_type": "execute_result",
          "data": {
            "text/plain": [
              "array([[1, 2, 3],\n",
              "       [4, 5, 6],\n",
              "       [7, 8, 9]])"
            ]
          },
          "metadata": {},
          "execution_count": 58
        }
      ]
    },
    {
      "cell_type": "code",
      "source": [
        "print(a.trace())"
      ],
      "metadata": {
        "id": "K6qmDQCWqxm0"
      },
      "execution_count": null,
      "outputs": []
    },
    {
      "cell_type": "code",
      "source": [
        "a = np.array([[1, 2, 3], [4, 5, 6]])\n",
        "a.trace()"
      ],
      "metadata": {
        "id": "yEs7RKExq0iO",
        "outputId": "79c0105c-8949-4545-b4f3-382837a74493",
        "colab": {
          "base_uri": "https://localhost:8080/"
        }
      },
      "execution_count": null,
      "outputs": [
        {
          "output_type": "execute_result",
          "data": {
            "text/plain": [
              "6"
            ]
          },
          "metadata": {},
          "execution_count": 59
        }
      ]
    },
    {
      "cell_type": "markdown",
      "source": [
        "### Determinante de una matriz"
      ],
      "metadata": {
        "id": "w6fDKLQxAXr-"
      }
    },
    {
      "cell_type": "markdown",
      "source": [
        "det(a) : Devuelve el determinante de la matriz cuadrada a."
      ],
      "metadata": {
        "id": "N5bWowfWAa1h"
      }
    },
    {
      "cell_type": "code",
      "source": [
        "a = np.array([[1, 2], [3, 4]])\n",
        "print(np.linalg.det(a))"
      ],
      "metadata": {
        "id": "pkqeA5kRAcZn",
        "outputId": "ea79ea44-6dad-4c68-a110-335de5c2dce0",
        "colab": {
          "base_uri": "https://localhost:8080/"
        }
      },
      "execution_count": null,
      "outputs": [
        {
          "output_type": "stream",
          "name": "stdout",
          "text": [
            "-2.0000000000000004\n"
          ]
        }
      ]
    },
    {
      "cell_type": "code",
      "source": [
        "1 + 3"
      ],
      "metadata": {
        "id": "2z9giEdFtFPa",
        "outputId": "e85b6871-6d1f-443a-a005-dadd55fd109d",
        "colab": {
          "base_uri": "https://localhost:8080/"
        }
      },
      "execution_count": null,
      "outputs": [
        {
          "output_type": "execute_result",
          "data": {
            "text/plain": [
              "4"
            ]
          },
          "metadata": {},
          "execution_count": 64
        }
      ]
    },
    {
      "cell_type": "code",
      "source": [
        "0.2 + 0.1"
      ],
      "metadata": {
        "id": "rS67BkS4sis-",
        "outputId": "c2c03898-b777-4753-d10e-84f8efa82ed8",
        "colab": {
          "base_uri": "https://localhost:8080/"
        }
      },
      "execution_count": null,
      "outputs": [
        {
          "output_type": "execute_result",
          "data": {
            "text/plain": [
              "0.30000000000000004"
            ]
          },
          "metadata": {},
          "execution_count": 65
        }
      ]
    },
    {
      "cell_type": "markdown",
      "source": [
        "### Matriz inversa"
      ],
      "metadata": {
        "id": "7gzecMWTAflX"
      }
    },
    {
      "cell_type": "code",
      "source": [
        "a = np.array([[1, 2],\n",
        "              [3, 4]])\n",
        "\n",
        "print(np.linalg.inv(a))"
      ],
      "metadata": {
        "id": "ywNxwmcuAiWO",
        "outputId": "7cd353a3-a2da-4d77-8392-f65dd389b891",
        "colab": {
          "base_uri": "https://localhost:8080/"
        }
      },
      "execution_count": null,
      "outputs": [
        {
          "output_type": "stream",
          "name": "stdout",
          "text": [
            "[[-2.   1. ]\n",
            " [ 1.5 -0.5]]\n"
          ]
        }
      ]
    },
    {
      "cell_type": "markdown",
      "source": [
        "### Autovalores de una matriz\n"
      ],
      "metadata": {
        "id": "a6wT5BcrAmUZ"
      }
    },
    {
      "cell_type": "markdown",
      "source": [
        "eigvals(a) : Devuelve los autovalores de la matriz cuadrada a.\n",
        "\n"
      ],
      "metadata": {
        "id": "zSjT_xgsApHW"
      }
    },
    {
      "cell_type": "code",
      "source": [
        "\n",
        "a = np.array([[1, 1, 0], [1, 2, 1], [0, 1, 1]])\n",
        "print(np.linalg.eigvals(a))\n"
      ],
      "metadata": {
        "id": "4EYOfFehArDo",
        "outputId": "b4a68df2-2db6-499f-cd0f-b767507d55b6",
        "colab": {
          "base_uri": "https://localhost:8080/"
        }
      },
      "execution_count": null,
      "outputs": [
        {
          "output_type": "stream",
          "name": "stdout",
          "text": [
            "[ 3.00000000e+00  1.00000000e+00 -3.36770206e-17]\n"
          ]
        }
      ]
    },
    {
      "cell_type": "markdown",
      "source": [
        "### Autovectores de una matriz"
      ],
      "metadata": {
        "id": "fbCg-czaAuCu"
      }
    },
    {
      "cell_type": "markdown",
      "source": [
        "eig(a) : Devuelve los autovalores y los autovectores asociados de la matriz cuadrada a."
      ],
      "metadata": {
        "id": "cAgTS7HOAwyh"
      }
    },
    {
      "cell_type": "code",
      "source": [
        "a = np.array([[1, 1, 0], [1, 2, 1], [0, 1, 1]])\n",
        "print(np.linalg.eig(a))"
      ],
      "metadata": {
        "id": "wC9PixsSAwci",
        "outputId": "63aa5777-db7e-4471-c1ed-cdd228388951",
        "colab": {
          "base_uri": "https://localhost:8080/"
        }
      },
      "execution_count": null,
      "outputs": [
        {
          "output_type": "stream",
          "name": "stdout",
          "text": [
            "(array([ 3.00000000e+00,  1.00000000e+00, -3.36770206e-17]), array([[-4.08248290e-01,  7.07106781e-01,  5.77350269e-01],\n",
            "       [-8.16496581e-01,  2.61239546e-16, -5.77350269e-01],\n",
            "       [-4.08248290e-01, -7.07106781e-01,  5.77350269e-01]]))\n"
          ]
        }
      ]
    },
    {
      "cell_type": "markdown",
      "source": [
        "solve(a, b) : Devuelve la solución del sistema de ecuaciones lineales con los coeficientes de la matriz a y los términos independientes de la matriz b."
      ],
      "metadata": {
        "id": "8EKpELzMA66Q"
      }
    },
    {
      "cell_type": "code",
      "source": [
        "# Sistema de dos ecuaciones y dos incógnitas\n",
        "# 1*x + 2y = 1\n",
        "# 3x + 5y = 2\n",
        "\n",
        "a = np.array([[1, 2],\n",
        "              [3, 5]])\n",
        "\n",
        "b = np.array([1,\n",
        "              2])\n",
        "\n",
        "print(np.linalg.solve(a, b))\n"
      ],
      "metadata": {
        "id": "pBAJWYbJA6JN",
        "outputId": "14d3724d-1537-4711-eebe-ab545f0ce0f4",
        "colab": {
          "base_uri": "https://localhost:8080/"
        }
      },
      "execution_count": null,
      "outputs": [
        {
          "output_type": "stream",
          "name": "stdout",
          "text": [
            "[-1.  1.]\n"
          ]
        }
      ]
    },
    {
      "cell_type": "code",
      "source": [
        "# Sistema de tres ecuaciones y tres incógnitas\n",
        "# 10x +  2y -  3z = 1\n",
        "# 12x +  5y + 17z = 2\n",
        "#  2x + 50y +  2z = 0\n",
        "\n",
        "a = np.array([[10, 2, -3],\n",
        "              [12, 5, 17],\n",
        "              [2, 50, 2]])\n",
        "\n",
        "b = np.array([1, 2, 0])\n",
        "\n",
        "print(np.linalg.solve(a, b))"
      ],
      "metadata": {
        "id": "e0b9hOvnvI6Z",
        "outputId": "3c73082c-b01c-4d3f-b9e0-22aab0715b11",
        "colab": {
          "base_uri": "https://localhost:8080/"
        }
      },
      "execution_count": null,
      "outputs": [
        {
          "output_type": "stream",
          "name": "stdout",
          "text": [
            "[ 0.11310345 -0.00610837  0.03960591]\n"
          ]
        }
      ]
    },
    {
      "cell_type": "code",
      "source": [
        "\n",
        "# 5*x*x + 2*x +3 = 15\n",
        "\n",
        "# 2*x + 5*z = 12\n",
        "# 1*z - x**2 = 0\n",
        "\n",
        "\n",
        "\n"
      ],
      "metadata": {
        "id": "jq6lpQdnw5VU"
      },
      "execution_count": null,
      "outputs": []
    },
    {
      "cell_type": "markdown",
      "source": [
        "### Solución de un sistema de ecuaciones"
      ],
      "metadata": {
        "id": "k1zOhHr7A2fK"
      }
    },
    {
      "cell_type": "markdown",
      "source": [
        "---\n",
        "\n",
        "# Gracias por completar este laboratorio!\n",
        "\n",
        "---\n"
      ],
      "metadata": {
        "id": "LY_03M0BoJZQ"
      }
    }
  ]
}