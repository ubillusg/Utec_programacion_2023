{
  "nbformat": 4,
  "nbformat_minor": 0,
  "metadata": {
    "colab": {
      "provenance": [],
      "include_colab_link": true
    },
    "kernelspec": {
      "name": "python3",
      "display_name": "Python 3"
    },
    "language_info": {
      "name": "python"
    }
  },
  "cells": [
    {
      "cell_type": "markdown",
      "metadata": {
        "id": "view-in-github",
        "colab_type": "text"
      },
      "source": [
        "<a href=\"https://colab.research.google.com/github/ubillusg/Utec_programacion_2023/blob/main/modulo_2/2.%20Listas_y_tuplas_Parte_II_revisado_en_clase.ipynb\" target=\"_parent\"><img src=\"https://colab.research.google.com/assets/colab-badge.svg\" alt=\"Open In Colab\"/></a>"
      ]
    },
    {
      "cell_type": "markdown",
      "source": [
        "<img src=\"https://www.ctic.uni.edu.pe/wp-content/uploads/2022/04/588px-x-348px-web-1.png\" alt=\"HTML5 Icon\" width=\"900\" height=\"350\" >"
      ],
      "metadata": {
        "id": "E_ZHW3fmVS4E"
      }
    },
    {
      "cell_type": "markdown",
      "source": [
        "<h1 align=center><font size = 5>Listas y tuplas - Parte II\n",
        "</font></h1>\n",
        "\n",
        "---"
      ],
      "metadata": {
        "id": "11DUCa4NVXVE"
      }
    },
    {
      "cell_type": "markdown",
      "source": [
        "## Tabla de Contenidos\n",
        "\n",
        "<div class=\"alert alert-block alert-info\" style=\"margin-top: 20px\">\n",
        "\n",
        "<font size = 3>\n",
        "    \n",
        "1. <a href=\"#item31\">Trabajando con Listas </a>\n",
        "2. <a href=\"#item31\">Trabajando con slices</a>  \n",
        "3. <a href=\"#item31\">Tuplas</a>  \n",
        "4. <a href=\"#item31\">Diccionarios</a>  \n",
        "\n",
        "</font>\n",
        "</div>\n",
        "\n",
        "---"
      ],
      "metadata": {
        "id": "y0BfNj-RyguL"
      }
    },
    {
      "cell_type": "markdown",
      "source": [
        "# 1. Trabajando con Listas"
      ],
      "metadata": {
        "id": "fY5fHyw61UB5"
      }
    },
    {
      "cell_type": "code",
      "source": [
        "[1, 2, 3, 4]"
      ],
      "metadata": {
        "id": "SiPNzB73APBU"
      },
      "execution_count": null,
      "outputs": []
    },
    {
      "cell_type": "code",
      "execution_count": null,
      "metadata": {
        "id": "A2OxEnshtGJD"
      },
      "outputs": [],
      "source": [
        "numeros = [1, 2, 3, 4, 5]"
      ]
    },
    {
      "cell_type": "code",
      "source": [
        "print(numeros)"
      ],
      "metadata": {
        "id": "BusmC4LB1gI8",
        "colab": {
          "base_uri": "https://localhost:8080/"
        },
        "outputId": "3e0e11c8-6c46-456c-e9d2-ba9e011f752a"
      },
      "execution_count": null,
      "outputs": [
        {
          "output_type": "stream",
          "name": "stdout",
          "text": [
            "[1, 2, 3, 4, 5]\n"
          ]
        }
      ]
    },
    {
      "cell_type": "code",
      "source": [
        "a = ['John', 'Ricardo', 'Marcelo', 'Heidy', 'Nataly']"
      ],
      "metadata": {
        "id": "ac3vjbHibA42"
      },
      "execution_count": null,
      "outputs": []
    },
    {
      "cell_type": "code",
      "source": [
        "a = [1, 10, 4, 5, 99.0]"
      ],
      "metadata": {
        "id": "v4lFhW1sbg_2"
      },
      "execution_count": null,
      "outputs": []
    },
    {
      "cell_type": "code",
      "source": [
        "a = [1, 10, 4, 5, 'Nataly']"
      ],
      "metadata": {
        "id": "pz_NpJO6brs0"
      },
      "execution_count": null,
      "outputs": []
    },
    {
      "cell_type": "code",
      "source": [],
      "metadata": {
        "id": "7jt7YHcmAahG"
      },
      "execution_count": null,
      "outputs": []
    },
    {
      "cell_type": "code",
      "source": [
        "a = [1, 10, 4, 5, None]"
      ],
      "metadata": {
        "id": "0ufNgmA_b0M4"
      },
      "execution_count": null,
      "outputs": []
    },
    {
      "cell_type": "code",
      "source": [
        "print(a)"
      ],
      "metadata": {
        "colab": {
          "base_uri": "https://localhost:8080/"
        },
        "id": "0ZhBiYJuAfJB",
        "outputId": "769302f8-a9f9-42b2-8040-2d3a521fbed0"
      },
      "execution_count": null,
      "outputs": [
        {
          "output_type": "stream",
          "name": "stdout",
          "text": [
            "[1, 10, 4, 5, None]\n"
          ]
        }
      ]
    },
    {
      "cell_type": "code",
      "source": [
        "a = list('55')"
      ],
      "metadata": {
        "id": "Gd335gxCAjGa"
      },
      "execution_count": null,
      "outputs": []
    },
    {
      "cell_type": "code",
      "source": [
        "print(a)"
      ],
      "metadata": {
        "colab": {
          "base_uri": "https://localhost:8080/"
        },
        "id": "JxbTL635Asjy",
        "outputId": "0db5154e-0c63-4e77-947f-1aa18827319c"
      },
      "execution_count": null,
      "outputs": [
        {
          "output_type": "stream",
          "name": "stdout",
          "text": [
            "['5', '5']\n"
          ]
        }
      ]
    },
    {
      "cell_type": "code",
      "source": [
        "lista = list(\"John\")"
      ],
      "metadata": {
        "id": "h9WIipepWIrg"
      },
      "execution_count": null,
      "outputs": []
    },
    {
      "cell_type": "code",
      "source": [
        "print(lista)"
      ],
      "metadata": {
        "colab": {
          "base_uri": "https://localhost:8080/"
        },
        "id": "7cOxQWI_AvoP",
        "outputId": "9155e92a-a3ba-4480-ee49-48eb93464365"
      },
      "execution_count": null,
      "outputs": [
        {
          "output_type": "stream",
          "name": "stdout",
          "text": [
            "['J', 'o', 'h', 'n']\n"
          ]
        }
      ]
    },
    {
      "cell_type": "code",
      "source": [
        "lista = list(\"Bienvenido al curso\")\n",
        "print(lista)\n"
      ],
      "metadata": {
        "colab": {
          "base_uri": "https://localhost:8080/"
        },
        "id": "J-cvdCvpBK1O",
        "outputId": "c8924529-8196-449e-fb41-21666211d2a7"
      },
      "execution_count": null,
      "outputs": [
        {
          "output_type": "stream",
          "name": "stdout",
          "text": [
            "['B', 'i', 'e', 'n', 'v', 'e', 'n', 'i', 'd', 'o', ' ', 'a', 'l', ' ', 'c', 'u', 'r', 's', 'o']\n"
          ]
        }
      ]
    },
    {
      "cell_type": "code",
      "source": [
        "a = [1, 10, 4, 5, [2, 3, 8, [None, 'John']]]\n",
        "print(a)\n"
      ],
      "metadata": {
        "id": "h35YXpuwb8ao",
        "colab": {
          "base_uri": "https://localhost:8080/"
        },
        "outputId": "d258b2f5-89ba-4b5a-95f1-8d99eb917c24"
      },
      "execution_count": null,
      "outputs": [
        {
          "output_type": "stream",
          "name": "stdout",
          "text": [
            "[1, 10, 4, 5, [2, 3, 8, [None, 'John']]]\n"
          ]
        }
      ]
    },
    {
      "cell_type": "markdown",
      "source": [
        "### Usando la función rango"
      ],
      "metadata": {
        "id": "0GbfBGic15oY"
      }
    },
    {
      "cell_type": "code",
      "source": [
        "# modulo\n",
        "20%10"
      ],
      "metadata": {
        "colab": {
          "base_uri": "https://localhost:8080/"
        },
        "id": "p4DArzqhCKco",
        "outputId": "fbce7425-4261-447e-f711-7f893b7f4e1a"
      },
      "execution_count": null,
      "outputs": [
        {
          "output_type": "execute_result",
          "data": {
            "text/plain": [
              "0"
            ]
          },
          "metadata": {},
          "execution_count": 18
        }
      ]
    },
    {
      "cell_type": "code",
      "source": [
        "\n",
        "for i in [1,2,3,4,5,6,7,8,9,10]:\n",
        "  if i%3 == 0:\n",
        "    print(f'{i} es múltiplo de 3')\n"
      ],
      "metadata": {
        "colab": {
          "base_uri": "https://localhost:8080/"
        },
        "id": "snENS4rXCg2p",
        "outputId": "96b305da-141c-4baa-b0c4-57958eb822ff"
      },
      "execution_count": null,
      "outputs": [
        {
          "output_type": "stream",
          "name": "stdout",
          "text": [
            "3 es múltiplo de 3\n",
            "6 es múltiplo de 3\n",
            "9 es múltiplo de 3\n"
          ]
        }
      ]
    },
    {
      "cell_type": "code",
      "source": [
        "#range(inicio, final + 1)\n",
        "for i in range(1, 101):\n",
        "  print(i)\n"
      ],
      "metadata": {
        "id": "5pS2s8q4CFRn"
      },
      "execution_count": null,
      "outputs": []
    },
    {
      "cell_type": "code",
      "source": [
        "\n",
        "for i in range(1, 101):\n",
        "  if i%3 == 0:\n",
        "    print(f'{i} es múltiplo de 3')\n"
      ],
      "metadata": {
        "id": "i-6gFjWWFCw8"
      },
      "execution_count": null,
      "outputs": []
    },
    {
      "cell_type": "code",
      "source": [
        "range(1, 5)"
      ],
      "metadata": {
        "id": "0CtByQBZ2A3Z"
      },
      "execution_count": null,
      "outputs": []
    },
    {
      "cell_type": "code",
      "source": [
        "for value in range(1, 5):\n",
        "    print(value)"
      ],
      "metadata": {
        "id": "HluipgiKyPn4"
      },
      "execution_count": null,
      "outputs": []
    },
    {
      "cell_type": "code",
      "source": [
        "for value in range(1, 6):\n",
        "    print(value)"
      ],
      "metadata": {
        "id": "gPtNEJGW2Jvo"
      },
      "execution_count": null,
      "outputs": []
    },
    {
      "cell_type": "code",
      "source": [
        "for value in range(0, 101, 17):\n",
        "    print(value)\n",
        "\n"
      ],
      "metadata": {
        "colab": {
          "base_uri": "https://localhost:8080/"
        },
        "id": "nR2EdsuxFWJG",
        "outputId": "71395a31-2ab1-46f1-cde4-60df0051241f"
      },
      "execution_count": null,
      "outputs": [
        {
          "output_type": "stream",
          "name": "stdout",
          "text": [
            "0\n",
            "17\n",
            "34\n",
            "51\n",
            "68\n",
            "85\n"
          ]
        }
      ]
    },
    {
      "cell_type": "code",
      "source": [
        "range?"
      ],
      "metadata": {
        "id": "87mavp9OF1uz"
      },
      "execution_count": null,
      "outputs": []
    },
    {
      "cell_type": "markdown",
      "source": [
        "### Usando range para crear listas de números"
      ],
      "metadata": {
        "id": "KKwKZnLy2XpE"
      }
    },
    {
      "cell_type": "code",
      "source": [
        "numbers = list(range(1, 6))\n",
        "print(numbers)"
      ],
      "metadata": {
        "id": "UBobqcAl2bLs",
        "colab": {
          "base_uri": "https://localhost:8080/"
        },
        "outputId": "2601ae80-4820-40ba-b183-bd3a7c90e601"
      },
      "execution_count": null,
      "outputs": [
        {
          "output_type": "stream",
          "name": "stdout",
          "text": [
            "[1, 2, 3, 4, 5]\n"
          ]
        }
      ]
    },
    {
      "cell_type": "code",
      "source": [
        "even_numbers = list(range(2, 11, 2))\n",
        "print(even_numbers)"
      ],
      "metadata": {
        "id": "q0peFV6_2iqr",
        "colab": {
          "base_uri": "https://localhost:8080/"
        },
        "outputId": "574fe419-4ed1-456f-a2a2-b245887a45fd"
      },
      "execution_count": null,
      "outputs": [
        {
          "output_type": "stream",
          "name": "stdout",
          "text": [
            "[2, 4, 6, 8, 10]\n"
          ]
        }
      ]
    },
    {
      "cell_type": "code",
      "source": [
        "?"
      ],
      "metadata": {
        "id": "Bk69S4b8GjRT"
      },
      "execution_count": null,
      "outputs": []
    },
    {
      "cell_type": "code",
      "source": [
        "type(numbers)"
      ],
      "metadata": {
        "colab": {
          "base_uri": "https://localhost:8080/"
        },
        "id": "tJvFfBHuGhso",
        "outputId": "e52f6ecb-d084-4150-de27-45a941050f25"
      },
      "execution_count": null,
      "outputs": [
        {
          "output_type": "execute_result",
          "data": {
            "text/plain": [
              "list"
            ]
          },
          "metadata": {},
          "execution_count": 37
        }
      ]
    },
    {
      "cell_type": "code",
      "source": [
        "\n",
        "type(range(2,10))\n"
      ],
      "metadata": {
        "colab": {
          "base_uri": "https://localhost:8080/"
        },
        "id": "tlftR8HDGW6L",
        "outputId": "90fecff6-78d4-4436-c96a-9be7eab340eb"
      },
      "execution_count": null,
      "outputs": [
        {
          "output_type": "execute_result",
          "data": {
            "text/plain": [
              "range"
            ]
          },
          "metadata": {},
          "execution_count": 38
        }
      ]
    },
    {
      "cell_type": "code",
      "source": [
        "list(range(2, 10))"
      ],
      "metadata": {
        "colab": {
          "base_uri": "https://localhost:8080/"
        },
        "id": "ZDuTq7QPG3nZ",
        "outputId": "375e6dab-865e-445d-85a6-959d7363fb95"
      },
      "execution_count": null,
      "outputs": [
        {
          "output_type": "execute_result",
          "data": {
            "text/plain": [
              "[2, 3, 4, 5, 6, 7, 8, 9]"
            ]
          },
          "metadata": {},
          "execution_count": 42
        }
      ]
    },
    {
      "cell_type": "code",
      "source": [
        "my_list = []\n"
      ],
      "metadata": {
        "id": "Yo8Fbhk4HFWl"
      },
      "execution_count": null,
      "outputs": []
    },
    {
      "cell_type": "code",
      "source": [
        "my_list.append(['hola' , 2])\n"
      ],
      "metadata": {
        "id": "EWPeZ7uXHIt-"
      },
      "execution_count": null,
      "outputs": []
    },
    {
      "cell_type": "code",
      "source": [
        "my_list"
      ],
      "metadata": {
        "colab": {
          "base_uri": "https://localhost:8080/"
        },
        "id": "NwYMuVxVHRBS",
        "outputId": "1044c042-3978-4cc1-c503-fc65703a0915"
      },
      "execution_count": null,
      "outputs": [
        {
          "output_type": "execute_result",
          "data": {
            "text/plain": [
              "['hola', ['hola', 2]]"
            ]
          },
          "metadata": {},
          "execution_count": 51
        }
      ]
    },
    {
      "cell_type": "code",
      "source": [
        "my_list = []\n",
        "\n",
        "for i in range(1, 1000):\n",
        "  if i%79 == 0:\n",
        "    my_list.append(i)\n",
        "\n",
        "print(my_list)\n"
      ],
      "metadata": {
        "colab": {
          "base_uri": "https://localhost:8080/"
        },
        "id": "zlCDeVmqHeX7",
        "outputId": "71f835d9-c8b5-457c-82a7-032afac53163"
      },
      "execution_count": null,
      "outputs": [
        {
          "output_type": "stream",
          "name": "stdout",
          "text": [
            "[79, 158, 237, 316, 395, 474, 553, 632, 711, 790, 869, 948]\n"
          ]
        }
      ]
    },
    {
      "cell_type": "code",
      "source": [
        "squares = []\n",
        "\n",
        "for value in range(1, 11):\n",
        "    square = value ** 2\n",
        "    squares.append(square)\n",
        "\n",
        "print(squares)"
      ],
      "metadata": {
        "id": "B9Hv0maM2mnU",
        "colab": {
          "base_uri": "https://localhost:8080/"
        },
        "outputId": "8c8341bb-c8d7-465d-84ef-5bc287482517"
      },
      "execution_count": null,
      "outputs": [
        {
          "output_type": "stream",
          "name": "stdout",
          "text": [
            "[1, 4, 9, 16, 25, 36, 49, 64, 81, 100]\n"
          ]
        }
      ]
    },
    {
      "cell_type": "code",
      "source": [
        "squares = []\n",
        "\n",
        "for i in range(1,11):\n",
        "    squares.append(i**2)\n",
        "\n",
        "print(squares)"
      ],
      "metadata": {
        "id": "nIx-oVSe273S",
        "colab": {
          "base_uri": "https://localhost:8080/"
        },
        "outputId": "0fd7ec0e-df99-4708-ad72-40f6b2a20873"
      },
      "execution_count": null,
      "outputs": [
        {
          "output_type": "stream",
          "name": "stdout",
          "text": [
            "[1, 4, 9, 16, 25, 36, 49, 64, 81, 100]\n"
          ]
        }
      ]
    },
    {
      "cell_type": "code",
      "source": [
        "squares"
      ],
      "metadata": {
        "colab": {
          "base_uri": "https://localhost:8080/"
        },
        "id": "JsPXKFYRJKkA",
        "outputId": "6815474a-0b09-4760-f72a-35bc171ef58d"
      },
      "execution_count": null,
      "outputs": [
        {
          "output_type": "execute_result",
          "data": {
            "text/plain": [
              "[1, 4, 9, 16, 25, 36, 49, 64, 81, 100]"
            ]
          },
          "metadata": {},
          "execution_count": 60
        }
      ]
    },
    {
      "cell_type": "code",
      "source": [
        "i"
      ],
      "metadata": {
        "colab": {
          "base_uri": "https://localhost:8080/"
        },
        "id": "OofcBsUTI90K",
        "outputId": "603b534e-dde5-4d0a-93ec-632043a5b03f"
      },
      "execution_count": null,
      "outputs": [
        {
          "output_type": "execute_result",
          "data": {
            "text/plain": [
              "10"
            ]
          },
          "metadata": {},
          "execution_count": 59
        }
      ]
    },
    {
      "cell_type": "code",
      "source": [
        "my_list=[]\n",
        "\n",
        "for i in range(1, 71):\n",
        "  if i%70==0:\n",
        "    my_list.append(i)\n",
        "\n",
        "print(my_list)"
      ],
      "metadata": {
        "colab": {
          "base_uri": "https://localhost:8080/"
        },
        "id": "iPAdHPXMJjF3",
        "outputId": "0c4f3506-9ab4-4a9f-97f7-2ea4db01ec46"
      },
      "execution_count": null,
      "outputs": [
        {
          "output_type": "stream",
          "name": "stdout",
          "text": [
            "[70]\n"
          ]
        }
      ]
    },
    {
      "cell_type": "markdown",
      "source": [
        "### Estadísticos sencillos de listas"
      ],
      "metadata": {
        "id": "UnVQ75Gz3GkM"
      }
    },
    {
      "cell_type": "code",
      "source": [
        "digits = [1, 2, 3, 4, 5, 6, 7, 8, 9, 0]"
      ],
      "metadata": {
        "id": "HcLwRAdU3Jy8"
      },
      "execution_count": null,
      "outputs": []
    },
    {
      "cell_type": "code",
      "source": [
        "min(digits)"
      ],
      "metadata": {
        "id": "arSK6kOr3Nwg",
        "colab": {
          "base_uri": "https://localhost:8080/"
        },
        "outputId": "f96c7700-96a8-4c6f-8c94-e4db644e50f3"
      },
      "execution_count": null,
      "outputs": [
        {
          "output_type": "execute_result",
          "data": {
            "text/plain": [
              "0"
            ]
          },
          "metadata": {},
          "execution_count": 66
        }
      ]
    },
    {
      "cell_type": "code",
      "source": [
        "max(digits)"
      ],
      "metadata": {
        "id": "z13AFiLo3Pyr",
        "colab": {
          "base_uri": "https://localhost:8080/"
        },
        "outputId": "470bb475-32b9-4368-da22-540eca569d38"
      },
      "execution_count": null,
      "outputs": [
        {
          "output_type": "execute_result",
          "data": {
            "text/plain": [
              "9"
            ]
          },
          "metadata": {},
          "execution_count": 67
        }
      ]
    },
    {
      "cell_type": "code",
      "source": [
        "sum(digits)"
      ],
      "metadata": {
        "id": "VE_QfNBq3SIY",
        "colab": {
          "base_uri": "https://localhost:8080/"
        },
        "outputId": "296655ae-3532-41e1-d9c8-28d0aba2035f"
      },
      "execution_count": null,
      "outputs": [
        {
          "output_type": "execute_result",
          "data": {
            "text/plain": [
              "45"
            ]
          },
          "metadata": {},
          "execution_count": 68
        }
      ]
    },
    {
      "cell_type": "code",
      "source": [
        "len(digits)"
      ],
      "metadata": {
        "colab": {
          "base_uri": "https://localhost:8080/"
        },
        "id": "4v_kB7OuKCWR",
        "outputId": "986b8fd2-37e7-4d67-f6ed-a3bf62ed1612"
      },
      "execution_count": null,
      "outputs": [
        {
          "output_type": "execute_result",
          "data": {
            "text/plain": [
              "10"
            ]
          },
          "metadata": {},
          "execution_count": 69
        }
      ]
    },
    {
      "cell_type": "code",
      "source": [
        "test = ['a', 'b']\n",
        "\n",
        "sum(test)"
      ],
      "metadata": {
        "colab": {
          "base_uri": "https://localhost:8080/",
          "height": 201
        },
        "id": "xkWEBSmKKNfr",
        "outputId": "38111b98-17d3-49d4-9a7f-7a6bd83c92f9"
      },
      "execution_count": null,
      "outputs": [
        {
          "output_type": "error",
          "ename": "TypeError",
          "evalue": "ignored",
          "traceback": [
            "\u001b[0;31m---------------------------------------------------------------------------\u001b[0m",
            "\u001b[0;31mTypeError\u001b[0m                                 Traceback (most recent call last)",
            "\u001b[0;32m<ipython-input-71-406592100817>\u001b[0m in \u001b[0;36m<cell line: 3>\u001b[0;34m()\u001b[0m\n\u001b[1;32m      1\u001b[0m \u001b[0mtest\u001b[0m \u001b[0;34m=\u001b[0m \u001b[0;34m[\u001b[0m\u001b[0;34m'a'\u001b[0m\u001b[0;34m,\u001b[0m \u001b[0;34m'b'\u001b[0m\u001b[0;34m]\u001b[0m\u001b[0;34m\u001b[0m\u001b[0;34m\u001b[0m\u001b[0m\n\u001b[1;32m      2\u001b[0m \u001b[0;34m\u001b[0m\u001b[0m\n\u001b[0;32m----> 3\u001b[0;31m \u001b[0msum\u001b[0m\u001b[0;34m(\u001b[0m\u001b[0mtest\u001b[0m\u001b[0;34m)\u001b[0m\u001b[0;34m\u001b[0m\u001b[0;34m\u001b[0m\u001b[0m\n\u001b[0m",
            "\u001b[0;31mTypeError\u001b[0m: unsupported operand type(s) for +: 'int' and 'str'"
          ]
        }
      ]
    },
    {
      "cell_type": "code",
      "source": [
        "str(1) + \"hola\""
      ],
      "metadata": {
        "colab": {
          "base_uri": "https://localhost:8080/",
          "height": 35
        },
        "id": "B6gPLAojKoxA",
        "outputId": "facf8e87-702b-4945-f1a9-73fe3a0a8837"
      },
      "execution_count": null,
      "outputs": [
        {
          "output_type": "execute_result",
          "data": {
            "text/plain": [
              "'1hola'"
            ],
            "application/vnd.google.colaboratory.intrinsic+json": {
              "type": "string"
            }
          },
          "metadata": {},
          "execution_count": 73
        }
      ]
    },
    {
      "cell_type": "markdown",
      "source": [
        "### List Comprehensions\n"
      ],
      "metadata": {
        "id": "H68897kt3Xan"
      }
    },
    {
      "cell_type": "code",
      "source": [
        "squares = []\n",
        "for i in range(1,100001):\n",
        "    squares.append(i**2)\n"
      ],
      "metadata": {
        "id": "94XeVrlvK34v"
      },
      "execution_count": null,
      "outputs": []
    },
    {
      "cell_type": "code",
      "source": [
        "from math import log\n",
        "\n",
        "my_list = [(x**2 + 15) for x in range(1,11) if (x%5 == 0) and (x*10 > 50)]\n",
        "print(my_list)\n"
      ],
      "metadata": {
        "colab": {
          "base_uri": "https://localhost:8080/"
        },
        "id": "FLZa4IhcLtZP",
        "outputId": "565e940c-a24a-4705-dd9e-ba226d59abf8"
      },
      "execution_count": null,
      "outputs": [
        {
          "output_type": "stream",
          "name": "stdout",
          "text": [
            "[115]\n"
          ]
        }
      ]
    },
    {
      "cell_type": "code",
      "source": [
        "squares = [value**2 for value in range(1, 11)]\n",
        "print(squares)"
      ],
      "metadata": {
        "id": "1iXCqqK43Yrq"
      },
      "execution_count": null,
      "outputs": []
    },
    {
      "cell_type": "code",
      "source": [
        "my_list = ['John Caballero', 'Angelica Reyes', 'Aldo Aguilar', 'Alvaro Arce']\n",
        "\n"
      ],
      "metadata": {
        "id": "b8x9t5zUNUMR"
      },
      "execution_count": null,
      "outputs": []
    },
    {
      "cell_type": "code",
      "source": [
        "texto = 'Aldo Aguilar'\n",
        "texto[0]"
      ],
      "metadata": {
        "colab": {
          "base_uri": "https://localhost:8080/",
          "height": 35
        },
        "id": "ev8TWN99OFFt",
        "outputId": "ff28932f-2d3f-46e2-9dc7-65cf66283a80"
      },
      "execution_count": null,
      "outputs": [
        {
          "output_type": "execute_result",
          "data": {
            "text/plain": [
              "'A'"
            ],
            "application/vnd.google.colaboratory.intrinsic+json": {
              "type": "string"
            }
          },
          "metadata": {},
          "execution_count": 90
        }
      ]
    },
    {
      "cell_type": "code",
      "source": [
        "texto = 'Aldo Aguilar'\n",
        "texto.find(\" \")"
      ],
      "metadata": {
        "colab": {
          "base_uri": "https://localhost:8080/"
        },
        "id": "DJ-kvXJVOxf9",
        "outputId": "47fd37da-2d14-4bc4-c71b-6eb8ad543813"
      },
      "execution_count": null,
      "outputs": [
        {
          "output_type": "execute_result",
          "data": {
            "text/plain": [
              "4"
            ]
          },
          "metadata": {},
          "execution_count": 96
        }
      ]
    },
    {
      "cell_type": "code",
      "source": [
        "texto[texto.find(\" \")+1:]"
      ],
      "metadata": {
        "colab": {
          "base_uri": "https://localhost:8080/",
          "height": 35
        },
        "id": "bfrXunHAPKyd",
        "outputId": "4dc8afd4-450e-4249-c795-630f2954568c"
      },
      "execution_count": null,
      "outputs": [
        {
          "output_type": "execute_result",
          "data": {
            "text/plain": [
              "'Aguilar'"
            ],
            "application/vnd.google.colaboratory.intrinsic+json": {
              "type": "string"
            }
          },
          "metadata": {},
          "execution_count": 99
        }
      ]
    },
    {
      "cell_type": "code",
      "source": [
        "texto[-1]"
      ],
      "metadata": {
        "colab": {
          "base_uri": "https://localhost:8080/",
          "height": 35
        },
        "id": "2U5YY97yPlsc",
        "outputId": "76aa3b59-1e7a-43dc-d53c-9b522c4c8eb4"
      },
      "execution_count": null,
      "outputs": [
        {
          "output_type": "execute_result",
          "data": {
            "text/plain": [
              "'r'"
            ],
            "application/vnd.google.colaboratory.intrinsic+json": {
              "type": "string"
            }
          },
          "metadata": {},
          "execution_count": 104
        }
      ]
    },
    {
      "cell_type": "code",
      "source": [
        "[x[x.find(\" \")+1:] for x in my_list if ' A' in x]"
      ],
      "metadata": {
        "colab": {
          "base_uri": "https://localhost:8080/"
        },
        "id": "ZEqSUSNUNkCB",
        "outputId": "a2167bef-9d36-4365-9878-ecfbe9b99930"
      },
      "execution_count": null,
      "outputs": [
        {
          "output_type": "execute_result",
          "data": {
            "text/plain": [
              "['Aguilar', 'Arce']"
            ]
          },
          "metadata": {},
          "execution_count": 103
        }
      ]
    },
    {
      "cell_type": "markdown",
      "source": [
        "---\n",
        "\n",
        "<b> Ejercicio 1</b>\n",
        "\n",
        "use un bucle **for** para imprimir los números del 1 al 20, inclusive.\n"
      ],
      "metadata": {
        "id": "v8l2iiax3w6L"
      }
    },
    {
      "cell_type": "code",
      "source": [
        "for i in range(1, 21):\n",
        "  print(i)"
      ],
      "metadata": {
        "colab": {
          "base_uri": "https://localhost:8080/"
        },
        "id": "6JDadRStPzDx",
        "outputId": "9592922a-ce5b-4af3-de6c-f863542d3b91"
      },
      "execution_count": null,
      "outputs": [
        {
          "output_type": "stream",
          "name": "stdout",
          "text": [
            "1\n",
            "2\n",
            "3\n",
            "4\n",
            "5\n",
            "6\n",
            "7\n",
            "8\n",
            "9\n",
            "10\n",
            "11\n",
            "12\n",
            "13\n",
            "14\n",
            "15\n",
            "16\n",
            "17\n",
            "18\n",
            "19\n",
            "20\n"
          ]
        }
      ]
    },
    {
      "cell_type": "markdown",
      "source": [
        "---\n",
        "\n",
        "<b> Ejercicio 2</b>\n",
        "\n",
        "Haga una lista de los números del uno al millón y luego use un ciclo for para imprimir los números. (Si la salida tarda demasiado, deténgala presionando CTRL-C o cerrando la ventana de salida).\n"
      ],
      "metadata": {
        "id": "rYzzJUd64HR1"
      }
    },
    {
      "cell_type": "code",
      "source": [
        "1_2_3"
      ],
      "metadata": {
        "colab": {
          "base_uri": "https://localhost:8080/"
        },
        "id": "khg6urpWQqrR",
        "outputId": "59698e96-e50a-4dca-9339-90a93f8bfa3c"
      },
      "execution_count": null,
      "outputs": [
        {
          "output_type": "execute_result",
          "data": {
            "text/plain": [
              "123"
            ]
          },
          "metadata": {},
          "execution_count": 111
        }
      ]
    },
    {
      "cell_type": "code",
      "source": [
        "for i in range(1, 1_000_001):\n",
        "  print(i)\n"
      ],
      "metadata": {
        "id": "YNyqaoe3QXKR"
      },
      "execution_count": null,
      "outputs": []
    },
    {
      "cell_type": "code",
      "source": [
        "ejer_02 = [x for x in range(1,1000000+1)]\n",
        "print(ejer_02)\n"
      ],
      "metadata": {
        "colab": {
          "base_uri": "https://localhost:8080/"
        },
        "id": "MY2PoL9NQ_jE",
        "outputId": "4748d793-0809-4979-ca13-61964391383b"
      },
      "execution_count": null,
      "outputs": [
        {
          "output_type": "stream",
          "name": "stderr",
          "text": [
            "IOPub data rate exceeded.\n",
            "The notebook server will temporarily stop sending output\n",
            "to the client in order to avoid crashing it.\n",
            "To change this limit, set the config variable\n",
            "`--NotebookApp.iopub_data_rate_limit`.\n",
            "\n",
            "Current values:\n",
            "NotebookApp.iopub_data_rate_limit=1000000.0 (bytes/sec)\n",
            "NotebookApp.rate_limit_window=3.0 (secs)\n",
            "\n"
          ]
        }
      ]
    },
    {
      "cell_type": "markdown",
      "source": [
        "---\n",
        "\n",
        "<b> Ejercicio 3</b>\n",
        "\n",
        "Haga una lista de los números del uno al millón y luego use min() y max() para asegurarse de que su lista realmente comience en uno y termine en un millón. Además, use la función sum() para ver qué tan rápido Python puede agregar un millón de números.\n"
      ],
      "metadata": {
        "id": "2qrKdPpb4chR"
      }
    },
    {
      "cell_type": "markdown",
      "source": [
        "---\n",
        "\n",
        "<b> Ejercicio 4</b>\n",
        "\n",
        "Use el tercer argumento de la función range() para hacer una lista de los números impares del 1 al 20. Use un bucle for para imprimir cada número.\n"
      ],
      "metadata": {
        "id": "oizdiWqQ44qx"
      }
    },
    {
      "cell_type": "markdown",
      "source": [
        "---\n",
        "\n",
        "<b> Ejercicio 5</b>\n",
        "\n",
        "Haga una lista de los múltiplos de 3 de 3 a 30. Use un ciclo for para imprimir los números en su lista.\n"
      ],
      "metadata": {
        "id": "yK9dmJJi5W6W"
      }
    },
    {
      "cell_type": "markdown",
      "source": [
        "---\n",
        "\n",
        "<b> Ejercicio 6</b>\n",
        "\n",
        "Haga una lista de los primeros 10 cubos (es decir, el cubo de cada número entero del 1 al 10) y use un ciclo for para imprimir el valor de cada cubo.\n"
      ],
      "metadata": {
        "id": "qqdPT25k5d23"
      }
    },
    {
      "cell_type": "markdown",
      "source": [
        "---\n",
        "\n",
        "<b> Ejercicio 7</b>\n",
        "\n",
        "Use una lista de comprensión para generar una lista de los primeros 10 cubos.\n",
        "\n",
        "---"
      ],
      "metadata": {
        "id": "MQfhaTOo59GS"
      }
    },
    {
      "cell_type": "markdown",
      "source": [
        "# 2. Trabajando con slices"
      ],
      "metadata": {
        "id": "-h_22RYJ6U9R"
      }
    },
    {
      "cell_type": "markdown",
      "source": [
        "### Slice"
      ],
      "metadata": {
        "id": "pEWaaEih67Yz"
      }
    },
    {
      "cell_type": "code",
      "source": [
        "players = ['charles', 'martina', 'michael', 'florence', 'eli']\n"
      ],
      "metadata": {
        "id": "OaraZKkC41r_"
      },
      "execution_count": null,
      "outputs": []
    },
    {
      "cell_type": "code",
      "source": [
        "players[2]"
      ],
      "metadata": {
        "id": "h_7v0FuKTncV",
        "outputId": "8d407da6-51e7-482c-e1dd-125340cd2af9",
        "colab": {
          "base_uri": "https://localhost:8080/",
          "height": 35
        }
      },
      "execution_count": null,
      "outputs": [
        {
          "output_type": "execute_result",
          "data": {
            "text/plain": [
              "'michael'"
            ],
            "application/vnd.google.colaboratory.intrinsic+json": {
              "type": "string"
            }
          },
          "metadata": {},
          "execution_count": 116
        }
      ]
    },
    {
      "cell_type": "code",
      "source": [
        "players[-1]"
      ],
      "metadata": {
        "id": "m1MYKpKtTsw_",
        "outputId": "080aaa6a-c049-447a-d49a-ef19273e1918",
        "colab": {
          "base_uri": "https://localhost:8080/",
          "height": 35
        }
      },
      "execution_count": null,
      "outputs": [
        {
          "output_type": "execute_result",
          "data": {
            "text/plain": [
              "'eli'"
            ],
            "application/vnd.google.colaboratory.intrinsic+json": {
              "type": "string"
            }
          },
          "metadata": {},
          "execution_count": 118
        }
      ]
    },
    {
      "cell_type": "code",
      "source": [
        "players[4]"
      ],
      "metadata": {
        "id": "AsMjDkLCTyh4",
        "outputId": "dacb0769-9576-49bd-b094-eadee672daef",
        "colab": {
          "base_uri": "https://localhost:8080/",
          "height": 35
        }
      },
      "execution_count": null,
      "outputs": [
        {
          "output_type": "execute_result",
          "data": {
            "text/plain": [
              "'eli'"
            ],
            "application/vnd.google.colaboratory.intrinsic+json": {
              "type": "string"
            }
          },
          "metadata": {},
          "execution_count": 119
        }
      ]
    },
    {
      "cell_type": "code",
      "source": [
        "\n",
        "players[2:3+1]\n"
      ],
      "metadata": {
        "id": "KQFSGFkVT5bM",
        "outputId": "25378818-8327-447c-d757-a68373fc757b",
        "colab": {
          "base_uri": "https://localhost:8080/"
        }
      },
      "execution_count": null,
      "outputs": [
        {
          "output_type": "execute_result",
          "data": {
            "text/plain": [
              "['michael', 'florence']"
            ]
          },
          "metadata": {},
          "execution_count": 120
        }
      ]
    },
    {
      "cell_type": "code",
      "source": [
        "players[:2]"
      ],
      "metadata": {
        "id": "es9h-z76UN_U",
        "outputId": "024c738a-4da9-4067-8aed-323fcfedc7a4",
        "colab": {
          "base_uri": "https://localhost:8080/"
        }
      },
      "execution_count": null,
      "outputs": [
        {
          "output_type": "execute_result",
          "data": {
            "text/plain": [
              "['charles', 'martina']"
            ]
          },
          "metadata": {},
          "execution_count": 122
        }
      ]
    },
    {
      "cell_type": "code",
      "source": [
        "players[1:]"
      ],
      "metadata": {
        "id": "wl0ExCcyUglU",
        "outputId": "7ca5c904-607f-4843-c05a-4e49d930cc1e",
        "colab": {
          "base_uri": "https://localhost:8080/"
        }
      },
      "execution_count": null,
      "outputs": [
        {
          "output_type": "execute_result",
          "data": {
            "text/plain": [
              "['martina', 'michael', 'florence', 'eli']"
            ]
          },
          "metadata": {},
          "execution_count": 123
        }
      ]
    },
    {
      "cell_type": "code",
      "source": [
        "\n",
        "players[:]\n"
      ],
      "metadata": {
        "id": "_TFWJvk1UoYI",
        "outputId": "c9aaba3c-9935-42dd-91a3-161e25f2be0f",
        "colab": {
          "base_uri": "https://localhost:8080/"
        }
      },
      "execution_count": null,
      "outputs": [
        {
          "output_type": "execute_result",
          "data": {
            "text/plain": [
              "['charles', 'martina', 'michael', 'florence', 'eli']"
            ]
          },
          "metadata": {},
          "execution_count": 124
        }
      ]
    },
    {
      "cell_type": "code",
      "source": [
        "players[0:2]"
      ],
      "metadata": {
        "id": "cOkFWSE7UYfK"
      },
      "execution_count": null,
      "outputs": []
    },
    {
      "cell_type": "code",
      "source": [
        "print(players[-2])"
      ],
      "metadata": {
        "id": "hOJipLBhZ-YU"
      },
      "execution_count": null,
      "outputs": []
    },
    {
      "cell_type": "code",
      "source": [
        "print(players[1:4])"
      ],
      "metadata": {
        "id": "rsh7DhJd7Zek"
      },
      "execution_count": null,
      "outputs": []
    },
    {
      "cell_type": "code",
      "source": [
        "print(players[:4])"
      ],
      "metadata": {
        "id": "PcO-p-IS7cs4"
      },
      "execution_count": null,
      "outputs": []
    },
    {
      "cell_type": "code",
      "source": [
        "print(players[2:])"
      ],
      "metadata": {
        "id": "eFiNncoN7gej"
      },
      "execution_count": null,
      "outputs": []
    },
    {
      "cell_type": "code",
      "source": [
        "print(players[-3:])"
      ],
      "metadata": {
        "id": "JjOgBbXy7krV"
      },
      "execution_count": null,
      "outputs": []
    },
    {
      "cell_type": "markdown",
      "source": [
        "### Loop a través de un slice"
      ],
      "metadata": {
        "id": "CtAMacFd7qOP"
      }
    },
    {
      "cell_type": "code",
      "source": [
        "players = ['charles', 'martina', 'michael', 'florence', 'eli']\n",
        "\n",
        "print(\"Estos son los tres primeros jugadores del equipo:\")\n",
        "for player in players[:3]:\n",
        "    print(player.title())"
      ],
      "metadata": {
        "id": "uB10K-mq7vi-",
        "colab": {
          "base_uri": "https://localhost:8080/"
        },
        "outputId": "f812f89a-6e24-4acd-ecdd-1657eab4a902"
      },
      "execution_count": null,
      "outputs": [
        {
          "output_type": "stream",
          "name": "stdout",
          "text": [
            "Estos son los tres primeros jugadores del equipo:\n",
            "Charles\n",
            "Martina\n",
            "Michael\n"
          ]
        }
      ]
    },
    {
      "cell_type": "code",
      "source": [
        "texto = 'hola chicos fue un placer para mi tener nuestra primera clase juntos'\n",
        "print(texto)"
      ],
      "metadata": {
        "id": "1zYOTZqiVBBv",
        "outputId": "e9d1097b-fb05-4d79-9163-8c97f063f2fc",
        "colab": {
          "base_uri": "https://localhost:8080/"
        }
      },
      "execution_count": null,
      "outputs": [
        {
          "output_type": "stream",
          "name": "stdout",
          "text": [
            "hola chicos fue un placer para mi tener nuestra primera clase juntos\n"
          ]
        }
      ]
    },
    {
      "cell_type": "code",
      "source": [
        "texto = 'hola chicos fue un placer para mi tener nuestra primera clase juntos'\n",
        "print(texto.title())"
      ],
      "metadata": {
        "id": "jHYv5jDNVMyb",
        "outputId": "fe030ca2-c685-474a-c6d9-8ee8877a74b3",
        "colab": {
          "base_uri": "https://localhost:8080/"
        }
      },
      "execution_count": null,
      "outputs": [
        {
          "output_type": "stream",
          "name": "stdout",
          "text": [
            "Hola Chicos Fue Un Placer Para Mi Tener Nuestra Primera Clase Juntos\n"
          ]
        }
      ]
    },
    {
      "cell_type": "code",
      "source": [
        "texto = 'hola chicos fue un placer para mi tener nuestra primera clase juntos'\n",
        "print(texto.capitalize())"
      ],
      "metadata": {
        "id": "FeRstecVVVdX",
        "outputId": "e630135b-4d99-4b15-bafc-3a18703f5852",
        "colab": {
          "base_uri": "https://localhost:8080/"
        }
      },
      "execution_count": null,
      "outputs": [
        {
          "output_type": "stream",
          "name": "stdout",
          "text": [
            "Hola chicos fue un placer para mi tener nuestra primera clase juntos\n"
          ]
        }
      ]
    },
    {
      "cell_type": "markdown",
      "source": [
        "### Copiando una lista"
      ],
      "metadata": {
        "id": "jsCWYHQC8Faa"
      }
    },
    {
      "cell_type": "code",
      "source": [
        "my_foods = ['pizza', 'falafel', 'carrot cake']\n",
        "friend_foods = my_foods[:]"
      ],
      "metadata": {
        "id": "x8Vk1ehE8I21"
      },
      "execution_count": null,
      "outputs": []
    },
    {
      "cell_type": "code",
      "source": [
        "print(\"Mis platillos favoritos son:\")\n",
        "print(my_foods)"
      ],
      "metadata": {
        "id": "z0LWVPBd8SCK"
      },
      "execution_count": null,
      "outputs": []
    },
    {
      "cell_type": "code",
      "source": [
        "print(\"\\nMis platillos favoritos son:\")\n",
        "print(friend_foods)"
      ],
      "metadata": {
        "id": "WwwjEoWS8bcG"
      },
      "execution_count": null,
      "outputs": []
    },
    {
      "cell_type": "code",
      "source": [
        "my_foods.append('cannoli')\n",
        "friend_foods.append('ice cream')\n"
      ],
      "metadata": {
        "id": "722i5Iju865m"
      },
      "execution_count": null,
      "outputs": []
    },
    {
      "cell_type": "code",
      "source": [
        "print(\"Mis platillos favoritos son:\")\n",
        "print(my_foods)"
      ],
      "metadata": {
        "id": "WrvMdmk59CJ3"
      },
      "execution_count": null,
      "outputs": []
    },
    {
      "cell_type": "code",
      "source": [
        "print(\"\\nMis platillos favoritos son:\")\n",
        "print(friend_foods)"
      ],
      "metadata": {
        "id": "IUCV_DlY9DuC"
      },
      "execution_count": null,
      "outputs": []
    },
    {
      "cell_type": "markdown",
      "source": [
        "\n",
        "---\n",
        "\n",
        "<b> Ejercicio 1</b>\n",
        "\n",
        "Utilizando alguna lista definida anteriormente:\n",
        "\n",
        "*   Imprima el mensaje **Los tres primeros elementos de la lista son:**. Luego use un slice para imprimir los primeros tres elementos de la lista de ese programa.\n",
        "\n",
        "*   Imprima el mensaje **Tres elementos de la mitad de la lista son:**. Use un slice para imprimir tres elementos del medio de la lista.\n",
        "\n",
        "*   Imprima el mensaje **Los últimos tres elementos de la lista son:**. Utilice un slice para imprimir los últimos tres elementos de la lista."
      ],
      "metadata": {
        "id": "H30p04iC93Ma"
      }
    },
    {
      "cell_type": "code",
      "source": [
        "#Funcion general que imprime los n primeros elementos\n",
        "my_foods = ['pizza', 'falafel', 'carrot cake', 'ceviche', 'pasta', 'parrilla']\n",
        "n = 2\n",
        "\n",
        "print(f'Los {n} primeros elementos de la lista son:')\n",
        "for c in range(len(my_foods)):\n",
        "  if c < n:\n",
        "    print(\"\\t\", my_foods[c].title())\n",
        "\n",
        "\n",
        "\n"
      ],
      "metadata": {
        "id": "GoELAaXRqscL",
        "outputId": "8bee8b09-f077-494e-f764-4a406775a1e3",
        "colab": {
          "base_uri": "https://localhost:8080/"
        }
      },
      "execution_count": null,
      "outputs": [
        {
          "output_type": "stream",
          "name": "stdout",
          "text": [
            "Los 2 primeros elementos de la lista son:\n",
            "\t Pizza\n",
            "\t Falafel\n"
          ]
        }
      ]
    },
    {
      "cell_type": "markdown",
      "source": [
        "---\n",
        "\n",
        "<b> Ejercicio 2</b>\n",
        "\n",
        "Haga una copia de la lista de pizzas y llámela friend_pizzas. Luego, haz lo siguiente:\n",
        "\n",
        "* Agregue una nueva pizza a la lista original.\n",
        "* Agrega una pizza diferente a la lista friend_pizzas.\n",
        "* Demuestra que tienes dos listas separadas. Imprima el mensaje Mis pizzas favoritas son: y luego use un bucle for para imprimir la primera lista. Imprima el mensaje Las pizzas favoritas de mi amigo son: y luego use un bucle for para imprimir la segunda lista. Asegúrese de que cada pizza nueva se almacene en la lista adecuada."
      ],
      "metadata": {
        "id": "0SzOQQ7S_s1U"
      }
    },
    {
      "cell_type": "markdown",
      "source": [
        "### Métodos en listas"
      ],
      "metadata": {
        "id": "rtziGAxbbdaA"
      }
    },
    {
      "cell_type": "markdown",
      "source": [
        "Cómo modificar elementos de una lista"
      ],
      "metadata": {
        "id": "_uI-H89cXh4j"
      }
    },
    {
      "cell_type": "code",
      "source": [
        "a[2] = 1\n",
        "print(a)"
      ],
      "metadata": {
        "id": "ljQaRRo8XkIT"
      },
      "execution_count": null,
      "outputs": []
    },
    {
      "cell_type": "code",
      "source": [
        "my_foods = ['pizza', 'falafel', 'carrot cake', 'ceviche', 'pasta', 'parrilla']\n",
        "my_foods_temp = my_foods\n"
      ],
      "metadata": {
        "id": "BoE2ssD-s7Ok"
      },
      "execution_count": null,
      "outputs": []
    },
    {
      "cell_type": "code",
      "source": [
        "del my_foods[1]"
      ],
      "metadata": {
        "id": "rU-QdpNOs_N5"
      },
      "execution_count": null,
      "outputs": []
    },
    {
      "cell_type": "code",
      "source": [
        "my_foods"
      ],
      "metadata": {
        "id": "jicIVPqQtH05",
        "outputId": "b140620a-1858-4ccf-9430-4c5a0a736894",
        "colab": {
          "base_uri": "https://localhost:8080/"
        }
      },
      "execution_count": null,
      "outputs": [
        {
          "output_type": "execute_result",
          "data": {
            "text/plain": [
              "['pizza', 'carrot cake', 'ceviche', 'pasta', 'parrilla']"
            ]
          },
          "metadata": {},
          "execution_count": 41
        }
      ]
    },
    {
      "cell_type": "code",
      "source": [
        "print(my_foods)"
      ],
      "metadata": {
        "id": "5GP8G_J0tTNG",
        "outputId": "1710324d-d659-448c-fe6d-b1bf551bc584",
        "colab": {
          "base_uri": "https://localhost:8080/"
        }
      },
      "execution_count": null,
      "outputs": [
        {
          "output_type": "stream",
          "name": "stdout",
          "text": [
            "['pizza', 'falafel', 'carrot cake', 'ceviche', 'pasta', 'parrilla']\n"
          ]
        }
      ]
    },
    {
      "cell_type": "code",
      "source": [
        "del my_foods"
      ],
      "metadata": {
        "id": "XFnGIsR4tKrs"
      },
      "execution_count": null,
      "outputs": []
    },
    {
      "cell_type": "code",
      "source": [
        "del a[1]\n",
        "print(a)"
      ],
      "metadata": {
        "id": "Luy_f1hDXs-Q"
      },
      "execution_count": null,
      "outputs": []
    },
    {
      "cell_type": "code",
      "source": [
        "my_foods"
      ],
      "metadata": {
        "id": "yPy59wfftsOi",
        "outputId": "9e82891b-0672-42ff-9103-a74bdc30108d",
        "colab": {
          "base_uri": "https://localhost:8080/"
        }
      },
      "execution_count": null,
      "outputs": [
        {
          "output_type": "execute_result",
          "data": {
            "text/plain": [
              "['pizza', 'falafel', 'carrot cake', 'ceviche', 'pasta', 'parrilla']"
            ]
          },
          "metadata": {},
          "execution_count": 46
        }
      ]
    },
    {
      "cell_type": "code",
      "source": [
        "my_foods[3] = 'sushi'\n",
        "my_foods"
      ],
      "metadata": {
        "id": "IqL7CxRStv_k",
        "outputId": "18f7afc6-c94b-4403-e014-6fc55b9e7290",
        "colab": {
          "base_uri": "https://localhost:8080/"
        }
      },
      "execution_count": null,
      "outputs": [
        {
          "output_type": "execute_result",
          "data": {
            "text/plain": [
              "['pizza', 'falafel', 'carrot cake', 'sushi', 'pasta', 'parrilla']"
            ]
          },
          "metadata": {},
          "execution_count": 47
        }
      ]
    },
    {
      "cell_type": "code",
      "source": [
        "my_foods[0:1] = [0, 0, 0]"
      ],
      "metadata": {
        "id": "Kckrn4w1YJpX"
      },
      "execution_count": null,
      "outputs": []
    },
    {
      "cell_type": "code",
      "source": [
        "my_foods"
      ],
      "metadata": {
        "id": "KI7RSvF7uB8i",
        "outputId": "0ffe438d-e8ab-4094-d83f-0058fbeae18d",
        "colab": {
          "base_uri": "https://localhost:8080/"
        }
      },
      "execution_count": null,
      "outputs": [
        {
          "output_type": "execute_result",
          "data": {
            "text/plain": [
              "[0, 0, 0, 'falafel', 'carrot cake', 'ceviche', 'pasta', 'parrilla']"
            ]
          },
          "metadata": {},
          "execution_count": 55
        }
      ]
    },
    {
      "cell_type": "markdown",
      "source": [
        "operaciones con listas"
      ],
      "metadata": {
        "id": "DN5HW9RsYxnC"
      }
    },
    {
      "cell_type": "code",
      "source": [
        "a = [1, 2, 3, 4]\n",
        "b = [4, 5]\n",
        "\n",
        "c = a + b\n",
        "c"
      ],
      "metadata": {
        "id": "K7--9T5YuwHf",
        "outputId": "386259b9-7abd-4bde-bdde-e4008c1aac88",
        "colab": {
          "base_uri": "https://localhost:8080/"
        }
      },
      "execution_count": null,
      "outputs": [
        {
          "output_type": "execute_result",
          "data": {
            "text/plain": [
              "[1, 2, 3, 4, 4, 5]"
            ]
          },
          "metadata": {},
          "execution_count": 60
        }
      ]
    },
    {
      "cell_type": "code",
      "source": [
        "a = 10\n",
        "#a = a + 5\n",
        "#a += 5"
      ],
      "metadata": {
        "id": "v8He_K8FvEK3"
      },
      "execution_count": null,
      "outputs": []
    },
    {
      "cell_type": "code",
      "source": [
        "a = [1, 2, 3]\n",
        "a += [4, 5]"
      ],
      "metadata": {
        "id": "aEvwsDMUYuRl"
      },
      "execution_count": null,
      "outputs": []
    },
    {
      "cell_type": "code",
      "source": [
        "a = [1, 2, 3]\n",
        "x, y, z = a"
      ],
      "metadata": {
        "id": "CQ9ZCpYYY6Ju"
      },
      "execution_count": null,
      "outputs": []
    },
    {
      "cell_type": "markdown",
      "source": [
        "<b>append</b>\n",
        "\n",
        "Añade un elemento al final de la lista."
      ],
      "metadata": {
        "id": "tbWqTw9dd856"
      }
    },
    {
      "cell_type": "code",
      "source": [
        "a = [1, 2]\n",
        "a.append(3)\n",
        "print(a)"
      ],
      "metadata": {
        "id": "OrGDrO18d4T4"
      },
      "execution_count": null,
      "outputs": []
    },
    {
      "cell_type": "code",
      "source": [
        "my_foods = ['pizza', 'falafel', 'carrot cake']\n",
        "my_foods.append('ceviche')\n",
        "print(my_foods)"
      ],
      "metadata": {
        "id": "7aEYpJ_xvSkR",
        "outputId": "47c9b891-e35b-43c2-ad82-d9e6faf443c4",
        "colab": {
          "base_uri": "https://localhost:8080/"
        }
      },
      "execution_count": null,
      "outputs": [
        {
          "output_type": "stream",
          "name": "stdout",
          "text": [
            "['pizza', 'falafel', 'carrot cake', 'ceviche']\n"
          ]
        }
      ]
    },
    {
      "cell_type": "code",
      "source": [
        "my_foods.append(['ceviche', 'sopa seca'])\n",
        "my_foods\n"
      ],
      "metadata": {
        "id": "600FSN5cvik-",
        "outputId": "c320f216-a749-4c3e-baa4-4f496e3c35cf",
        "colab": {
          "base_uri": "https://localhost:8080/"
        }
      },
      "execution_count": null,
      "outputs": [
        {
          "output_type": "execute_result",
          "data": {
            "text/plain": [
              "['pizza', 'falafel', 'carrot cake', 'ceviche', ['ceviche', 'sopa seca']]"
            ]
          },
          "metadata": {},
          "execution_count": 63
        }
      ]
    },
    {
      "cell_type": "markdown",
      "source": [
        "<b>extend</b>\n",
        "\n",
        "Permite añadir una lista a la lista inicial."
      ],
      "metadata": {
        "id": "RSLZWJImeZKp"
      }
    },
    {
      "cell_type": "code",
      "source": [
        "a = [1, 2]\n",
        "a.extend([3, 4])\n",
        "print(a)"
      ],
      "metadata": {
        "id": "5CODoynfeH8T"
      },
      "execution_count": null,
      "outputs": []
    },
    {
      "cell_type": "code",
      "source": [
        "my_foods = ['pizza', 'falafel', 'carrot cake']\n",
        "\n",
        "my_foods.extend(['ceviche', 'sopa seca'])\n",
        "print(my_foods)"
      ],
      "metadata": {
        "id": "tE1ULhO7vwiF",
        "outputId": "548b2069-1f74-4e0b-ed11-db527894fdce",
        "colab": {
          "base_uri": "https://localhost:8080/"
        }
      },
      "execution_count": null,
      "outputs": [
        {
          "output_type": "stream",
          "name": "stdout",
          "text": [
            "['pizza', 'falafel', 'carrot cake', 'ceviche', 'sopa seca']\n"
          ]
        }
      ]
    },
    {
      "cell_type": "markdown",
      "source": [
        "<b>insert</b>\n",
        "\n",
        "Añade un elemento en una posición o índice determinado."
      ],
      "metadata": {
        "id": "X4aELbOGemLf"
      }
    },
    {
      "cell_type": "code",
      "source": [
        "a = [1, 3]\n",
        "a.insert(1, 10)\n",
        "print(a)\n"
      ],
      "metadata": {
        "id": "nkA9mg2Zelp9"
      },
      "execution_count": null,
      "outputs": []
    },
    {
      "cell_type": "code",
      "source": [
        "my_foods = ['pizza', 'falafel', 'carrot cake']\n",
        "my_foods.insert(2, 'ceviche')\n",
        "print(my_foods)"
      ],
      "metadata": {
        "id": "lkYFvPOsv_r4",
        "outputId": "124040ee-0edb-4b5c-e69d-35647d1c0680",
        "colab": {
          "base_uri": "https://localhost:8080/"
        }
      },
      "execution_count": null,
      "outputs": [
        {
          "output_type": "stream",
          "name": "stdout",
          "text": [
            "['pizza', 'falafel', 'ceviche', 'carrot cake']\n"
          ]
        }
      ]
    },
    {
      "cell_type": "markdown",
      "source": [
        "<b>remove</b>\n",
        "\n",
        "Elimina elementos de una lista"
      ],
      "metadata": {
        "id": "K01BT2bwb5-M"
      }
    },
    {
      "cell_type": "code",
      "source": [
        "a = [1, 2, 3]\n",
        "a.remove(2)\n",
        "print(a)"
      ],
      "metadata": {
        "id": "1BUKPZR6b4Ux"
      },
      "execution_count": null,
      "outputs": []
    },
    {
      "cell_type": "code",
      "source": [
        "my_foods.remove('ceviche')\n",
        "print(my_foods)"
      ],
      "metadata": {
        "id": "lVoGqzbUwNv1",
        "outputId": "9e630012-cc60-4c9e-88b9-43e218452ec7",
        "colab": {
          "base_uri": "https://localhost:8080/"
        }
      },
      "execution_count": null,
      "outputs": [
        {
          "output_type": "stream",
          "name": "stdout",
          "text": [
            "['pizza', 'falafel', 'carrot cake']\n"
          ]
        }
      ]
    },
    {
      "cell_type": "code",
      "source": [
        "del my_foods[3]"
      ],
      "metadata": {
        "id": "pnwAWLtJwU1Q"
      },
      "execution_count": null,
      "outputs": []
    },
    {
      "cell_type": "markdown",
      "source": [
        "<b>pop</b>\n",
        "\n",
        "Elimina por defecto el último elemento de la lista, pero si se pasa como parámetro un índice permite borrar elementos diferentes al último"
      ],
      "metadata": {
        "id": "hyQqOiPycPe3"
      }
    },
    {
      "cell_type": "code",
      "source": [
        "a = [1, 2, 3]\n",
        "a.pop()\n",
        "print(a)"
      ],
      "metadata": {
        "id": "RTZg_94ccERy"
      },
      "execution_count": null,
      "outputs": []
    },
    {
      "cell_type": "code",
      "source": [
        "my_foods = ['pizza', 'falafel', 'carrot cake']\n",
        "my_foods.pop()\n",
        "print(my_foods)"
      ],
      "metadata": {
        "id": "MLAcdDpWwlZb",
        "outputId": "a78257fe-da82-4d7f-c54f-742739a1634a",
        "colab": {
          "base_uri": "https://localhost:8080/"
        }
      },
      "execution_count": null,
      "outputs": [
        {
          "output_type": "stream",
          "name": "stdout",
          "text": [
            "['pizza', 'falafel']\n"
          ]
        }
      ]
    },
    {
      "cell_type": "markdown",
      "source": [
        "<b>reverse</b>\n",
        "Inverte el orden de la lista"
      ],
      "metadata": {
        "id": "ahnIK-gwcs5n"
      }
    },
    {
      "cell_type": "code",
      "source": [
        "a = [1, 2, 3]\n",
        "a.reverse()\n",
        "print(a)"
      ],
      "metadata": {
        "id": "oKaCsJb8cj9L"
      },
      "execution_count": null,
      "outputs": []
    },
    {
      "cell_type": "code",
      "source": [
        "my_foods = ['pizza', 'falafel', 'carrot cake']\n",
        "my_foods.reverse()\n",
        "print(my_foods)"
      ],
      "metadata": {
        "id": "nh2_ozpMxBGd",
        "outputId": "0dd74b2d-1485-46ed-d3b3-a9b8f3c9cb10",
        "colab": {
          "base_uri": "https://localhost:8080/"
        }
      },
      "execution_count": null,
      "outputs": [
        {
          "output_type": "stream",
          "name": "stdout",
          "text": [
            "['carrot cake', 'falafel', 'pizza']\n"
          ]
        }
      ]
    },
    {
      "cell_type": "markdown",
      "source": [
        "<b>sort</b>\n",
        "\n",
        "Ordena los elementos de menor a mayor.\n"
      ],
      "metadata": {
        "id": "1PBBSmTYc2PV"
      }
    },
    {
      "cell_type": "code",
      "source": [
        "a = [3, 1, 2]\n",
        "a.sort()\n",
        "print(a)"
      ],
      "metadata": {
        "id": "2sk8cIFEcpge"
      },
      "execution_count": null,
      "outputs": []
    },
    {
      "cell_type": "code",
      "source": [
        "'pizza' < 2"
      ],
      "metadata": {
        "id": "SsCbB0Qlx1Rq"
      },
      "execution_count": null,
      "outputs": []
    },
    {
      "cell_type": "code",
      "source": [
        "my_foods = ['pizza', 'falafel', 'carrot cake', 'Arroz chaufa']\n",
        "my_foods.sort()\n",
        "print(my_foods)"
      ],
      "metadata": {
        "id": "98vQCrD6xJ1v",
        "outputId": "896f7d47-dba3-4a5b-e6cb-9f90a658d063",
        "colab": {
          "base_uri": "https://localhost:8080/"
        }
      },
      "execution_count": null,
      "outputs": [
        {
          "output_type": "stream",
          "name": "stdout",
          "text": [
            "['Arroz chaufa', 'carrot cake', 'falafel', 'pizza']\n"
          ]
        }
      ]
    },
    {
      "cell_type": "code",
      "source": [
        "a = [3, 1, 2]\n",
        "a.sort(reverse = True)\n",
        "print(a)"
      ],
      "metadata": {
        "id": "DgGpEvX8dCGh"
      },
      "execution_count": null,
      "outputs": []
    },
    {
      "cell_type": "code",
      "source": [
        "my_foods = ['pizza', 'falafel', 'carrot cake', 'Arroz chaufa']\n",
        "my_foods.sort(reverse = True)\n",
        "print(my_foods)"
      ],
      "metadata": {
        "id": "_6cVQA0oxaYU",
        "outputId": "eabe227e-b7b3-4f7b-8134-712d5e8ace18",
        "colab": {
          "base_uri": "https://localhost:8080/"
        }
      },
      "execution_count": null,
      "outputs": [
        {
          "output_type": "stream",
          "name": "stdout",
          "text": [
            "['pizza', 'falafel', 'carrot cake', 'Arroz chaufa']\n"
          ]
        }
      ]
    },
    {
      "cell_type": "code",
      "source": [
        "a = ['John', 'Ricardo', 'Marcelo', 'Heidy', 'Nataly']\n",
        "a.index('Ricardo')"
      ],
      "metadata": {
        "colab": {
          "base_uri": "https://localhost:8080/"
        },
        "id": "z2z_g3CmdZvL",
        "outputId": "836a39e8-1813-4a7d-b7a9-40e4e1fd09bb"
      },
      "execution_count": null,
      "outputs": [
        {
          "output_type": "execute_result",
          "data": {
            "text/plain": [
              "1"
            ]
          },
          "metadata": {},
          "execution_count": 13
        }
      ]
    },
    {
      "cell_type": "code",
      "source": [
        "my_foods = ['pizza', 'Arroz chaufa','falafel', 'carrot cake', 'Arroz chaufa', 'Arroz chaufa']\n",
        "my_foods.index('Arroz chaufa')\n"
      ],
      "metadata": {
        "id": "4cfQI0MTx_lQ",
        "outputId": "73e097fc-7a31-4f4f-a0f7-7da19b9974b3",
        "colab": {
          "base_uri": "https://localhost:8080/"
        }
      },
      "execution_count": null,
      "outputs": [
        {
          "output_type": "execute_result",
          "data": {
            "text/plain": [
              "1"
            ]
          },
          "metadata": {},
          "execution_count": 80
        }
      ]
    },
    {
      "cell_type": "code",
      "source": [
        "my_foods = ['pizza', 'Arroz chaufa','falafel', 'carrot cake', 'Arroz chaufa', 'Arroz chaufa']\n",
        "index_my_foods = range(len(my_foods))\n",
        "\n",
        "for food, indice in zip(my_foods, index_my_foods):\n",
        "  if food == 'Arroz chaufa':\n",
        "    print(food, indice)\n",
        "\n"
      ],
      "metadata": {
        "id": "uYYTeryKyeWe",
        "outputId": "05b99a38-0ef6-40e4-c41d-e544beee9876",
        "colab": {
          "base_uri": "https://localhost:8080/"
        }
      },
      "execution_count": null,
      "outputs": [
        {
          "output_type": "stream",
          "name": "stdout",
          "text": [
            "Arroz chaufa 1\n",
            "Arroz chaufa 4\n",
            "Arroz chaufa 5\n"
          ]
        }
      ]
    },
    {
      "cell_type": "markdown",
      "source": [
        "# 3. Tuplas"
      ],
      "metadata": {
        "id": "qXYwCDghBHAx"
      }
    },
    {
      "cell_type": "code",
      "source": [
        "my_tuple = (1, 2, 5, 6 , 10)\n",
        "print(my_tuple)\n"
      ],
      "metadata": {
        "id": "NmITWnsLeZWb",
        "outputId": "35040299-ab89-48bc-b49e-85361a683041",
        "colab": {
          "base_uri": "https://localhost:8080/"
        }
      },
      "execution_count": null,
      "outputs": [
        {
          "output_type": "stream",
          "name": "stdout",
          "text": [
            "(1, 2, 5, 6, 10)\n"
          ]
        }
      ]
    },
    {
      "cell_type": "code",
      "source": [
        "my_tuple = (1)\n",
        "print(my_tuple)\n"
      ],
      "metadata": {
        "id": "PkBIwxaqex5v",
        "outputId": "f65137ee-b8dd-43d1-e0a2-502cedbc567d",
        "colab": {
          "base_uri": "https://localhost:8080/"
        }
      },
      "execution_count": null,
      "outputs": [
        {
          "output_type": "stream",
          "name": "stdout",
          "text": [
            "(1,)\n"
          ]
        }
      ]
    },
    {
      "cell_type": "code",
      "source": [
        "type(my_tuple)"
      ],
      "metadata": {
        "id": "PgTn-Diee1r8",
        "outputId": "9ad2f906-fd33-43c9-9f3a-fc27f6d9851c",
        "colab": {
          "base_uri": "https://localhost:8080/"
        }
      },
      "execution_count": null,
      "outputs": [
        {
          "output_type": "execute_result",
          "data": {
            "text/plain": [
              "tuple"
            ]
          },
          "metadata": {},
          "execution_count": 25
        }
      ]
    },
    {
      "cell_type": "code",
      "source": [
        "[1]"
      ],
      "metadata": {
        "id": "tWi256yRfAhM",
        "outputId": "bac1200e-e84b-44f9-dc3c-4463a6ad5332",
        "colab": {
          "base_uri": "https://localhost:8080/"
        }
      },
      "execution_count": null,
      "outputs": [
        {
          "output_type": "execute_result",
          "data": {
            "text/plain": [
              "[1]"
            ]
          },
          "metadata": {},
          "execution_count": 30
        }
      ]
    },
    {
      "cell_type": "code",
      "source": [
        "my_tuple = (1, 2, 5, 6 , 10, 19)"
      ],
      "metadata": {
        "id": "Wyf6Fjj7frrZ"
      },
      "execution_count": null,
      "outputs": []
    },
    {
      "cell_type": "code",
      "source": [
        "my_tuple[3] = 'hola'"
      ],
      "metadata": {
        "id": "OrymXAa0fubg",
        "outputId": "6849219b-6dab-4820-bc45-3a947e159d46",
        "colab": {
          "base_uri": "https://localhost:8080/",
          "height": 166
        }
      },
      "execution_count": null,
      "outputs": [
        {
          "output_type": "error",
          "ename": "TypeError",
          "evalue": "ignored",
          "traceback": [
            "\u001b[0;31m---------------------------------------------------------------------------\u001b[0m",
            "\u001b[0;31mTypeError\u001b[0m                                 Traceback (most recent call last)",
            "\u001b[0;32m<ipython-input-36-1d2f5e16f929>\u001b[0m in \u001b[0;36m<cell line: 1>\u001b[0;34m()\u001b[0m\n\u001b[0;32m----> 1\u001b[0;31m \u001b[0mmy_tuple\u001b[0m\u001b[0;34m[\u001b[0m\u001b[0;36m3\u001b[0m\u001b[0;34m]\u001b[0m \u001b[0;34m=\u001b[0m \u001b[0;34m'hola'\u001b[0m\u001b[0;34m\u001b[0m\u001b[0;34m\u001b[0m\u001b[0m\n\u001b[0m",
            "\u001b[0;31mTypeError\u001b[0m: 'tuple' object does not support item assignment"
          ]
        }
      ]
    },
    {
      "cell_type": "code",
      "source": [
        "for x in (x for x in range(0,11)):\n",
        "  print(x)"
      ],
      "metadata": {
        "id": "yLKEGEaGgMIE",
        "outputId": "4f16b4f1-f7eb-4736-8593-93221381b042",
        "colab": {
          "base_uri": "https://localhost:8080/"
        }
      },
      "execution_count": null,
      "outputs": [
        {
          "output_type": "stream",
          "name": "stdout",
          "text": [
            "0\n",
            "1\n",
            "2\n",
            "3\n",
            "4\n",
            "5\n",
            "6\n",
            "7\n",
            "8\n",
            "9\n",
            "10\n"
          ]
        }
      ]
    },
    {
      "cell_type": "code",
      "source": [
        "dimensions = (200, 50)"
      ],
      "metadata": {
        "id": "umIk-vrP_sXx"
      },
      "execution_count": null,
      "outputs": []
    },
    {
      "cell_type": "code",
      "source": [
        "print(dimensions[0])"
      ],
      "metadata": {
        "id": "adBx3YWqB1xF",
        "outputId": "379a291c-7e89-4128-c110-7f5089c80812",
        "colab": {
          "base_uri": "https://localhost:8080/"
        }
      },
      "execution_count": null,
      "outputs": [
        {
          "output_type": "stream",
          "name": "stdout",
          "text": [
            "200\n"
          ]
        }
      ]
    },
    {
      "cell_type": "code",
      "source": [
        "print(dimensions[1])"
      ],
      "metadata": {
        "id": "EXHXNGfoB54Y",
        "outputId": "2151b4d1-51d0-4f1b-eab5-a03ec474cf52",
        "colab": {
          "base_uri": "https://localhost:8080/"
        }
      },
      "execution_count": null,
      "outputs": [
        {
          "output_type": "stream",
          "name": "stdout",
          "text": [
            "50\n"
          ]
        }
      ]
    },
    {
      "cell_type": "code",
      "source": [
        "dimensions[0] = 250"
      ],
      "metadata": {
        "id": "CiUL-aB3CJMx",
        "outputId": "2eda0b13-0ffb-42de-eaa4-de213a4c019f",
        "colab": {
          "base_uri": "https://localhost:8080/",
          "height": 166
        }
      },
      "execution_count": null,
      "outputs": [
        {
          "output_type": "error",
          "ename": "TypeError",
          "evalue": "ignored",
          "traceback": [
            "\u001b[0;31m---------------------------------------------------------------------------\u001b[0m",
            "\u001b[0;31mTypeError\u001b[0m                                 Traceback (most recent call last)",
            "\u001b[0;32m<ipython-input-42-00271e61a311>\u001b[0m in \u001b[0;36m<cell line: 1>\u001b[0;34m()\u001b[0m\n\u001b[0;32m----> 1\u001b[0;31m \u001b[0mdimensions\u001b[0m\u001b[0;34m[\u001b[0m\u001b[0;36m0\u001b[0m\u001b[0;34m]\u001b[0m \u001b[0;34m=\u001b[0m \u001b[0;36m250\u001b[0m\u001b[0;34m\u001b[0m\u001b[0;34m\u001b[0m\u001b[0m\n\u001b[0m",
            "\u001b[0;31mTypeError\u001b[0m: 'tuple' object does not support item assignment"
          ]
        }
      ]
    },
    {
      "cell_type": "markdown",
      "source": [
        "### Loops a traves de una Tupla"
      ],
      "metadata": {
        "id": "5SkhgqGSCX7Z"
      }
    },
    {
      "cell_type": "code",
      "source": [
        "dimensions = (200, 50, 100, 60)\n",
        "for dimension in dimensions:\n",
        "    print(dimension)"
      ],
      "metadata": {
        "id": "N9sSXtO3CoPp",
        "outputId": "8b107c2e-3ebd-451f-da8c-5350934da86b",
        "colab": {
          "base_uri": "https://localhost:8080/"
        }
      },
      "execution_count": null,
      "outputs": [
        {
          "output_type": "stream",
          "name": "stdout",
          "text": [
            "200\n",
            "50\n",
            "100\n",
            "60\n"
          ]
        }
      ]
    },
    {
      "cell_type": "markdown",
      "source": [
        "### Modificando una tupla"
      ],
      "metadata": {
        "id": "y-nYJPBwC5jg"
      }
    },
    {
      "cell_type": "code",
      "source": [
        "print(\"Dimensiones originales:\")\n",
        "for dimension in dimensions:\n",
        "    print(dimension)"
      ],
      "metadata": {
        "id": "ze8gyArPCz0Z",
        "outputId": "364636a9-1da7-4280-a087-21ce4a16a55a",
        "colab": {
          "base_uri": "https://localhost:8080/"
        }
      },
      "execution_count": null,
      "outputs": [
        {
          "output_type": "stream",
          "name": "stdout",
          "text": [
            "Dimensiones originales:\n",
            "200\n",
            "50\n",
            "100\n",
            "60\n"
          ]
        }
      ]
    },
    {
      "cell_type": "code",
      "source": [
        "dimensions = (400, 100)\n",
        "print(\"\\nModified dimensions:\")\n",
        "for dimension in dimensions:\n",
        "  print(dimension)"
      ],
      "metadata": {
        "id": "9Ej9n7-9C_Jc",
        "outputId": "3a65bcec-9448-4de5-c17e-a740d0c67df6",
        "colab": {
          "base_uri": "https://localhost:8080/"
        }
      },
      "execution_count": null,
      "outputs": [
        {
          "output_type": "stream",
          "name": "stdout",
          "text": [
            "\n",
            "Modified dimensions:\n",
            "400\n",
            "100\n"
          ]
        }
      ]
    },
    {
      "cell_type": "code",
      "source": [
        "my_list = [1, 2, 3, 4, 5]\n",
        "print(my_list)\n"
      ],
      "metadata": {
        "id": "n0y-BTalgxOt",
        "outputId": "250a1969-7600-42d6-84d4-548be8a8f7b9",
        "colab": {
          "base_uri": "https://localhost:8080/"
        }
      },
      "execution_count": null,
      "outputs": [
        {
          "output_type": "stream",
          "name": "stdout",
          "text": [
            "[1, 2, 3, 4, 5]\n"
          ]
        }
      ]
    },
    {
      "cell_type": "code",
      "source": [
        "my_tuple = tuple(my_list)\n",
        "print(my_tuple)\n"
      ],
      "metadata": {
        "id": "G9Q9m6wzhARM",
        "outputId": "9da3ce68-4e53-4353-d77e-fa09a61fd605",
        "colab": {
          "base_uri": "https://localhost:8080/"
        }
      },
      "execution_count": null,
      "outputs": [
        {
          "output_type": "stream",
          "name": "stdout",
          "text": [
            "(1, 2, 3, 4, 5)\n"
          ]
        }
      ]
    },
    {
      "cell_type": "code",
      "source": [
        "my_list2 = list(my_tuple)\n",
        "print(my_list2)\n"
      ],
      "metadata": {
        "id": "h1bNzF9khFHL",
        "outputId": "a6424ac6-c8c1-42d4-fa2d-05b3ffaabb32",
        "colab": {
          "base_uri": "https://localhost:8080/"
        }
      },
      "execution_count": null,
      "outputs": [
        {
          "output_type": "stream",
          "name": "stdout",
          "text": [
            "[1, 2, 3, 4, 5]\n"
          ]
        }
      ]
    },
    {
      "cell_type": "code",
      "source": [
        "(1,(2, 3))"
      ],
      "metadata": {
        "id": "xQxY_ErfhW1e",
        "outputId": "1d8e578c-07b3-4e4c-d19a-c94934ad5651",
        "colab": {
          "base_uri": "https://localhost:8080/"
        }
      },
      "execution_count": null,
      "outputs": [
        {
          "output_type": "execute_result",
          "data": {
            "text/plain": [
              "(1, (2, 3))"
            ]
          },
          "metadata": {},
          "execution_count": 51
        }
      ]
    },
    {
      "cell_type": "code",
      "source": [
        "[1, 2, (7, 8)]"
      ],
      "metadata": {
        "id": "wTWTlP5zhZtZ",
        "outputId": "70d69082-aebf-4f70-fc34-7a59dcefc0fc",
        "colab": {
          "base_uri": "https://localhost:8080/"
        }
      },
      "execution_count": null,
      "outputs": [
        {
          "output_type": "execute_result",
          "data": {
            "text/plain": [
              "[1, 2, (7, 8)]"
            ]
          },
          "metadata": {},
          "execution_count": 52
        }
      ]
    },
    {
      "cell_type": "code",
      "source": [
        "(1, 2, [3, 7])"
      ],
      "metadata": {
        "id": "PRerK11XhceC",
        "outputId": "cf6c38c7-b2fc-47ad-8948-3368b35b0015",
        "colab": {
          "base_uri": "https://localhost:8080/"
        }
      },
      "execution_count": null,
      "outputs": [
        {
          "output_type": "execute_result",
          "data": {
            "text/plain": [
              "(1, 2, [3, 7])"
            ]
          },
          "metadata": {},
          "execution_count": 53
        }
      ]
    },
    {
      "cell_type": "code",
      "source": [
        "my_tuple = ('a', 'b', 'c', 'd')\n",
        "\n",
        "elemento = 'z'\n",
        "\n",
        "if elemento in my_tuple:\n",
        "  print('el elemento esta en la tupla')\n",
        "else:\n",
        "  print('el elemento no esta en la tupla')\n",
        "\n"
      ],
      "metadata": {
        "id": "QwbAEK7FiHvD",
        "outputId": "782236f5-06c5-4e32-abab-e890f9595dd4",
        "colab": {
          "base_uri": "https://localhost:8080/"
        }
      },
      "execution_count": null,
      "outputs": [
        {
          "output_type": "stream",
          "name": "stdout",
          "text": [
            "el elemento no esta en la tupla\n"
          ]
        }
      ]
    },
    {
      "cell_type": "code",
      "source": [
        "elemento in my_tuple"
      ],
      "metadata": {
        "id": "5rlAOwSQihir",
        "outputId": "2e5c3de8-0254-4142-8313-26de27ca13f0",
        "colab": {
          "base_uri": "https://localhost:8080/"
        }
      },
      "execution_count": null,
      "outputs": [
        {
          "output_type": "execute_result",
          "data": {
            "text/plain": [
              "False"
            ]
          },
          "metadata": {},
          "execution_count": 57
        }
      ]
    },
    {
      "cell_type": "markdown",
      "source": [
        "---\n",
        "\n",
        "<b> Ejercicio 1</b>\n",
        "\n",
        "Un restaurante estilo buffet ofrece solo cinco alimentos básicos. Piense en cinco alimentos simples y guárdelos en una tupla.\n",
        "\n",
        "* Use un bucle for para imprimir cada comida que ofrece el restaurante.\n",
        "Intente modificar uno de los elementos y asegúrese de que Python rechace el cambio.\n",
        "* El restaurante cambia su menú, reemplazando dos de los artículos con comidas diferentes. Agregue una línea que reescriba la tupla y luego use un ciclo for para imprimir cada uno de los elementos en el menú revisado.\n",
        "\n",
        "---"
      ],
      "metadata": {
        "id": "WHk9FL9lDtBY"
      }
    },
    {
      "cell_type": "code",
      "source": [
        "menu = ('pizza', 'pasta', 'parrilla', 'chaufa', 'ceviche')"
      ],
      "metadata": {
        "id": "bDe62SuMi7QY"
      },
      "execution_count": null,
      "outputs": []
    },
    {
      "cell_type": "code",
      "source": [
        "for c in menu:\n",
        "  print(c)"
      ],
      "metadata": {
        "id": "mDIYuMzxjI7c",
        "outputId": "9ba60029-55b6-40fa-d732-01ee52d6cb2f",
        "colab": {
          "base_uri": "https://localhost:8080/"
        }
      },
      "execution_count": null,
      "outputs": [
        {
          "output_type": "stream",
          "name": "stdout",
          "text": [
            "pizza\n",
            "pasta\n",
            "parrilla\n",
            "chaufa\n",
            "ceviche\n"
          ]
        }
      ]
    },
    {
      "cell_type": "code",
      "source": [
        "menu.remove('pasta')"
      ],
      "metadata": {
        "id": "NDHh-E3LjRXj",
        "outputId": "0bea1643-42f0-422b-c823-a8b753741bdc",
        "colab": {
          "base_uri": "https://localhost:8080/",
          "height": 166
        }
      },
      "execution_count": null,
      "outputs": [
        {
          "output_type": "error",
          "ename": "AttributeError",
          "evalue": "ignored",
          "traceback": [
            "\u001b[0;31m---------------------------------------------------------------------------\u001b[0m",
            "\u001b[0;31mAttributeError\u001b[0m                            Traceback (most recent call last)",
            "\u001b[0;32m<ipython-input-60-5c64418fc0f1>\u001b[0m in \u001b[0;36m<cell line: 1>\u001b[0;34m()\u001b[0m\n\u001b[0;32m----> 1\u001b[0;31m \u001b[0mmenu\u001b[0m\u001b[0;34m.\u001b[0m\u001b[0mremove\u001b[0m\u001b[0;34m(\u001b[0m\u001b[0;34m'pasta'\u001b[0m\u001b[0;34m)\u001b[0m\u001b[0;34m\u001b[0m\u001b[0;34m\u001b[0m\u001b[0m\n\u001b[0m",
            "\u001b[0;31mAttributeError\u001b[0m: 'tuple' object has no attribute 'remove'"
          ]
        }
      ]
    },
    {
      "cell_type": "code",
      "source": [
        "menu = ('pizza', 'pasta', 'parrilla', 'chaufa', 'ceviche', 'salteña', 'pollo al horno')\n",
        "for c in menu:\n",
        "  print(c)"
      ],
      "metadata": {
        "id": "d4Litmd0jaX9",
        "outputId": "5071607a-cb4d-44e9-acf5-17baa947fd86",
        "colab": {
          "base_uri": "https://localhost:8080/"
        }
      },
      "execution_count": null,
      "outputs": [
        {
          "output_type": "stream",
          "name": "stdout",
          "text": [
            "pizza\n",
            "pasta\n",
            "parrilla\n",
            "chaufa\n",
            "ceviche\n",
            "salteña\n",
            "pollo al horno\n"
          ]
        }
      ]
    },
    {
      "cell_type": "markdown",
      "source": [
        "# 4. Diccionarios"
      ],
      "metadata": {
        "id": "BZTa7B8LFrIG"
      }
    },
    {
      "cell_type": "markdown",
      "source": [
        "### Un diccionario simple"
      ],
      "metadata": {
        "id": "CK7WpabLGUxg"
      }
    },
    {
      "cell_type": "code",
      "source": [
        "my_dict = {47470277: 'John Caballero',\n",
        "           57578712: 'Hernan Soto',\n",
        "           89897214: 'Javier Rios'}\n"
      ],
      "metadata": {
        "id": "niQmjjAok_-G"
      },
      "execution_count": null,
      "outputs": []
    },
    {
      "cell_type": "code",
      "source": [
        "\n",
        "my_dict[57578712] = 'Hernan Valencia'\n",
        "print(my_dict)"
      ],
      "metadata": {
        "id": "ODqJfMCqpCnQ",
        "outputId": "9e3130a1-90a6-49c9-9fbd-c132c01a1853",
        "colab": {
          "base_uri": "https://localhost:8080/"
        }
      },
      "execution_count": null,
      "outputs": [
        {
          "output_type": "stream",
          "name": "stdout",
          "text": [
            "{47470277: 'John Caballero', 57578712: 'Hernan Valencia', 89897214: 'Javier Rios'}\n"
          ]
        }
      ]
    },
    {
      "cell_type": "code",
      "source": [
        "my_dict[47470277]"
      ],
      "metadata": {
        "id": "E8u1RP1DlXmi",
        "outputId": "b147aff6-603a-4629-b100-6303a34d75a1",
        "colab": {
          "base_uri": "https://localhost:8080/",
          "height": 35
        }
      },
      "execution_count": null,
      "outputs": [
        {
          "output_type": "execute_result",
          "data": {
            "text/plain": [
              "'John Caballero'"
            ],
            "application/vnd.google.colaboratory.intrinsic+json": {
              "type": "string"
            }
          },
          "metadata": {},
          "execution_count": 63
        }
      ]
    },
    {
      "cell_type": "code",
      "source": [
        "print(my_dict)"
      ],
      "metadata": {
        "id": "KYSDMHifmF92",
        "outputId": "8d808c85-76d6-4838-c898-0c938cb9771e",
        "colab": {
          "base_uri": "https://localhost:8080/"
        }
      },
      "execution_count": null,
      "outputs": [
        {
          "output_type": "stream",
          "name": "stdout",
          "text": [
            "{47470277: 'John Caballero', 57578712: 'Hernan Soto', 89897214: 'Javier Rios'}\n"
          ]
        }
      ]
    },
    {
      "cell_type": "code",
      "source": [
        "alien_0 = {'color': 'green',\n",
        "           'points': 5}\n",
        "\n",
        "print(alien_0['color'])\n",
        "print(alien_0['points'])"
      ],
      "metadata": {
        "id": "1LBNlCbNH7If",
        "outputId": "9cc99ad9-1dd3-4b6a-ab60-024d37d07aec",
        "colab": {
          "base_uri": "https://localhost:8080/"
        }
      },
      "execution_count": null,
      "outputs": [
        {
          "output_type": "stream",
          "name": "stdout",
          "text": [
            "green\n",
            "5\n"
          ]
        }
      ]
    },
    {
      "cell_type": "markdown",
      "source": [
        "### Trabajando con diccionarios"
      ],
      "metadata": {
        "id": "9leFQDy1H-90"
      }
    },
    {
      "cell_type": "code",
      "source": [
        "alien_0 = {'color': 'green'}\n",
        "\n",
        "print(alien_0['color'])"
      ],
      "metadata": {
        "id": "BN2xEdrkK2bk",
        "outputId": "a05fff8e-7f85-41d5-978e-803d3b0cafd9",
        "colab": {
          "base_uri": "https://localhost:8080/"
        }
      },
      "execution_count": null,
      "outputs": [
        {
          "output_type": "stream",
          "name": "stdout",
          "text": [
            "green\n"
          ]
        }
      ]
    },
    {
      "cell_type": "code",
      "source": [
        "alien_0 = {'color': 'green',\n",
        "           'points': 5}\n",
        "\n",
        "new_points = alien_0['points']\n",
        "alien_color = alien_0['color']\n",
        "\n",
        "print(f\"Acabas de ganar {new_points} puntos por matar un alien {alien_color}!\")"
      ],
      "metadata": {
        "id": "R4beHSA3LISl",
        "outputId": "a497dccc-67fb-4496-eb38-47755c10d426",
        "colab": {
          "base_uri": "https://localhost:8080/"
        }
      },
      "execution_count": null,
      "outputs": [
        {
          "output_type": "stream",
          "name": "stdout",
          "text": [
            "Acabas de ganar 5 puntos por matar un alien green!\n"
          ]
        }
      ]
    },
    {
      "cell_type": "markdown",
      "source": [
        "### Agregando nuevos pares Key-Value"
      ],
      "metadata": {
        "id": "5hqxo8XZLn1q"
      }
    },
    {
      "cell_type": "code",
      "source": [
        "alien_0 = {'color': 'green',\n",
        "           'points': 5}\n",
        "\n",
        "alien_0['hora'] = '10:00 pm'\n",
        "alien_0['x_position'] = 199\n",
        "alien_0['y_position'] = 25\n",
        "alien_0['color'] = 'red'\n",
        "\n",
        "\n",
        "print(alien_0)"
      ],
      "metadata": {
        "id": "JjuLyOFUno5P",
        "outputId": "7bc5f77c-421f-4dc4-ed91-334e9cff3d1e",
        "colab": {
          "base_uri": "https://localhost:8080/"
        }
      },
      "execution_count": null,
      "outputs": [
        {
          "output_type": "stream",
          "name": "stdout",
          "text": [
            "{'color': 'red', 'points': 5, 'hora': '10:00 pm', 'x_position': 199, 'y_position': 25}\n"
          ]
        }
      ]
    },
    {
      "cell_type": "code",
      "source": [
        "alien_0['x_position']"
      ],
      "metadata": {
        "id": "uHrHhqUon3vx",
        "outputId": "6be12695-1529-4998-cf24-56e706f4a087",
        "colab": {
          "base_uri": "https://localhost:8080/"
        }
      },
      "execution_count": null,
      "outputs": [
        {
          "output_type": "execute_result",
          "data": {
            "text/plain": [
              "199"
            ]
          },
          "metadata": {},
          "execution_count": 71
        }
      ]
    },
    {
      "cell_type": "code",
      "source": [
        "alien_0 = {'color': 'green', 'points': 5}\n",
        "print(alien_0)\n",
        "\n",
        "alien_0['x_position'] = 0\n",
        "alien_0['y_position'] = 25\n",
        "print(alien_0)"
      ],
      "metadata": {
        "id": "oznLSM29L4fq"
      },
      "execution_count": null,
      "outputs": []
    },
    {
      "cell_type": "markdown",
      "source": [
        "### Comenzando con un diccionario vacio"
      ],
      "metadata": {
        "id": "dVF5nxchMdg-"
      }
    },
    {
      "cell_type": "code",
      "source": [
        "my_dict = {}\n",
        "\n",
        "my_dict['color'] = 'red'\n",
        "my_dict['points'] = 15\n",
        "\n",
        "print(my_dict)"
      ],
      "metadata": {
        "id": "uq0uimhtocwX",
        "outputId": "ecd01982-0f96-4436-c8fd-baa5b1d1fdc1",
        "colab": {
          "base_uri": "https://localhost:8080/"
        }
      },
      "execution_count": null,
      "outputs": [
        {
          "output_type": "stream",
          "name": "stdout",
          "text": [
            "{'color': 'red', 'points': 15}\n"
          ]
        }
      ]
    },
    {
      "cell_type": "code",
      "source": [
        "alien_0 = {}\n",
        "\n",
        "alien_0['color'] = 'green'\n",
        "alien_0['points'] = 5\n",
        "\n",
        "print(alien_0)"
      ],
      "metadata": {
        "id": "9tlTgbesMhSZ"
      },
      "execution_count": null,
      "outputs": []
    },
    {
      "cell_type": "markdown",
      "source": [
        "### Modificando valores de un diccionario"
      ],
      "metadata": {
        "id": "fsYC2R6GMnnF"
      }
    },
    {
      "cell_type": "code",
      "source": [
        "alien_0 = {'color': 'verde'}\n",
        "alien_0['color'] = 'red'\n",
        "\n",
        "print(alien_0['color'])"
      ],
      "metadata": {
        "id": "WZJWdOdqoz-L",
        "outputId": "3d4084ba-aa3c-40a8-f6b7-11125d0fd251",
        "colab": {
          "base_uri": "https://localhost:8080/"
        }
      },
      "execution_count": null,
      "outputs": [
        {
          "output_type": "stream",
          "name": "stdout",
          "text": [
            "red\n"
          ]
        }
      ]
    },
    {
      "cell_type": "code",
      "source": [
        "alien_0 = {'color': 'verde'}\n",
        "print(f\"El alien es {alien_0['color']}.\")\n",
        "\n",
        "alien_0['color'] = 'amarillo'\n",
        "print(f\"El alien ahora es {alien_0['color']}.\")\n"
      ],
      "metadata": {
        "id": "TlHsOz42Mszc"
      },
      "execution_count": null,
      "outputs": []
    },
    {
      "cell_type": "code",
      "source": [
        "alien_0 = {'x_position': 0, 'y_position': 25, 'speed': 'medium'}\n",
        "print(f\"Original position: {alien_0['x_position']}\")\n",
        "\n",
        "if alien_0['speed'] == 'slow':\n",
        "  x_increment = 1\n",
        "elif alien_0['speed'] == 'medium':\n",
        "  x_increment = 2\n",
        "else:\n",
        "  x_increment = 3\n",
        "\n",
        "alien_0['x_position'] = alien_0['x_position'] + x_increment\n",
        "print(f\"New position: {alien_0['x_position']}\")\n"
      ],
      "metadata": {
        "id": "7t-om1JhM951"
      },
      "execution_count": null,
      "outputs": []
    },
    {
      "cell_type": "code",
      "source": [
        "alien_0 = {'x_position': 0,\n",
        "           'y_position': 25,\n",
        "           'speed': 'medium'}\n",
        "\n",
        "if alien_0['speed'] == 'slow':\n",
        "  x_increment = 1\n",
        "elif alien_0['speed'] == 'medium':\n",
        "  x_increment = 2\n",
        "else:\n",
        "  x_increment = 3\n",
        "\n",
        "alien_0['x_position'] = alien_0['x_position'] + x_increment\n",
        "print(f\"New position: {alien_0['x_position']}\")\n"
      ],
      "metadata": {
        "id": "tnXbbmWapdSV",
        "outputId": "85b931f5-b594-482f-e729-798a563a07e0",
        "colab": {
          "base_uri": "https://localhost:8080/"
        }
      },
      "execution_count": null,
      "outputs": [
        {
          "output_type": "stream",
          "name": "stdout",
          "text": [
            "New position: 2\n"
          ]
        }
      ]
    },
    {
      "cell_type": "markdown",
      "source": [
        "### Removiendo pares Key-Value"
      ],
      "metadata": {
        "id": "q2d6kw3XNkRQ"
      }
    },
    {
      "cell_type": "code",
      "source": [
        "alien_0 = {'color': 'green', 'points': 5}\n",
        "print(alien_0)\n",
        "\n",
        "del alien_0['points']\n",
        "print(alien_0)\n"
      ],
      "metadata": {
        "id": "ZQwVkViANor0"
      },
      "execution_count": null,
      "outputs": []
    },
    {
      "cell_type": "code",
      "source": [
        "alien_0 = {'color': 'green',\n",
        "           'points': 5}\n",
        "\n",
        "del alien_0['points']\n",
        "print(alien_0)\n"
      ],
      "metadata": {
        "id": "ePazrlrlqcyE",
        "outputId": "581d8728-3587-479e-9277-055e5193acb8",
        "colab": {
          "base_uri": "https://localhost:8080/"
        }
      },
      "execution_count": null,
      "outputs": [
        {
          "output_type": "stream",
          "name": "stdout",
          "text": [
            "{'color': 'green'}\n"
          ]
        }
      ]
    },
    {
      "cell_type": "markdown",
      "source": [
        "### Un diccionario de objetos similares"
      ],
      "metadata": {
        "id": "K3ASKj6tOnas"
      }
    },
    {
      "cell_type": "code",
      "source": [
        "favorite_languages = {\n",
        "    'jen': 'python',\n",
        "    'sarah': 'c++',\n",
        "    'edward': 'ruby',\n",
        "    'phil': 'python',\n",
        "    }"
      ],
      "metadata": {
        "id": "9x9FJQp0Oqrj"
      },
      "execution_count": null,
      "outputs": []
    },
    {
      "cell_type": "code",
      "source": [
        "language = favorite_languages['sarah']\n",
        "print(f\"El lenguaje favorito de Sarah es {language}.\")"
      ],
      "metadata": {
        "id": "Vl4peHpEOvAo",
        "outputId": "af34d502-e0f5-40ba-f670-8fd00184f151",
        "colab": {
          "base_uri": "https://localhost:8080/"
        }
      },
      "execution_count": null,
      "outputs": [
        {
          "output_type": "stream",
          "name": "stdout",
          "text": [
            "El lenguaje favorito de Sarah es c++.\n"
          ]
        }
      ]
    },
    {
      "cell_type": "code",
      "source": [
        "favorite_languages['jen']"
      ],
      "metadata": {
        "id": "xKCA_j2UO5eC",
        "outputId": "5c5ce47e-2635-4216-eb4b-5b038531e840",
        "colab": {
          "base_uri": "https://localhost:8080/",
          "height": 35
        }
      },
      "execution_count": null,
      "outputs": [
        {
          "output_type": "execute_result",
          "data": {
            "text/plain": [
              "'python'"
            ],
            "application/vnd.google.colaboratory.intrinsic+json": {
              "type": "string"
            }
          },
          "metadata": {},
          "execution_count": 87
        }
      ]
    },
    {
      "cell_type": "code",
      "source": [
        "favorite_languages = {\n",
        "    'jen' : 'python',\n",
        "    'sarah': 'c++',\n",
        "    'edward': 'ruby',\n",
        "    'phil': 'python',\n",
        "    }"
      ],
      "metadata": {
        "id": "i_Xta-8YrH6Z"
      },
      "execution_count": null,
      "outputs": []
    },
    {
      "cell_type": "code",
      "source": [
        "\n",
        "favorite_languages['jen']\n"
      ],
      "metadata": {
        "id": "AZLeAjA-rTY2",
        "outputId": "afd04115-97fc-49fa-99ed-74a457f7cc04",
        "colab": {
          "base_uri": "https://localhost:8080/",
          "height": 35
        }
      },
      "execution_count": null,
      "outputs": [
        {
          "output_type": "execute_result",
          "data": {
            "text/plain": [
              "'python'"
            ],
            "application/vnd.google.colaboratory.intrinsic+json": {
              "type": "string"
            }
          },
          "metadata": {},
          "execution_count": 91
        }
      ]
    },
    {
      "cell_type": "markdown",
      "source": [
        "### Usando get() para acceder a los valores"
      ],
      "metadata": {
        "id": "hHVI1fmuO_7v"
      }
    },
    {
      "cell_type": "code",
      "source": [
        "alien_0 = {'color': 'green', 'speed': 'slow'}\n",
        "print(alien_0['points'])"
      ],
      "metadata": {
        "id": "CEStOn5DPOo_",
        "outputId": "8d690895-26cb-4309-c562-da179c5a8ed1",
        "colab": {
          "base_uri": "https://localhost:8080/",
          "height": 184
        }
      },
      "execution_count": null,
      "outputs": [
        {
          "output_type": "error",
          "ename": "KeyError",
          "evalue": "ignored",
          "traceback": [
            "\u001b[0;31m---------------------------------------------------------------------------\u001b[0m",
            "\u001b[0;31mKeyError\u001b[0m                                  Traceback (most recent call last)",
            "\u001b[0;32m<ipython-input-98-3914d637e9f3>\u001b[0m in \u001b[0;36m<cell line: 2>\u001b[0;34m()\u001b[0m\n\u001b[1;32m      1\u001b[0m \u001b[0malien_0\u001b[0m \u001b[0;34m=\u001b[0m \u001b[0;34m{\u001b[0m\u001b[0;34m'color'\u001b[0m\u001b[0;34m:\u001b[0m \u001b[0;34m'green'\u001b[0m\u001b[0;34m,\u001b[0m \u001b[0;34m'speed'\u001b[0m\u001b[0;34m:\u001b[0m \u001b[0;34m'slow'\u001b[0m\u001b[0;34m}\u001b[0m\u001b[0;34m\u001b[0m\u001b[0;34m\u001b[0m\u001b[0m\n\u001b[0;32m----> 2\u001b[0;31m \u001b[0mprint\u001b[0m\u001b[0;34m(\u001b[0m\u001b[0malien_0\u001b[0m\u001b[0;34m[\u001b[0m\u001b[0;34m'points'\u001b[0m\u001b[0;34m]\u001b[0m\u001b[0;34m)\u001b[0m\u001b[0;34m\u001b[0m\u001b[0;34m\u001b[0m\u001b[0m\n\u001b[0m",
            "\u001b[0;31mKeyError\u001b[0m: 'points'"
          ]
        }
      ]
    },
    {
      "cell_type": "code",
      "source": [
        "alien_0.get('color')"
      ],
      "metadata": {
        "id": "1OOz1_tNPr6b",
        "outputId": "54274acb-8179-4087-c78b-69bfd2a23b1f",
        "colab": {
          "base_uri": "https://localhost:8080/",
          "height": 35
        }
      },
      "execution_count": null,
      "outputs": [
        {
          "output_type": "execute_result",
          "data": {
            "text/plain": [
              "'green'"
            ],
            "application/vnd.google.colaboratory.intrinsic+json": {
              "type": "string"
            }
          },
          "metadata": {},
          "execution_count": 102
        }
      ]
    },
    {
      "cell_type": "code",
      "source": [
        "alien_0.get('speed')"
      ],
      "metadata": {
        "id": "S3X7j8wasiZV",
        "outputId": "e79dfd0d-4096-4674-edd3-81388c23d635",
        "colab": {
          "base_uri": "https://localhost:8080/",
          "height": 35
        }
      },
      "execution_count": null,
      "outputs": [
        {
          "output_type": "execute_result",
          "data": {
            "text/plain": [
              "'slow'"
            ],
            "application/vnd.google.colaboratory.intrinsic+json": {
              "type": "string"
            }
          },
          "metadata": {},
          "execution_count": 95
        }
      ]
    },
    {
      "cell_type": "code",
      "source": [
        "point_value = alien_0.get('points', 'No hay una llave con ese nombre!')\n",
        "print(point_value)"
      ],
      "metadata": {
        "id": "jSYYU2MxPVmd",
        "outputId": "a6f559d6-d715-462c-9310-0b5c5fcd7e49",
        "colab": {
          "base_uri": "https://localhost:8080/"
        }
      },
      "execution_count": null,
      "outputs": [
        {
          "output_type": "stream",
          "name": "stdout",
          "text": [
            "30\n"
          ]
        }
      ]
    },
    {
      "cell_type": "code",
      "source": [
        "point_value = alien_0.get('edad', 30)\n",
        "print(point_value)"
      ],
      "metadata": {
        "id": "gYjyzD_xtPNw"
      },
      "execution_count": null,
      "outputs": []
    },
    {
      "cell_type": "code",
      "source": [
        "alien_0.get('points', 'No point value assigned.')"
      ],
      "metadata": {
        "id": "msUlArzMPqQK",
        "outputId": "da0aebcc-472b-432f-ee78-8ad901202c3a",
        "colab": {
          "base_uri": "https://localhost:8080/"
        }
      },
      "execution_count": null,
      "outputs": [
        {
          "output_type": "execute_result",
          "data": {
            "text/plain": [
              "5"
            ]
          },
          "metadata": {},
          "execution_count": 97
        }
      ]
    },
    {
      "cell_type": "markdown",
      "source": [
        "---\n",
        "\n",
        "<b> Ejercicio 1</b>\n",
        "\n",
        "Usa un diccionario para almacenar información sobre una persona que conoces. Almacene su nombre, apellido, edad y la ciudad en la que vive. Debe tener claves como nombre, apellido, edad y ciudad. Imprima cada parte de información almacenada en su diccionario.\n",
        "\n"
      ],
      "metadata": {
        "id": "ctXa-OLlQaXn"
      }
    },
    {
      "cell_type": "code",
      "source": [
        "my_info = {'nombre' : 'John',\n",
        "           'apellido': 'Caballero',\n",
        "           'edad': 30,\n",
        "           'ciudad': 'Lima'}\n",
        "\n",
        "print(my_info['nombre'])\n",
        "print(my_info['apellido'])\n",
        "print(my_info['edad'])\n",
        "print(my_info['ciudad'])\n"
      ],
      "metadata": {
        "id": "FAU_AloutmB3",
        "outputId": "92b0dcb3-ec2d-466a-cd1f-37896d62af25",
        "colab": {
          "base_uri": "https://localhost:8080/"
        }
      },
      "execution_count": null,
      "outputs": [
        {
          "output_type": "stream",
          "name": "stdout",
          "text": [
            "John\n",
            "Caballero\n",
            "30\n",
            "Lima\n"
          ]
        }
      ]
    },
    {
      "cell_type": "code",
      "source": [
        "\n",
        "for c in list(my_info.keys()):\n",
        "  print(my_info.get(c))\n"
      ],
      "metadata": {
        "id": "kjvNs3tYuB_j",
        "outputId": "6a2f1ab9-8e22-46e5-ecc0-d56268d8e4f4",
        "colab": {
          "base_uri": "https://localhost:8080/"
        }
      },
      "execution_count": null,
      "outputs": [
        {
          "output_type": "stream",
          "name": "stdout",
          "text": [
            "John\n",
            "Caballero\n",
            "30\n",
            "Lima\n"
          ]
        }
      ]
    },
    {
      "cell_type": "code",
      "source": [
        "numero = 15\n",
        "print(f'hola este es el numero {numero}')"
      ],
      "metadata": {
        "id": "YwH_satjvjEr",
        "outputId": "2de964d3-5d70-4c14-febb-2595bf3ef3a2",
        "colab": {
          "base_uri": "https://localhost:8080/"
        }
      },
      "execution_count": null,
      "outputs": [
        {
          "output_type": "stream",
          "name": "stdout",
          "text": [
            "hola este es el numero 15\n"
          ]
        }
      ]
    },
    {
      "cell_type": "code",
      "source": [
        "favorite_nums = {'Maria': 7, 'Raul': 11, 'Andrea': 20, 'Jose': 100, 'Martina': 666}\n",
        "\n",
        "for key in favorite_nums:\n",
        "    print(f'- El numero favorito de {key} es {favorite_nums[key]}')\n",
        ""
      ],
      "metadata": {
        "id": "2-R_YmvYvUV0",
        "outputId": "aa2b5776-6046-48af-e059-d2119b11e628",
        "colab": {
          "base_uri": "https://localhost:8080/"
        }
      },
      "execution_count": null,
      "outputs": [
        {
          "output_type": "stream",
          "name": "stdout",
          "text": [
            "- El numero favorito de Maria es 7\n",
            "- El numero favorito de Raul es 11\n",
            "- El numero favorito de Andrea es 20\n",
            "- El numero favorito de Jose es 100\n",
            "- El numero favorito de Martina es 666\n"
          ]
        }
      ]
    },
    {
      "cell_type": "markdown",
      "source": [
        "---\n",
        "\n",
        "<b> Ejercicio 2</b>\n",
        "\n",
        "Use un diccionario para almacenar los números favoritos de las personas. Piensa en cinco nombres y utilízalos como llaves en tu diccionario. Piense en un número favorito para cada persona y guárdelo como un valor en su diccionario. Escriba el nombre de cada persona y su número favorito.\n",
        "\n"
      ],
      "metadata": {
        "id": "7_krS5iiQ7KW"
      }
    },
    {
      "cell_type": "markdown",
      "source": [
        "---\n",
        "\n",
        "<b> Ejercicio 3</b>\n",
        "\n",
        "Piense en cinco palabras de programación que haya aprendido. Utilice estas palabras como llaves en su glosario y almacene sus significados como valores.\n",
        "\n",
        "Imprima cada palabra y su significado como una salida con un formato ordenado. Puede imprimir la palabra seguida de dos puntos y luego su significado, o imprimir la palabra en una línea y luego imprimir su significado con sangría en una segunda línea. Utilice el carácter de nueva línea (\\n) para insertar una línea en blanco entre cada par de palabra y significado en su salida.\n",
        "\n",
        "---"
      ],
      "metadata": {
        "id": "PmMzWA-nVOOi"
      }
    },
    {
      "cell_type": "code",
      "source": [
        "diccio3={\"Turtle\":\"Para dibujar\",\n",
        "         \"for\":\"es para generar Loops\",\n",
        "         \"append\":\"para añadir a una lista\"}\n",
        "\n",
        "for c in (diccio3):\n",
        " print (f\"La sentencia {c} sirve {diccio3.get(c)}\")\n"
      ],
      "metadata": {
        "id": "8ixV-nh7xnHs",
        "outputId": "6ce22551-77b2-4e23-e6eb-c915d9dddddd",
        "colab": {
          "base_uri": "https://localhost:8080/"
        }
      },
      "execution_count": null,
      "outputs": [
        {
          "output_type": "stream",
          "name": "stdout",
          "text": [
            "La sentencia Turtle sirve Para dibujar\n",
            "La sentencia for sirve es para generar Loops\n",
            "La sentencia append sirve para añadir a una lista\n"
          ]
        }
      ]
    },
    {
      "cell_type": "code",
      "source": [],
      "metadata": {
        "id": "KWB831eJyYC1"
      },
      "execution_count": null,
      "outputs": []
    },
    {
      "cell_type": "code",
      "source": [
        "\" '' 4566  \""
      ],
      "metadata": {
        "id": "zgd8Xja3yAvL"
      },
      "execution_count": null,
      "outputs": []
    },
    {
      "cell_type": "markdown",
      "source": [
        "### Loops con diccionarios"
      ],
      "metadata": {
        "id": "xHZwF4EJVuP7"
      }
    },
    {
      "cell_type": "code",
      "source": [
        "user_0 = {\n",
        "    'username': 'efermi',\n",
        "    'first': 'enrico',\n",
        "    'last': 'fermi',\n",
        "    }"
      ],
      "metadata": {
        "id": "Nhs0f6CEQ6np"
      },
      "execution_count": null,
      "outputs": []
    },
    {
      "cell_type": "code",
      "source": [
        "\n",
        "for key, value in user_0.items():\n",
        "  print(key, \": \", value)\n"
      ],
      "metadata": {
        "id": "tnlxmXedzGZs",
        "outputId": "80d132e3-4ec7-48ef-c4fc-c2ac9e35ca94",
        "colab": {
          "base_uri": "https://localhost:8080/"
        }
      },
      "execution_count": null,
      "outputs": [
        {
          "output_type": "stream",
          "name": "stdout",
          "text": [
            "username :  efermi\n",
            "first :  enrico\n",
            "last :  fermi\n"
          ]
        }
      ]
    },
    {
      "cell_type": "code",
      "source": [],
      "metadata": {
        "id": "uBfhWw8jzGKp"
      },
      "execution_count": null,
      "outputs": []
    },
    {
      "cell_type": "code",
      "source": [
        "for a in user_0.items():\n",
        "  print(a)"
      ],
      "metadata": {
        "id": "I_nmQa840Osc",
        "outputId": "925dca06-86d3-42fc-f84b-a139f6634d88",
        "colab": {
          "base_uri": "https://localhost:8080/"
        }
      },
      "execution_count": null,
      "outputs": [
        {
          "output_type": "stream",
          "name": "stdout",
          "text": [
            "('username', 'efermi')\n",
            "('first', 'enrico')\n",
            "('last', 'fermi')\n"
          ]
        }
      ]
    },
    {
      "cell_type": "code",
      "source": [
        "for a, b in user_0.items():\n",
        "    print(f\"\\nKey: {a}\")\n",
        "    print(f\"Value: {b}\")"
      ],
      "metadata": {
        "id": "Q1m7T12eV3XJ",
        "outputId": "d036105e-c084-4ab2-878d-043de2ec76a2",
        "colab": {
          "base_uri": "https://localhost:8080/"
        }
      },
      "execution_count": null,
      "outputs": [
        {
          "output_type": "stream",
          "name": "stdout",
          "text": [
            "\n",
            "Key: username\n",
            "Value: efermi\n",
            "\n",
            "Key: first\n",
            "Value: enrico\n",
            "\n",
            "Key: last\n",
            "Value: fermi\n"
          ]
        }
      ]
    },
    {
      "cell_type": "code",
      "source": [
        "list(user_0.keys())"
      ],
      "metadata": {
        "id": "baJiOGLOypvT",
        "outputId": "2c784575-88e5-4b01-a206-dabdbf946686",
        "colab": {
          "base_uri": "https://localhost:8080/"
        }
      },
      "execution_count": null,
      "outputs": [
        {
          "output_type": "execute_result",
          "data": {
            "text/plain": [
              "['username', 'first', 'last']"
            ]
          },
          "metadata": {},
          "execution_count": 122
        }
      ]
    },
    {
      "cell_type": "code",
      "source": [
        "for name, language in favorite_languages.items():\n",
        "  print(f\"El lenguaje favorito de {name} es {language}.\")"
      ],
      "metadata": {
        "id": "AanKmbfWWFCn"
      },
      "execution_count": null,
      "outputs": []
    },
    {
      "cell_type": "code",
      "source": [
        "for name in sorted(favorite_languages.keys()):\n",
        "    print(f\"{name.title()}, gracias por tomar la encuesta.)"
      ],
      "metadata": {
        "id": "C2PjJC4rjbgB"
      },
      "execution_count": null,
      "outputs": []
    },
    {
      "cell_type": "code",
      "source": [
        "for key in user_0:\n",
        "    print(f\"\\nKey: {key}\")\n",
        "    print(f\"Value: {user_0[key]}\")"
      ],
      "metadata": {
        "id": "muZxXhbRy0a-",
        "outputId": "f07cd9de-af09-4dbe-dcd5-169aad051279",
        "colab": {
          "base_uri": "https://localhost:8080/"
        }
      },
      "execution_count": null,
      "outputs": [
        {
          "output_type": "stream",
          "name": "stdout",
          "text": [
            "\n",
            "Key: username\n",
            "Value: efermi\n",
            "\n",
            "Key: first\n",
            "Value: enrico\n",
            "\n",
            "Key: last\n",
            "Value: fermi\n"
          ]
        }
      ]
    },
    {
      "cell_type": "markdown",
      "source": [
        "---\n",
        "\n",
        "<b> Ejercicio 1</b>\n",
        "\n",
        "Haga un diccionario que contenga tres ríos principales y el país por el que pasa cada río. Un par clave-valor podría ser 'nilo': 'egipto'.\n",
        "\n",
        "* Use un bucle para imprimir una oración sobre cada río, como El Nilo atraviesa Egipto.\n",
        "* Utilice un bucle para imprimir el nombre de cada río incluido en el diccionario.\n",
        "* Use un bucle para imprimir el nombre de cada país incluido en el diccionario.\n"
      ],
      "metadata": {
        "id": "Ov6u5MxIj2WA"
      }
    },
    {
      "cell_type": "markdown",
      "source": [
        "---\n",
        "\n",
        "<b> Ejercicio 2</b>\n",
        "\n",
        "Haz una lista de las personas que deberían participar en la encuesta de idiomas favoritos. Incluye algunos nombres que ya estén en el diccionario y otros que no.\n",
        "Recorra la lista de personas que deberían realizar la encuesta. Si ya han realizado la encuesta, imprima un mensaje agradeciéndoles por responder. Si aún no han realizado la encuesta, imprima un mensaje invitándoles a realizar la encuesta.\n",
        "\n",
        "---"
      ],
      "metadata": {
        "id": "aSr26WfmkSSv"
      }
    },
    {
      "cell_type": "markdown",
      "source": [
        "### Lista de diccionarios"
      ],
      "metadata": {
        "id": "9v43SleGkhAh"
      }
    },
    {
      "cell_type": "code",
      "source": [
        "alien_0 = {'color': 'green',  'points': 5}\n",
        "alien_1 = {'color': 'yellow', 'points': 10}\n",
        "alien_2 = {'color': 'red',    'points': 15}\n",
        "\n",
        "aliens = [alien_0, alien_1, alien_2]\n",
        "aliens\n"
      ],
      "metadata": {
        "colab": {
          "base_uri": "https://localhost:8080/"
        },
        "id": "uedf8vSsC65H",
        "outputId": "19e9e505-ecb2-4640-d280-332f8369e01a"
      },
      "execution_count": null,
      "outputs": [
        {
          "output_type": "execute_result",
          "data": {
            "text/plain": [
              "[{'color': 'green', 'points': 5},\n",
              " {'color': 'yellow', 'points': 10},\n",
              " {'color': 'red', 'points': 15}]"
            ]
          },
          "metadata": {},
          "execution_count": 2
        }
      ]
    },
    {
      "cell_type": "code",
      "source": [
        "aliens[2].get('color')"
      ],
      "metadata": {
        "colab": {
          "base_uri": "https://localhost:8080/",
          "height": 35
        },
        "id": "FTinGKY6DRWH",
        "outputId": "52e90d1e-10b3-4ee4-e136-d27e922b7136"
      },
      "execution_count": null,
      "outputs": [
        {
          "output_type": "execute_result",
          "data": {
            "text/plain": [
              "'red'"
            ],
            "application/vnd.google.colaboratory.intrinsic+json": {
              "type": "string"
            }
          },
          "metadata": {},
          "execution_count": 7
        }
      ]
    },
    {
      "cell_type": "code",
      "source": [
        "\n",
        "for alien in aliens:\n",
        "  print(\"el Alien de color\", alien.get('color'), 'vale', alien.get('points'), 'puntos!')\n"
      ],
      "metadata": {
        "colab": {
          "base_uri": "https://localhost:8080/"
        },
        "id": "616y8KCYDqDI",
        "outputId": "5da72527-edc0-4408-b00c-2d503340bc45"
      },
      "execution_count": null,
      "outputs": [
        {
          "output_type": "stream",
          "name": "stdout",
          "text": [
            "el Alien de color green vale 5 puntos!\n",
            "el Alien de color yellow vale 10 puntos!\n",
            "el Alien de color red vale 15 puntos!\n"
          ]
        }
      ]
    },
    {
      "cell_type": "code",
      "source": [
        "alien_0 = {'color': 'green', 'points': 5}\n",
        "alien_1 = {'color': 'yellow', 'points': 10}\n",
        "alien_2 = {'color': 'red', 'points': 15}\n",
        "\n",
        "aliens = [alien_0, alien_1, alien_2]\n",
        "\n",
        "for alien in aliens:\n",
        "  print(alien)"
      ],
      "metadata": {
        "id": "scvK9Q9bkRy0"
      },
      "execution_count": null,
      "outputs": []
    },
    {
      "cell_type": "code",
      "source": [
        "import random"
      ],
      "metadata": {
        "id": "T79h3Q_QFdEJ"
      },
      "execution_count": null,
      "outputs": []
    },
    {
      "cell_type": "code",
      "source": [
        "alien_0 = {'color': 'green', 'points': 5}\n",
        "alien_1 = {'color': 'yellow', 'points': 10}\n",
        "alien_2 = {'color': 'red', 'points': 15}\n",
        "\n",
        "aliens = [alien_0, alien_1, alien_2]\n",
        "aliens"
      ],
      "metadata": {
        "colab": {
          "base_uri": "https://localhost:8080/"
        },
        "id": "bIZ5ZhEOGSLU",
        "outputId": "6df3f58a-ced6-4851-b4aa-65ef5d5c7bf9"
      },
      "execution_count": null,
      "outputs": [
        {
          "output_type": "execute_result",
          "data": {
            "text/plain": [
              "[{'color': 'green', 'points': 5},\n",
              " {'color': 'yellow', 'points': 10},\n",
              " {'color': 'red', 'points': 15}]"
            ]
          },
          "metadata": {},
          "execution_count": 24
        }
      ]
    },
    {
      "cell_type": "code",
      "source": [
        "random.choices(['green',\n",
        "                'yellow',\n",
        "                'red'])[0]"
      ],
      "metadata": {
        "colab": {
          "base_uri": "https://localhost:8080/",
          "height": 35
        },
        "id": "FNkMIFocFDX1",
        "outputId": "12440ca3-6341-448b-e89b-b1755d5bea6c"
      },
      "execution_count": null,
      "outputs": [
        {
          "output_type": "execute_result",
          "data": {
            "text/plain": [
              "'yellow'"
            ],
            "application/vnd.google.colaboratory.intrinsic+json": {
              "type": "string"
            }
          },
          "metadata": {},
          "execution_count": 22
        }
      ]
    },
    {
      "cell_type": "code",
      "source": [
        "random.choices(aliens)[0]"
      ],
      "metadata": {
        "colab": {
          "base_uri": "https://localhost:8080/"
        },
        "id": "clzBj0DVGYTk",
        "outputId": "c59fe338-f5fb-41be-b0cf-af7b1e970162"
      },
      "execution_count": null,
      "outputs": [
        {
          "output_type": "execute_result",
          "data": {
            "text/plain": [
              "{'color': 'red', 'points': 15}"
            ]
          },
          "metadata": {},
          "execution_count": 25
        }
      ]
    },
    {
      "cell_type": "code",
      "source": [
        "aliens = []\n",
        "\n",
        "# Make 30 green aliens.\n",
        "for alien_number in range(10):\n",
        "    new_alien = {'color': random.choices(['green', 'yellow', 'red'])[0],\n",
        "                 'points': 5, 'speed': 'slow', 'alien_number': alien_number}\n",
        "    aliens.append(new_alien)\n",
        "\n",
        "aliens"
      ],
      "metadata": {
        "colab": {
          "base_uri": "https://localhost:8080/"
        },
        "id": "8MaA5j3gEQ7P",
        "outputId": "2560ca96-5da2-4309-da93-f7eca399931c"
      },
      "execution_count": null,
      "outputs": [
        {
          "output_type": "execute_result",
          "data": {
            "text/plain": [
              "[{'color': 'green', 'points': 5, 'speed': 'slow', 'alien_number': 0},\n",
              " {'color': 'green', 'points': 5, 'speed': 'slow', 'alien_number': 1},\n",
              " {'color': 'red', 'points': 5, 'speed': 'slow', 'alien_number': 2},\n",
              " {'color': 'yellow', 'points': 5, 'speed': 'slow', 'alien_number': 3},\n",
              " {'color': 'red', 'points': 5, 'speed': 'slow', 'alien_number': 4},\n",
              " {'color': 'green', 'points': 5, 'speed': 'slow', 'alien_number': 5},\n",
              " {'color': 'red', 'points': 5, 'speed': 'slow', 'alien_number': 6},\n",
              " {'color': 'yellow', 'points': 5, 'speed': 'slow', 'alien_number': 7},\n",
              " {'color': 'green', 'points': 5, 'speed': 'slow', 'alien_number': 8},\n",
              " {'color': 'green', 'points': 5, 'speed': 'slow', 'alien_number': 9}]"
            ]
          },
          "metadata": {},
          "execution_count": 26
        }
      ]
    },
    {
      "cell_type": "code",
      "source": [
        "aliens = []\n",
        "\n",
        "# Make 30 green aliens.\n",
        "for alien_number in range(30):\n",
        "    new_alien = {'color': 'green', 'points': 5, 'speed': 'slow'}\n",
        "    aliens.append(new_alien)\n",
        "\n",
        "# Show the first 5 aliens.\n",
        "for alien in aliens[:5]:\n",
        "    print(alien)\n",
        "print(\"...\")\n",
        "\n",
        "# Show how many aliens have been created.\n",
        "print(f\"Total number of aliens: {len(aliens)}\")\n"
      ],
      "metadata": {
        "id": "fVooKiRtkufd",
        "colab": {
          "base_uri": "https://localhost:8080/"
        },
        "outputId": "ed2c2608-852d-420e-a28a-0d41aa164020"
      },
      "execution_count": null,
      "outputs": [
        {
          "output_type": "stream",
          "name": "stdout",
          "text": [
            "{'color': 'green', 'points': 5, 'speed': 'slow'}\n",
            "{'color': 'green', 'points': 5, 'speed': 'slow'}\n",
            "{'color': 'green', 'points': 5, 'speed': 'slow'}\n",
            "{'color': 'green', 'points': 5, 'speed': 'slow'}\n",
            "{'color': 'green', 'points': 5, 'speed': 'slow'}\n",
            "...\n",
            "Total number of aliens: 30\n"
          ]
        }
      ]
    },
    {
      "cell_type": "code",
      "source": [
        "aliens = []\n",
        "\n",
        "# Make 30 green aliens.\n",
        "for alien_number in range(30):\n",
        "    new_alien = {'color': 'green', 'points': 5, 'speed': 'slow'}\n",
        "    aliens.append(new_alien)\n",
        "\n",
        "\n",
        "\n",
        "for alien in aliens[:3]:\n",
        "    if alien['color'] == 'green':\n",
        "        alien['color'] = 'yellow'\n",
        "        alien['speed'] = 'medium'\n",
        "        alien['points'] = 10\n",
        "\n",
        "\n",
        "# Show the first 5 aliens.\n",
        "for alien in aliens[:5]:\n",
        "    print(alien)\n",
        "print(\"...\")\n",
        "\n",
        "# Show how many aliens have been created.\n",
        "print(f\"Total number of aliens: {len(aliens)}\")"
      ],
      "metadata": {
        "id": "pAwmoRu5k6CR",
        "colab": {
          "base_uri": "https://localhost:8080/"
        },
        "outputId": "68954087-6184-4580-be83-806382098b39"
      },
      "execution_count": null,
      "outputs": [
        {
          "output_type": "stream",
          "name": "stdout",
          "text": [
            "{'color': 'yellow', 'points': 10, 'speed': 'medium'}\n",
            "{'color': 'yellow', 'points': 10, 'speed': 'medium'}\n",
            "{'color': 'yellow', 'points': 10, 'speed': 'medium'}\n",
            "{'color': 'green', 'points': 5, 'speed': 'slow'}\n",
            "{'color': 'green', 'points': 5, 'speed': 'slow'}\n",
            "...\n",
            "Total number of aliens: 30\n"
          ]
        }
      ]
    },
    {
      "cell_type": "code",
      "source": [
        "aliens = []\n",
        "\n",
        "# Make 30 green aliens.\n",
        "for alien_number in range(30):\n",
        "  new_alien = {'color': 'green', 'points': 5, 'speed': 'slow'}\n",
        "  aliens.append(new_alien)\n",
        "\n",
        "for alien in aliens[:3]:\n",
        "  if alien['color'] == 'green':\n",
        "    alien['color'] = 'yellow'\n",
        "    alien['speed'] = 'medium'\n",
        "    alien['points'] = 10\n",
        "\n",
        "  elif alien['color'] == 'yellow':\n",
        "    alien['color'] = 'red'\n",
        "    alien['speed'] = 'fast'\n",
        "    alien['points'] = 15\n",
        "\n",
        "# Show the first 5 aliens.\n",
        "for alien in aliens[:5]:\n",
        "    print(alien)\n",
        "print(\"...\")\n",
        "\n",
        "# Show how many aliens have been created.\n",
        "print(f\"Total number of aliens: {len(aliens)}\")"
      ],
      "metadata": {
        "id": "g8Q_Btd6lFDn",
        "colab": {
          "base_uri": "https://localhost:8080/"
        },
        "outputId": "d5c80753-542e-4a7d-ba0b-a9788588e97f"
      },
      "execution_count": null,
      "outputs": [
        {
          "output_type": "stream",
          "name": "stdout",
          "text": [
            "{'color': 'yellow', 'points': 10, 'speed': 'medium'}\n",
            "{'color': 'yellow', 'points': 10, 'speed': 'medium'}\n",
            "{'color': 'yellow', 'points': 10, 'speed': 'medium'}\n",
            "{'color': 'green', 'points': 5, 'speed': 'slow'}\n",
            "{'color': 'green', 'points': 5, 'speed': 'slow'}\n",
            "...\n",
            "Total number of aliens: 30\n"
          ]
        }
      ]
    },
    {
      "cell_type": "markdown",
      "source": [
        "### Una lista en un diccionario"
      ],
      "metadata": {
        "id": "M3RgdLwtluyF"
      }
    },
    {
      "cell_type": "code",
      "source": [
        "# Store information about a pizza being ordered.\n",
        "pizza = {'crust': 'thick',\n",
        "         'toppings': ['mushrooms', 'extra cheese'],}\n",
        "\n",
        "# Summarize the order.\n",
        "print(f\"You ordered a {pizza['crust']}-crust pizza \"\n",
        "  \"with the following toppings:\")\n",
        "\n",
        "for topping in pizza['toppings']:\n",
        "  print(f\"\\t{topping}\")\n",
        ""
      ],
      "metadata": {
        "id": "1awTpHiplzaH",
        "colab": {
          "base_uri": "https://localhost:8080/"
        },
        "outputId": "90c57dee-7c02-46b3-eda6-a08158487e09"
      },
      "execution_count": null,
      "outputs": [
        {
          "output_type": "stream",
          "name": "stdout",
          "text": [
            "You ordered a thick-crust pizza with the following toppings:\n",
            "\tmushrooms\n",
            "\textra cheese\n"
          ]
        }
      ]
    },
    {
      "cell_type": "code",
      "source": [
        "for c in pizza['toppings']:\n",
        "  print(c)"
      ],
      "metadata": {
        "colab": {
          "base_uri": "https://localhost:8080/"
        },
        "id": "asRlScmsJJVc",
        "outputId": "afd68e92-938d-40b7-e46d-13a7be72115d"
      },
      "execution_count": null,
      "outputs": [
        {
          "output_type": "stream",
          "name": "stdout",
          "text": [
            "mushrooms\n",
            "extra cheese\n"
          ]
        }
      ]
    },
    {
      "cell_type": "code",
      "source": [
        "favorite_languages = {\n",
        "       'jen': ['python', 'ruby'],\n",
        "       'sarah': ['c'],\n",
        "       'edward': ['ruby', 'go'],\n",
        "       'phil': ['python', 'haskell'],\n",
        "       }\n",
        "\n",
        "for name, languages in favorite_languages.items():\n",
        "  print(f\"\\n{name}'s favorite languages are:\")\n",
        "\n",
        "  for language in languages:\n",
        "    print(f\"\\t{language}\")\n"
      ],
      "metadata": {
        "id": "tXuoOkfgmLVF"
      },
      "execution_count": null,
      "outputs": []
    },
    {
      "cell_type": "code",
      "source": [
        "favorite_languages.items()"
      ],
      "metadata": {
        "id": "fVxdlBVmJ9cq"
      },
      "execution_count": null,
      "outputs": []
    },
    {
      "cell_type": "code",
      "source": [
        "favorite_languages = {\n",
        "       'jen': ['python', 'ruby'],\n",
        "       'sarah': ['c'],\n",
        "       'edward': ['ruby', 'go'],\n",
        "       'phil': ['python', 'haskell', 'spark', 'scala', 'r'], }\n",
        "\n",
        "for name, lenguages in favorite_languages.items():\n",
        "  print(f\"El lenguaje favorito de {name} es:\")\n",
        "  for lenguage in lenguages:\n",
        "    print(f\"\\t{lenguage}\")\n",
        "\n"
      ],
      "metadata": {
        "colab": {
          "base_uri": "https://localhost:8080/"
        },
        "id": "2AUUj_AXJeCr",
        "outputId": "cb79d42b-a7ae-48d4-ddf8-1fdb96909284"
      },
      "execution_count": null,
      "outputs": [
        {
          "output_type": "stream",
          "name": "stdout",
          "text": [
            "El lenguaje favorito de jen es:\n",
            "\tpython\n",
            "\truby\n",
            "El lenguaje favorito de sarah es:\n",
            "\tc\n",
            "El lenguaje favorito de edward es:\n",
            "\truby\n",
            "\tgo\n",
            "El lenguaje favorito de phil es:\n",
            "\tpython\n",
            "\thaskell\n",
            "\tspark\n",
            "\tscala\n",
            "\tr\n"
          ]
        }
      ]
    },
    {
      "cell_type": "markdown",
      "source": [
        "---\n",
        "\n",
        "<b> Ejercicio 1</b>\n",
        "\n",
        "Cree tres nuevos diccionarios que representen a diferentes personas y almacene los tres diccionarios en una lista llamada personas. Recorra su lista de personas. Mientras recorre la lista, imprima todo lo que sabe sobre cada persona.\n"
      ],
      "metadata": {
        "id": "3JJTjbfhmwks"
      }
    },
    {
      "cell_type": "code",
      "source": [
        "my_dict = {'nombre' : 'Juan', 'genero':'hombre',    'edad': 58}\n",
        "\n",
        "for tupla in my_dict.items():\n",
        "  print(tupla)\n",
        "\n",
        "for key, desc in my_dict.items():\n",
        "  print(key, desc)\n",
        "\n",
        ""
      ],
      "metadata": {
        "colab": {
          "base_uri": "https://localhost:8080/"
        },
        "id": "AfSLmw9pRGXc",
        "outputId": "4023d492-ff79-44b8-a163-041d468482b2"
      },
      "execution_count": null,
      "outputs": [
        {
          "output_type": "stream",
          "name": "stdout",
          "text": [
            "nombre Juan\n",
            "genero hombre\n",
            "edad 58\n"
          ]
        }
      ]
    },
    {
      "cell_type": "code",
      "source": [
        "juan  = {'nombre' : 'Juan', 'genero':'hombre',    'edad': 58}\n",
        "maria = {'nombre' : 'Maria', 'genero':'femenino',  'edad':25}\n",
        "edgar = {'nombre' : 'Edgar', 'genero':'masculino', 'edad':40}\n",
        "\n",
        "diccionario_nombres = [juan, maria, edgar]\n",
        "\n",
        "for i in diccionario_nombres:\n",
        "  for a, b in i.items():\n",
        "    print(f\"El {a} de la persona es {i.get(a)}\")\n",
        ""
      ],
      "metadata": {
        "colab": {
          "base_uri": "https://localhost:8080/"
        },
        "id": "q_qAG_bpN3Au",
        "outputId": "0ad3a9ad-1fa3-48ac-8d08-54ff3302ff18"
      },
      "execution_count": null,
      "outputs": [
        {
          "output_type": "stream",
          "name": "stdout",
          "text": [
            "El nombre de la persona es Juan\n",
            "El genero de la persona es hombre\n",
            "El edad de la persona es 58\n",
            "El nombre de la persona es Maria\n",
            "El genero de la persona es femenino\n",
            "El edad de la persona es 25\n",
            "El nombre de la persona es Edgar\n",
            "El genero de la persona es masculino\n"
          ]
        }
      ]
    },
    {
      "cell_type": "code",
      "source": [
        "i"
      ],
      "metadata": {
        "colab": {
          "base_uri": "https://localhost:8080/"
        },
        "id": "0qR5cY8jPbae",
        "outputId": "bf33e761-4e59-4941-e59e-2143ce47c091"
      },
      "execution_count": null,
      "outputs": [
        {
          "output_type": "execute_result",
          "data": {
            "text/plain": [
              "{'genero': 'masculino', 'edad': 40}"
            ]
          },
          "metadata": {},
          "execution_count": 47
        }
      ]
    },
    {
      "cell_type": "markdown",
      "source": [
        "---\n",
        "\n",
        "<b> Ejercicio 2</b>\n",
        "\n",
        "Haga varios diccionarios, donde cada diccionario represente una mascota diferente. En cada diccionario, incluya el tipo de animal y el nombre del dueño. Guarde estos diccionarios en una lista llamada mascotas. A continuación, recorra su lista y, mientras lo hace, imprima todo lo que sepa sobre cada mascota."
      ],
      "metadata": {
        "id": "oU2XiQHAnAtB"
      }
    },
    {
      "cell_type": "code",
      "source": [
        "mascotas = {\n",
        "        'mascota_01': ['perro','chicky','mario'],\n",
        "        'mascota_02': ['gato','lolo','danny'],\n",
        "        'mascota_03': ['hamster','pili','raul'],\n",
        "        }\n",
        "\n",
        "for name, datos in mascotas.items():\n",
        "  print(f\"\\nLos datos de {name} son:\")\n",
        "\n",
        "  for dato in datos:\n",
        "    print(f\"\\t{dato}\")"
      ],
      "metadata": {
        "id": "emqHEgGAVyLP"
      },
      "execution_count": null,
      "outputs": []
    },
    {
      "cell_type": "code",
      "source": [
        "\n",
        "my_dict = {}\n",
        "while True:\n",
        "  message = input('Cuéntanos algo sobre ti! (presiona enter para continuar o exit para salir)')\n",
        "  if message == 'exit':\n",
        "    break\n",
        "  else:\n",
        "    key = input('ingrese su atributo:')\n",
        "    value = input('ingrese el valor de dicho atributo:')\n",
        "    my_dict[key] = value\n",
        "\n",
        "my_dict\n"
      ],
      "metadata": {
        "colab": {
          "base_uri": "https://localhost:8080/"
        },
        "id": "maqD6nHtTGzx",
        "outputId": "deafddfb-70e1-466e-da8c-7df9db955bb4"
      },
      "execution_count": null,
      "outputs": [
        {
          "name": "stdout",
          "output_type": "stream",
          "text": [
            "Cuéntanos algo sobre ti! (presiona enter para continuar o exit para salir)\n",
            "ingrese su atributo:edad\n",
            "ingrese el valor de dicho atributo:30\n",
            "Cuéntanos algo sobre ti! (presiona enter para continuar o exit para salir)\n",
            "ingrese su atributo:nombre\n",
            "ingrese el valor de dicho atributo:John\n",
            "Cuéntanos algo sobre ti! (presiona enter para continuar o exit para salir)profesion\n",
            "ingrese su atributo:profesion\n",
            "ingrese el valor de dicho atributo:ing. estadistico\n",
            "Cuéntanos algo sobre ti! (presiona enter para continuar o exit para salir)\n",
            "ingrese su atributo:pasatiempo\n",
            "ingrese el valor de dicho atributo:docente\n",
            "Cuéntanos algo sobre ti! (presiona enter para continuar o exit para salir)exit\n"
          ]
        },
        {
          "output_type": "execute_result",
          "data": {
            "text/plain": [
              "{'edad': '30',\n",
              " 'nombre': 'John',\n",
              " 'profesion': 'ing. estadistico',\n",
              " 'pasatiempo': 'docente'}"
            ]
          },
          "metadata": {},
          "execution_count": 61
        }
      ]
    },
    {
      "cell_type": "code",
      "source": [
        "my_dict"
      ],
      "metadata": {
        "colab": {
          "base_uri": "https://localhost:8080/"
        },
        "id": "6a34AogaUrPQ",
        "outputId": "2b886bb9-db9a-444c-d3e9-6d2c3a46a4bf"
      },
      "execution_count": null,
      "outputs": [
        {
          "output_type": "execute_result",
          "data": {
            "text/plain": [
              "{'edad': '30',\n",
              " 'nombre': 'John',\n",
              " 'profesion': 'ing. estadistico',\n",
              " 'pasatiempo': 'docente'}"
            ]
          },
          "metadata": {},
          "execution_count": 62
        }
      ]
    },
    {
      "cell_type": "code",
      "source": [
        "my_list = ['pez', 'gato', 'perro']\n",
        "\n",
        "enumerate(my_list)\n"
      ],
      "metadata": {
        "colab": {
          "base_uri": "https://localhost:8080/"
        },
        "id": "H_U1bcqEVDAl",
        "outputId": "c5080040-e346-43f6-d3df-125510d22469"
      },
      "execution_count": null,
      "outputs": [
        {
          "output_type": "execute_result",
          "data": {
            "text/plain": [
              "<enumerate at 0x7f9c49b94c80>"
            ]
          },
          "metadata": {},
          "execution_count": 63
        }
      ]
    },
    {
      "cell_type": "code",
      "source": [
        "for tupla in enumerate(my_list):\n",
        "  print(tupla)\n"
      ],
      "metadata": {
        "colab": {
          "base_uri": "https://localhost:8080/"
        },
        "id": "WObUdor-VC1P",
        "outputId": "ae1c36b0-43ec-4943-ef39-aec8fe42aeaf"
      },
      "execution_count": null,
      "outputs": [
        {
          "output_type": "stream",
          "name": "stdout",
          "text": [
            "(0, 'pez')\n",
            "(1, 'gato')\n",
            "(2, 'perro')\n"
          ]
        }
      ]
    },
    {
      "cell_type": "code",
      "source": [
        "[(0, 'pez'), (1, 'gato'), (2, 'perro')]\n",
        "\n"
      ],
      "metadata": {
        "id": "OkzgpWpoVX-C"
      },
      "execution_count": null,
      "outputs": []
    },
    {
      "cell_type": "markdown",
      "source": [
        "---\n",
        "\n",
        "<b> Ejercicio 3</b>\n",
        "\n",
        "Haga un diccionario llamado lugares_favoritos. Piense en tres nombres para usar como llaves en el diccionario y almacene de uno a tres lugares favoritos para cada persona. Recorre el diccionario e imprime el nombre de cada persona y sus lugares favoritos."
      ],
      "metadata": {
        "id": "YH2BoPpVnMLu"
      }
    },
    {
      "cell_type": "markdown",
      "source": [
        "---\n",
        "\n",
        "<b> Ejercicio 4</b>\n",
        "\n",
        "Haz un diccionario llamado ciudades. Usa los nombres de tres ciudades como llaves en tu diccionario. Cree un diccionario de información sobre cada ciudad e incluya el país en el que se encuentra la ciudad, su población aproximada y un dato sobre esa ciudad. Las claves para el diccionario de cada ciudad deben ser algo como país, población y hecho. Imprime el nombre de cada ciudad y toda la información que tengas almacenada sobre ella."
      ],
      "metadata": {
        "id": "YjkTHXHWnY-y"
      }
    },
    {
      "cell_type": "markdown",
      "source": [
        "---\n",
        "\n",
        "<b> Ejercicio 5</b>\n",
        "\n",
        "Ahora estamos trabajando con ejemplos que son lo suficientemente complejos como para que puedan extenderse de varias maneras. Utilice uno de los programas de este laboratorio y amplíelo agregando nuevas claves y valores, cambiando el contexto del programa o mejorando el formato de la salida.\n",
        "\n",
        "---"
      ],
      "metadata": {
        "id": "hMvNIar-nqAr"
      }
    },
    {
      "cell_type": "code",
      "source": [
        "set([1, 2, 3, 4]) - set([2, 4])\n"
      ],
      "metadata": {
        "id": "0ve3FIQTWRi2",
        "outputId": "b9506dab-49f9-4e8e-94ce-64b968785808",
        "colab": {
          "base_uri": "https://localhost:8080/"
        }
      },
      "execution_count": null,
      "outputs": [
        {
          "output_type": "execute_result",
          "data": {
            "text/plain": [
              "{1, 3}"
            ]
          },
          "metadata": {},
          "execution_count": 67
        }
      ]
    },
    {
      "cell_type": "markdown",
      "source": [
        "---\n",
        "\n",
        "# Gracias por completar este laboratorio!\n",
        "\n",
        "---\n"
      ],
      "metadata": {
        "id": "LY_03M0BoJZQ"
      }
    }
  ]
}